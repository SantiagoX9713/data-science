{
 "cells": [
  {
   "cell_type": "code",
   "execution_count": 2,
   "metadata": {},
   "outputs": [],
   "source": [
    "import pandas as pd\n",
    "import numpy as np"
   ]
  },
  {
   "cell_type": "code",
   "execution_count": 3,
   "metadata": {},
   "outputs": [],
   "source": [
    "df = pd.read_csv('./Sets/911.csv')"
   ]
  },
  {
   "cell_type": "markdown",
   "metadata": {},
   "source": [
    "# Datetime, Offset, Timedelta, Rolling"
   ]
  },
  {
   "cell_type": "markdown",
   "metadata": {},
   "source": [
    "https://pandas.pydata.org/pandas-docs/stable/user_guide/timeseries.html"
   ]
  },
  {
   "cell_type": "markdown",
   "metadata": {},
   "source": [
    "Esta libreta está DENSA."
   ]
  },
  {
   "cell_type": "markdown",
   "metadata": {},
   "source": [
    "## Datetime"
   ]
  },
  {
   "cell_type": "markdown",
   "metadata": {},
   "source": [
    "Checamos el tipo de columna donde debería de haber fechas."
   ]
  },
  {
   "cell_type": "code",
   "execution_count": 4,
   "metadata": {},
   "outputs": [
    {
     "data": {
      "text/plain": [
       "dtype('O')"
      ]
     },
     "execution_count": 4,
     "metadata": {},
     "output_type": "execute_result"
    }
   ],
   "source": [
    "df.timeStamp.dtypes"
   ]
  },
  {
   "cell_type": "markdown",
   "metadata": {},
   "source": [
    "No hay fechas, hay strings!"
   ]
  },
  {
   "cell_type": "code",
   "execution_count": 5,
   "metadata": {},
   "outputs": [
    {
     "data": {
      "text/plain": [
       "0        2015-12-10 17:40:00\n",
       "1        2015-12-10 17:40:00\n",
       "2        2015-12-10 17:40:00\n",
       "3        2015-12-10 17:40:01\n",
       "4        2015-12-10 17:40:01\n",
       "                ...         \n",
       "99487    2016-08-24 11:06:00\n",
       "99488    2016-08-24 11:07:02\n",
       "99489    2016-08-24 11:12:00\n",
       "99490    2016-08-24 11:17:01\n",
       "99491    2016-08-24 11:17:02\n",
       "Name: timeStamp, Length: 99492, dtype: object"
      ]
     },
     "execution_count": 5,
     "metadata": {},
     "output_type": "execute_result"
    }
   ],
   "source": [
    "df.timeStamp"
   ]
  },
  {
   "cell_type": "markdown",
   "metadata": {},
   "source": [
    "Con pd.to_datetime convertimos a string"
   ]
  },
  {
   "cell_type": "markdown",
   "metadata": {},
   "source": [
    "Ojo con dar el formato correcto. Revisa esta liga para conocer los formatos: https://strftime.org/"
   ]
  },
  {
   "cell_type": "code",
   "execution_count": 6,
   "metadata": {},
   "outputs": [
    {
     "data": {
      "text/plain": [
       "0       2015-12-10 17:40:00\n",
       "1       2015-12-10 17:40:00\n",
       "2       2015-12-10 17:40:00\n",
       "3       2015-12-10 17:40:01\n",
       "4       2015-12-10 17:40:01\n",
       "                ...        \n",
       "99487   2016-08-24 11:06:00\n",
       "99488   2016-08-24 11:07:02\n",
       "99489   2016-08-24 11:12:00\n",
       "99490   2016-08-24 11:17:01\n",
       "99491   2016-08-24 11:17:02\n",
       "Name: timeStamp, Length: 99492, dtype: datetime64[ns]"
      ]
     },
     "execution_count": 6,
     "metadata": {},
     "output_type": "execute_result"
    }
   ],
   "source": [
    "fechas = pd.to_datetime(df.timeStamp, format = '%Y-%m-%d %H:%M:%S')\n",
    "fechas"
   ]
  },
  {
   "cell_type": "markdown",
   "metadata": {},
   "source": [
    "Checamos dtype para confirmar que efectivamente tenemos una fecha"
   ]
  },
  {
   "cell_type": "code",
   "execution_count": 7,
   "metadata": {},
   "outputs": [
    {
     "data": {
      "text/plain": [
       "dtype('<M8[ns]')"
      ]
     },
     "execution_count": 7,
     "metadata": {},
     "output_type": "execute_result"
    }
   ],
   "source": [
    "fechas.dtypes"
   ]
  },
  {
   "cell_type": "markdown",
   "metadata": {},
   "source": [
    "Una fecha tiene los atributos siguientes:\n",
    "- Año\n",
    "- Mes\n",
    "- Día\n",
    "- Hora\n",
    "- Minuto\n",
    "- Segundo\n",
    "- Fracciones de segundo"
   ]
  },
  {
   "cell_type": "code",
   "execution_count": 8,
   "metadata": {},
   "outputs": [
    {
     "data": {
      "text/plain": [
       "(2015, 12, 10, 17, 40, 0)"
      ]
     },
     "execution_count": 8,
     "metadata": {},
     "output_type": "execute_result"
    }
   ],
   "source": [
    "fechas[0].year, fechas[0].month, fechas[0].day, fechas[0].hour, fechas[0].minute, fechas[0].second "
   ]
  },
  {
   "cell_type": "markdown",
   "metadata": {},
   "source": [
    "Si quieres aplicar un método de datetime a todo el dataset necesitas aplicar el .dt primero"
   ]
  },
  {
   "cell_type": "code",
   "execution_count": 9,
   "metadata": {},
   "outputs": [
    {
     "data": {
      "text/plain": [
       "0        2015\n",
       "1        2015\n",
       "2        2015\n",
       "3        2015\n",
       "4        2015\n",
       "         ... \n",
       "99487    2016\n",
       "99488    2016\n",
       "99489    2016\n",
       "99490    2016\n",
       "99491    2016\n",
       "Name: timeStamp, Length: 99492, dtype: int64"
      ]
     },
     "execution_count": 9,
     "metadata": {},
     "output_type": "execute_result"
    }
   ],
   "source": [
    "fechas.dt.year"
   ]
  },
  {
   "cell_type": "markdown",
   "metadata": {},
   "source": [
    "Además hay algunos métodos y otros atribuos útiles"
   ]
  },
  {
   "cell_type": "code",
   "execution_count": 9,
   "metadata": {},
   "outputs": [
    {
     "data": {
      "text/plain": [
       "0        December\n",
       "1        December\n",
       "2        December\n",
       "3        December\n",
       "4        December\n",
       "           ...   \n",
       "99487      August\n",
       "99488      August\n",
       "99489      August\n",
       "99490      August\n",
       "99491      August\n",
       "Name: timeStamp, Length: 99492, dtype: object"
      ]
     },
     "execution_count": 9,
     "metadata": {},
     "output_type": "execute_result"
    }
   ],
   "source": [
    "fechas.dt.month_name()"
   ]
  },
  {
   "cell_type": "code",
   "execution_count": 10,
   "metadata": {},
   "outputs": [
    {
     "data": {
      "text/plain": [
       "0         Thursday\n",
       "1         Thursday\n",
       "2         Thursday\n",
       "3         Thursday\n",
       "4         Thursday\n",
       "           ...    \n",
       "99487    Wednesday\n",
       "99488    Wednesday\n",
       "99489    Wednesday\n",
       "99490    Wednesday\n",
       "99491    Wednesday\n",
       "Name: timeStamp, Length: 99492, dtype: object"
      ]
     },
     "execution_count": 10,
     "metadata": {},
     "output_type": "execute_result"
    }
   ],
   "source": [
    "fechas.dt.day_name()"
   ]
  },
  {
   "cell_type": "markdown",
   "metadata": {},
   "source": [
    "Lunes es 0  \n",
    "Domingo es 6"
   ]
  },
  {
   "cell_type": "code",
   "execution_count": 11,
   "metadata": {},
   "outputs": [
    {
     "data": {
      "text/plain": [
       "0        3\n",
       "1        3\n",
       "2        3\n",
       "3        3\n",
       "4        3\n",
       "        ..\n",
       "99487    2\n",
       "99488    2\n",
       "99489    2\n",
       "99490    2\n",
       "99491    2\n",
       "Name: timeStamp, Length: 99492, dtype: int64"
      ]
     },
     "execution_count": 11,
     "metadata": {},
     "output_type": "execute_result"
    }
   ],
   "source": [
    "fechas.dt.weekday"
   ]
  },
  {
   "cell_type": "code",
   "execution_count": 12,
   "metadata": {},
   "outputs": [
    {
     "data": {
      "text/plain": [
       "0        344\n",
       "1        344\n",
       "2        344\n",
       "3        344\n",
       "4        344\n",
       "        ... \n",
       "99487    237\n",
       "99488    237\n",
       "99489    237\n",
       "99490    237\n",
       "99491    237\n",
       "Name: timeStamp, Length: 99492, dtype: int64"
      ]
     },
     "execution_count": 12,
     "metadata": {},
     "output_type": "execute_result"
    }
   ],
   "source": [
    "fechas.dt.dayofyear"
   ]
  },
  {
   "cell_type": "code",
   "execution_count": 13,
   "metadata": {},
   "outputs": [
    {
     "data": {
      "text/plain": [
       "0        4\n",
       "1        4\n",
       "2        4\n",
       "3        4\n",
       "4        4\n",
       "        ..\n",
       "99487    3\n",
       "99488    3\n",
       "99489    3\n",
       "99490    3\n",
       "99491    3\n",
       "Name: timeStamp, Length: 99492, dtype: int64"
      ]
     },
     "execution_count": 13,
     "metadata": {},
     "output_type": "execute_result"
    }
   ],
   "source": [
    "fechas.dt.quarter"
   ]
  },
  {
   "cell_type": "code",
   "execution_count": 14,
   "metadata": {},
   "outputs": [
    {
     "data": {
      "text/plain": [
       "0        31\n",
       "1        31\n",
       "2        31\n",
       "3        31\n",
       "4        31\n",
       "         ..\n",
       "99487    31\n",
       "99488    31\n",
       "99489    31\n",
       "99490    31\n",
       "99491    31\n",
       "Name: timeStamp, Length: 99492, dtype: int64"
      ]
     },
     "execution_count": 14,
     "metadata": {},
     "output_type": "execute_result"
    }
   ],
   "source": [
    "fechas.dt.days_in_month"
   ]
  },
  {
   "cell_type": "markdown",
   "metadata": {},
   "source": [
    "**En formato ISO lunes es 1, domingo es 7**\n",
    "\n",
    "**isocalendar puede fallar según la versión de pandas**"
   ]
  },
  {
   "cell_type": "code",
   "execution_count": 15,
   "metadata": {},
   "outputs": [
    {
     "data": {
      "text/html": [
       "<div>\n",
       "<style scoped>\n",
       "    .dataframe tbody tr th:only-of-type {\n",
       "        vertical-align: middle;\n",
       "    }\n",
       "\n",
       "    .dataframe tbody tr th {\n",
       "        vertical-align: top;\n",
       "    }\n",
       "\n",
       "    .dataframe thead th {\n",
       "        text-align: right;\n",
       "    }\n",
       "</style>\n",
       "<table border=\"1\" class=\"dataframe\">\n",
       "  <thead>\n",
       "    <tr style=\"text-align: right;\">\n",
       "      <th></th>\n",
       "      <th>year</th>\n",
       "      <th>week</th>\n",
       "      <th>day</th>\n",
       "    </tr>\n",
       "  </thead>\n",
       "  <tbody>\n",
       "    <tr>\n",
       "      <th>0</th>\n",
       "      <td>2015</td>\n",
       "      <td>50</td>\n",
       "      <td>4</td>\n",
       "    </tr>\n",
       "    <tr>\n",
       "      <th>1</th>\n",
       "      <td>2015</td>\n",
       "      <td>50</td>\n",
       "      <td>4</td>\n",
       "    </tr>\n",
       "    <tr>\n",
       "      <th>2</th>\n",
       "      <td>2015</td>\n",
       "      <td>50</td>\n",
       "      <td>4</td>\n",
       "    </tr>\n",
       "    <tr>\n",
       "      <th>3</th>\n",
       "      <td>2015</td>\n",
       "      <td>50</td>\n",
       "      <td>4</td>\n",
       "    </tr>\n",
       "    <tr>\n",
       "      <th>4</th>\n",
       "      <td>2015</td>\n",
       "      <td>50</td>\n",
       "      <td>4</td>\n",
       "    </tr>\n",
       "    <tr>\n",
       "      <th>...</th>\n",
       "      <td>...</td>\n",
       "      <td>...</td>\n",
       "      <td>...</td>\n",
       "    </tr>\n",
       "    <tr>\n",
       "      <th>99487</th>\n",
       "      <td>2016</td>\n",
       "      <td>34</td>\n",
       "      <td>3</td>\n",
       "    </tr>\n",
       "    <tr>\n",
       "      <th>99488</th>\n",
       "      <td>2016</td>\n",
       "      <td>34</td>\n",
       "      <td>3</td>\n",
       "    </tr>\n",
       "    <tr>\n",
       "      <th>99489</th>\n",
       "      <td>2016</td>\n",
       "      <td>34</td>\n",
       "      <td>3</td>\n",
       "    </tr>\n",
       "    <tr>\n",
       "      <th>99490</th>\n",
       "      <td>2016</td>\n",
       "      <td>34</td>\n",
       "      <td>3</td>\n",
       "    </tr>\n",
       "    <tr>\n",
       "      <th>99491</th>\n",
       "      <td>2016</td>\n",
       "      <td>34</td>\n",
       "      <td>3</td>\n",
       "    </tr>\n",
       "  </tbody>\n",
       "</table>\n",
       "<p>99492 rows × 3 columns</p>\n",
       "</div>"
      ],
      "text/plain": [
       "       year  week  day\n",
       "0      2015    50    4\n",
       "1      2015    50    4\n",
       "2      2015    50    4\n",
       "3      2015    50    4\n",
       "4      2015    50    4\n",
       "...     ...   ...  ...\n",
       "99487  2016    34    3\n",
       "99488  2016    34    3\n",
       "99489  2016    34    3\n",
       "99490  2016    34    3\n",
       "99491  2016    34    3\n",
       "\n",
       "[99492 rows x 3 columns]"
      ]
     },
     "execution_count": 15,
     "metadata": {},
     "output_type": "execute_result"
    }
   ],
   "source": [
    "fechas.dt.isocalendar()"
   ]
  },
  {
   "cell_type": "code",
   "execution_count": 16,
   "metadata": {},
   "outputs": [
    {
     "data": {
      "text/plain": [
       "0        50\n",
       "1        50\n",
       "2        50\n",
       "3        50\n",
       "4        50\n",
       "         ..\n",
       "99487    34\n",
       "99488    34\n",
       "99489    34\n",
       "99490    34\n",
       "99491    34\n",
       "Name: week, Length: 99492, dtype: UInt32"
      ]
     },
     "execution_count": 16,
     "metadata": {},
     "output_type": "execute_result"
    }
   ],
   "source": [
    "fechas.dt.isocalendar().week"
   ]
  },
  {
   "cell_type": "markdown",
   "metadata": {},
   "source": [
    "Puedes usar strftime para presentar la fecha en el formato que quieras (checa la liga a strftime que puse al inicio de la libreta)"
   ]
  },
  {
   "cell_type": "code",
   "execution_count": 17,
   "metadata": {},
   "outputs": [
    {
     "data": {
      "text/plain": [
       "0        10 de Dec del 2015 a las 17 con 40 minutos\n",
       "1        10 de Dec del 2015 a las 17 con 40 minutos\n",
       "2        10 de Dec del 2015 a las 17 con 40 minutos\n",
       "3        10 de Dec del 2015 a las 17 con 40 minutos\n",
       "4        10 de Dec del 2015 a las 17 con 40 minutos\n",
       "                            ...                    \n",
       "99487    24 de Aug del 2016 a las 11 con 06 minutos\n",
       "99488    24 de Aug del 2016 a las 11 con 07 minutos\n",
       "99489    24 de Aug del 2016 a las 11 con 12 minutos\n",
       "99490    24 de Aug del 2016 a las 11 con 17 minutos\n",
       "99491    24 de Aug del 2016 a las 11 con 17 minutos\n",
       "Name: timeStamp, Length: 99492, dtype: object"
      ]
     },
     "execution_count": 17,
     "metadata": {},
     "output_type": "execute_result"
    }
   ],
   "source": [
    "fechas.dt.strftime('%d de %b del %Y a las %H con %M minutos')"
   ]
  },
  {
   "cell_type": "markdown",
   "metadata": {},
   "source": [
    "**resample**"
   ]
  },
  {
   "cell_type": "markdown",
   "metadata": {},
   "source": [
    "Puedes homogenizar la frecuencia de tus entradas mediante un resample. Por ejemplo, en vez de tener 100 entradas para un día, quiero sólo el promedio de todas las entradas de ese día. Para esto primero necesitamos poner la fecha como índice y agregar todos los resultados de un día en un sólo número. Puedes checar todas las frecuencias por las que puedes resamplear tus fechas aquí: https://pandas.pydata.org/pandas-docs/stable/user_guide/timeseries.html#offset-aliases"
   ]
  },
  {
   "cell_type": "code",
   "execution_count": 18,
   "metadata": {},
   "outputs": [],
   "source": [
    "df_fechas = df.copy()\n",
    "df_fechas['fechas'] = fechas\n",
    "df_fechas.set_index('fechas',inplace=True)"
   ]
  },
  {
   "cell_type": "code",
   "execution_count": 19,
   "metadata": {},
   "outputs": [
    {
     "data": {
      "text/html": [
       "<div>\n",
       "<style scoped>\n",
       "    .dataframe tbody tr th:only-of-type {\n",
       "        vertical-align: middle;\n",
       "    }\n",
       "\n",
       "    .dataframe tbody tr th {\n",
       "        vertical-align: top;\n",
       "    }\n",
       "\n",
       "    .dataframe thead th {\n",
       "        text-align: right;\n",
       "    }\n",
       "</style>\n",
       "<table border=\"1\" class=\"dataframe\">\n",
       "  <thead>\n",
       "    <tr style=\"text-align: right;\">\n",
       "      <th></th>\n",
       "      <th>lat</th>\n",
       "      <th>lng</th>\n",
       "      <th>desc</th>\n",
       "      <th>zip</th>\n",
       "      <th>title</th>\n",
       "      <th>timeStamp</th>\n",
       "      <th>twp</th>\n",
       "      <th>addr</th>\n",
       "      <th>e</th>\n",
       "    </tr>\n",
       "    <tr>\n",
       "      <th>fechas</th>\n",
       "      <th></th>\n",
       "      <th></th>\n",
       "      <th></th>\n",
       "      <th></th>\n",
       "      <th></th>\n",
       "      <th></th>\n",
       "      <th></th>\n",
       "      <th></th>\n",
       "      <th></th>\n",
       "    </tr>\n",
       "  </thead>\n",
       "  <tbody>\n",
       "    <tr>\n",
       "      <th>2015-12-10 17:40:00</th>\n",
       "      <td>40.297876</td>\n",
       "      <td>-75.581294</td>\n",
       "      <td>REINDEER CT &amp; DEAD END;  NEW HANOVER; Station ...</td>\n",
       "      <td>19525.0</td>\n",
       "      <td>EMS: BACK PAINS/INJURY</td>\n",
       "      <td>2015-12-10 17:40:00</td>\n",
       "      <td>NEW HANOVER</td>\n",
       "      <td>REINDEER CT &amp; DEAD END</td>\n",
       "      <td>1</td>\n",
       "    </tr>\n",
       "    <tr>\n",
       "      <th>2015-12-10 17:40:00</th>\n",
       "      <td>40.258061</td>\n",
       "      <td>-75.264680</td>\n",
       "      <td>BRIAR PATH &amp; WHITEMARSH LN;  HATFIELD TOWNSHIP...</td>\n",
       "      <td>19446.0</td>\n",
       "      <td>EMS: DIABETIC EMERGENCY</td>\n",
       "      <td>2015-12-10 17:40:00</td>\n",
       "      <td>HATFIELD TOWNSHIP</td>\n",
       "      <td>BRIAR PATH &amp; WHITEMARSH LN</td>\n",
       "      <td>1</td>\n",
       "    </tr>\n",
       "    <tr>\n",
       "      <th>2015-12-10 17:40:00</th>\n",
       "      <td>40.121182</td>\n",
       "      <td>-75.351975</td>\n",
       "      <td>HAWS AVE; NORRISTOWN; 2015-12-10 @ 14:39:21-St...</td>\n",
       "      <td>19401.0</td>\n",
       "      <td>Fire: GAS-ODOR/LEAK</td>\n",
       "      <td>2015-12-10 17:40:00</td>\n",
       "      <td>NORRISTOWN</td>\n",
       "      <td>HAWS AVE</td>\n",
       "      <td>1</td>\n",
       "    </tr>\n",
       "  </tbody>\n",
       "</table>\n",
       "</div>"
      ],
      "text/plain": [
       "                           lat        lng  \\\n",
       "fechas                                      \n",
       "2015-12-10 17:40:00  40.297876 -75.581294   \n",
       "2015-12-10 17:40:00  40.258061 -75.264680   \n",
       "2015-12-10 17:40:00  40.121182 -75.351975   \n",
       "\n",
       "                                                                  desc  \\\n",
       "fechas                                                                   \n",
       "2015-12-10 17:40:00  REINDEER CT & DEAD END;  NEW HANOVER; Station ...   \n",
       "2015-12-10 17:40:00  BRIAR PATH & WHITEMARSH LN;  HATFIELD TOWNSHIP...   \n",
       "2015-12-10 17:40:00  HAWS AVE; NORRISTOWN; 2015-12-10 @ 14:39:21-St...   \n",
       "\n",
       "                         zip                    title            timeStamp  \\\n",
       "fechas                                                                       \n",
       "2015-12-10 17:40:00  19525.0   EMS: BACK PAINS/INJURY  2015-12-10 17:40:00   \n",
       "2015-12-10 17:40:00  19446.0  EMS: DIABETIC EMERGENCY  2015-12-10 17:40:00   \n",
       "2015-12-10 17:40:00  19401.0      Fire: GAS-ODOR/LEAK  2015-12-10 17:40:00   \n",
       "\n",
       "                                   twp                        addr  e  \n",
       "fechas                                                                 \n",
       "2015-12-10 17:40:00        NEW HANOVER      REINDEER CT & DEAD END  1  \n",
       "2015-12-10 17:40:00  HATFIELD TOWNSHIP  BRIAR PATH & WHITEMARSH LN  1  \n",
       "2015-12-10 17:40:00         NORRISTOWN                    HAWS AVE  1  "
      ]
     },
     "execution_count": 19,
     "metadata": {},
     "output_type": "execute_result"
    }
   ],
   "source": [
    "df_fechas.head(3)"
   ]
  },
  {
   "cell_type": "markdown",
   "metadata": {},
   "source": [
    "Notemos que el index tiene un freq = None!"
   ]
  },
  {
   "cell_type": "code",
   "execution_count": 20,
   "metadata": {},
   "outputs": [
    {
     "data": {
      "text/plain": [
       "DatetimeIndex(['2015-12-10 17:40:00', '2015-12-10 17:40:00',\n",
       "               '2015-12-10 17:40:00', '2015-12-10 17:40:01',\n",
       "               '2015-12-10 17:40:01', '2015-12-10 17:40:01',\n",
       "               '2015-12-10 17:40:01', '2015-12-10 17:40:01',\n",
       "               '2015-12-10 17:40:01', '2015-12-10 17:40:01',\n",
       "               ...\n",
       "               '2016-08-24 10:52:03', '2016-08-24 10:57:00',\n",
       "               '2016-08-24 10:57:00', '2016-08-24 10:57:01',\n",
       "               '2016-08-24 11:02:02', '2016-08-24 11:06:00',\n",
       "               '2016-08-24 11:07:02', '2016-08-24 11:12:00',\n",
       "               '2016-08-24 11:17:01', '2016-08-24 11:17:02'],\n",
       "              dtype='datetime64[ns]', name='fechas', length=99492, freq=None)"
      ]
     },
     "execution_count": 20,
     "metadata": {},
     "output_type": "execute_result"
    }
   ],
   "source": [
    "df_fechas.index"
   ]
  },
  {
   "cell_type": "markdown",
   "metadata": {},
   "source": [
    "Y ahora con un resample reajustamos todo a una frecuencia diaria."
   ]
  },
  {
   "cell_type": "code",
   "execution_count": 21,
   "metadata": {},
   "outputs": [
    {
     "data": {
      "text/html": [
       "<div>\n",
       "<style scoped>\n",
       "    .dataframe tbody tr th:only-of-type {\n",
       "        vertical-align: middle;\n",
       "    }\n",
       "\n",
       "    .dataframe tbody tr th {\n",
       "        vertical-align: top;\n",
       "    }\n",
       "\n",
       "    .dataframe thead th {\n",
       "        text-align: right;\n",
       "    }\n",
       "</style>\n",
       "<table border=\"1\" class=\"dataframe\">\n",
       "  <thead>\n",
       "    <tr style=\"text-align: right;\">\n",
       "      <th></th>\n",
       "      <th>lat</th>\n",
       "      <th>lng</th>\n",
       "      <th>zip</th>\n",
       "      <th>e</th>\n",
       "    </tr>\n",
       "    <tr>\n",
       "      <th>fechas</th>\n",
       "      <th></th>\n",
       "      <th></th>\n",
       "      <th></th>\n",
       "      <th></th>\n",
       "    </tr>\n",
       "  </thead>\n",
       "  <tbody>\n",
       "    <tr>\n",
       "      <th>2015-12-10</th>\n",
       "      <td>40.163933</td>\n",
       "      <td>-75.341467</td>\n",
       "      <td>19293.700000</td>\n",
       "      <td>1</td>\n",
       "    </tr>\n",
       "    <tr>\n",
       "      <th>2015-12-11</th>\n",
       "      <td>40.164502</td>\n",
       "      <td>-75.312044</td>\n",
       "      <td>19215.666667</td>\n",
       "      <td>1</td>\n",
       "    </tr>\n",
       "    <tr>\n",
       "      <th>2015-12-12</th>\n",
       "      <td>40.156301</td>\n",
       "      <td>-75.318920</td>\n",
       "      <td>19271.543544</td>\n",
       "      <td>1</td>\n",
       "    </tr>\n",
       "    <tr>\n",
       "      <th>2015-12-13</th>\n",
       "      <td>40.156752</td>\n",
       "      <td>-75.307261</td>\n",
       "      <td>19219.217857</td>\n",
       "      <td>1</td>\n",
       "    </tr>\n",
       "    <tr>\n",
       "      <th>2015-12-14</th>\n",
       "      <td>40.157897</td>\n",
       "      <td>-75.311976</td>\n",
       "      <td>19228.113695</td>\n",
       "      <td>1</td>\n",
       "    </tr>\n",
       "    <tr>\n",
       "      <th>...</th>\n",
       "      <td>...</td>\n",
       "      <td>...</td>\n",
       "      <td>...</td>\n",
       "      <td>...</td>\n",
       "    </tr>\n",
       "    <tr>\n",
       "      <th>2016-08-20</th>\n",
       "      <td>40.161065</td>\n",
       "      <td>-75.335873</td>\n",
       "      <td>19245.770609</td>\n",
       "      <td>1</td>\n",
       "    </tr>\n",
       "    <tr>\n",
       "      <th>2016-08-21</th>\n",
       "      <td>40.163826</td>\n",
       "      <td>-75.333098</td>\n",
       "      <td>19216.872910</td>\n",
       "      <td>1</td>\n",
       "    </tr>\n",
       "    <tr>\n",
       "      <th>2016-08-22</th>\n",
       "      <td>40.160923</td>\n",
       "      <td>-75.305836</td>\n",
       "      <td>19218.928571</td>\n",
       "      <td>1</td>\n",
       "    </tr>\n",
       "    <tr>\n",
       "      <th>2016-08-23</th>\n",
       "      <td>40.154767</td>\n",
       "      <td>-75.306079</td>\n",
       "      <td>19209.541026</td>\n",
       "      <td>1</td>\n",
       "    </tr>\n",
       "    <tr>\n",
       "      <th>2016-08-24</th>\n",
       "      <td>40.160704</td>\n",
       "      <td>-75.310376</td>\n",
       "      <td>19231.415094</td>\n",
       "      <td>1</td>\n",
       "    </tr>\n",
       "  </tbody>\n",
       "</table>\n",
       "<p>259 rows × 4 columns</p>\n",
       "</div>"
      ],
      "text/plain": [
       "                  lat        lng           zip  e\n",
       "fechas                                           \n",
       "2015-12-10  40.163933 -75.341467  19293.700000  1\n",
       "2015-12-11  40.164502 -75.312044  19215.666667  1\n",
       "2015-12-12  40.156301 -75.318920  19271.543544  1\n",
       "2015-12-13  40.156752 -75.307261  19219.217857  1\n",
       "2015-12-14  40.157897 -75.311976  19228.113695  1\n",
       "...               ...        ...           ... ..\n",
       "2016-08-20  40.161065 -75.335873  19245.770609  1\n",
       "2016-08-21  40.163826 -75.333098  19216.872910  1\n",
       "2016-08-22  40.160923 -75.305836  19218.928571  1\n",
       "2016-08-23  40.154767 -75.306079  19209.541026  1\n",
       "2016-08-24  40.160704 -75.310376  19231.415094  1\n",
       "\n",
       "[259 rows x 4 columns]"
      ]
     },
     "execution_count": 21,
     "metadata": {},
     "output_type": "execute_result"
    }
   ],
   "source": [
    "df_fechas.resample('d').mean()"
   ]
  },
  {
   "cell_type": "markdown",
   "metadata": {},
   "source": [
    "Notemos que el index tiene una freq diaria!"
   ]
  },
  {
   "cell_type": "code",
   "execution_count": 22,
   "metadata": {},
   "outputs": [
    {
     "data": {
      "text/plain": [
       "DatetimeIndex(['2015-12-10', '2015-12-11', '2015-12-12', '2015-12-13',\n",
       "               '2015-12-14', '2015-12-15', '2015-12-16', '2015-12-17',\n",
       "               '2015-12-18', '2015-12-19',\n",
       "               ...\n",
       "               '2016-08-15', '2016-08-16', '2016-08-17', '2016-08-18',\n",
       "               '2016-08-19', '2016-08-20', '2016-08-21', '2016-08-22',\n",
       "               '2016-08-23', '2016-08-24'],\n",
       "              dtype='datetime64[ns]', name='fechas', length=259, freq='D')"
      ]
     },
     "execution_count": 22,
     "metadata": {},
     "output_type": "execute_result"
    }
   ],
   "source": [
    "df_fechas.resample('d').mean().index"
   ]
  },
  {
   "cell_type": "markdown",
   "metadata": {},
   "source": [
    "Podemos usar multiplicadores como 3, referenciando a el promedio de cada 3 días"
   ]
  },
  {
   "cell_type": "code",
   "execution_count": 23,
   "metadata": {},
   "outputs": [
    {
     "data": {
      "text/html": [
       "<div>\n",
       "<style scoped>\n",
       "    .dataframe tbody tr th:only-of-type {\n",
       "        vertical-align: middle;\n",
       "    }\n",
       "\n",
       "    .dataframe tbody tr th {\n",
       "        vertical-align: top;\n",
       "    }\n",
       "\n",
       "    .dataframe thead th {\n",
       "        text-align: right;\n",
       "    }\n",
       "</style>\n",
       "<table border=\"1\" class=\"dataframe\">\n",
       "  <thead>\n",
       "    <tr style=\"text-align: right;\">\n",
       "      <th></th>\n",
       "      <th>lat</th>\n",
       "      <th>lng</th>\n",
       "      <th>zip</th>\n",
       "      <th>e</th>\n",
       "    </tr>\n",
       "    <tr>\n",
       "      <th>fechas</th>\n",
       "      <th></th>\n",
       "      <th></th>\n",
       "      <th></th>\n",
       "      <th></th>\n",
       "    </tr>\n",
       "  </thead>\n",
       "  <tbody>\n",
       "    <tr>\n",
       "      <th>2015-12-10</th>\n",
       "      <td>40.160815</td>\n",
       "      <td>-75.318777</td>\n",
       "      <td>19250.144909</td>\n",
       "      <td>1</td>\n",
       "    </tr>\n",
       "    <tr>\n",
       "      <th>2015-12-13</th>\n",
       "      <td>40.155474</td>\n",
       "      <td>-75.305738</td>\n",
       "      <td>19220.411652</td>\n",
       "      <td>1</td>\n",
       "    </tr>\n",
       "    <tr>\n",
       "      <th>2015-12-16</th>\n",
       "      <td>40.161286</td>\n",
       "      <td>-75.321510</td>\n",
       "      <td>19243.895431</td>\n",
       "      <td>1</td>\n",
       "    </tr>\n",
       "    <tr>\n",
       "      <th>2015-12-19</th>\n",
       "      <td>40.164556</td>\n",
       "      <td>-75.318909</td>\n",
       "      <td>19240.855464</td>\n",
       "      <td>1</td>\n",
       "    </tr>\n",
       "    <tr>\n",
       "      <th>2015-12-22</th>\n",
       "      <td>40.159656</td>\n",
       "      <td>-75.310632</td>\n",
       "      <td>19226.786831</td>\n",
       "      <td>1</td>\n",
       "    </tr>\n",
       "    <tr>\n",
       "      <th>...</th>\n",
       "      <td>...</td>\n",
       "      <td>...</td>\n",
       "      <td>...</td>\n",
       "      <td>...</td>\n",
       "    </tr>\n",
       "    <tr>\n",
       "      <th>2016-08-12</th>\n",
       "      <td>40.158638</td>\n",
       "      <td>-75.315371</td>\n",
       "      <td>19235.103755</td>\n",
       "      <td>1</td>\n",
       "    </tr>\n",
       "    <tr>\n",
       "      <th>2016-08-15</th>\n",
       "      <td>40.153484</td>\n",
       "      <td>-75.305107</td>\n",
       "      <td>19220.474544</td>\n",
       "      <td>1</td>\n",
       "    </tr>\n",
       "    <tr>\n",
       "      <th>2016-08-18</th>\n",
       "      <td>40.153531</td>\n",
       "      <td>-75.315151</td>\n",
       "      <td>19238.576763</td>\n",
       "      <td>1</td>\n",
       "    </tr>\n",
       "    <tr>\n",
       "      <th>2016-08-21</th>\n",
       "      <td>40.159517</td>\n",
       "      <td>-75.314139</td>\n",
       "      <td>19214.757073</td>\n",
       "      <td>1</td>\n",
       "    </tr>\n",
       "    <tr>\n",
       "      <th>2016-08-24</th>\n",
       "      <td>40.160704</td>\n",
       "      <td>-75.310376</td>\n",
       "      <td>19231.415094</td>\n",
       "      <td>1</td>\n",
       "    </tr>\n",
       "  </tbody>\n",
       "</table>\n",
       "<p>87 rows × 4 columns</p>\n",
       "</div>"
      ],
      "text/plain": [
       "                  lat        lng           zip  e\n",
       "fechas                                           \n",
       "2015-12-10  40.160815 -75.318777  19250.144909  1\n",
       "2015-12-13  40.155474 -75.305738  19220.411652  1\n",
       "2015-12-16  40.161286 -75.321510  19243.895431  1\n",
       "2015-12-19  40.164556 -75.318909  19240.855464  1\n",
       "2015-12-22  40.159656 -75.310632  19226.786831  1\n",
       "...               ...        ...           ... ..\n",
       "2016-08-12  40.158638 -75.315371  19235.103755  1\n",
       "2016-08-15  40.153484 -75.305107  19220.474544  1\n",
       "2016-08-18  40.153531 -75.315151  19238.576763  1\n",
       "2016-08-21  40.159517 -75.314139  19214.757073  1\n",
       "2016-08-24  40.160704 -75.310376  19231.415094  1\n",
       "\n",
       "[87 rows x 4 columns]"
      ]
     },
     "execution_count": 23,
     "metadata": {},
     "output_type": "execute_result"
    }
   ],
   "source": [
    "df_fechas.resample('3d').mean()"
   ]
  },
  {
   "cell_type": "markdown",
   "metadata": {},
   "source": [
    "El index se da cuenta de este cambio!"
   ]
  },
  {
   "cell_type": "code",
   "execution_count": 24,
   "metadata": {},
   "outputs": [
    {
     "data": {
      "text/plain": [
       "DatetimeIndex(['2015-12-10', '2015-12-13', '2015-12-16', '2015-12-19',\n",
       "               '2015-12-22', '2015-12-25', '2015-12-28', '2015-12-31',\n",
       "               '2016-01-03', '2016-01-06', '2016-01-09', '2016-01-12',\n",
       "               '2016-01-15', '2016-01-18', '2016-01-21', '2016-01-24',\n",
       "               '2016-01-27', '2016-01-30', '2016-02-02', '2016-02-05',\n",
       "               '2016-02-08', '2016-02-11', '2016-02-14', '2016-02-17',\n",
       "               '2016-02-20', '2016-02-23', '2016-02-26', '2016-02-29',\n",
       "               '2016-03-03', '2016-03-06', '2016-03-09', '2016-03-12',\n",
       "               '2016-03-15', '2016-03-18', '2016-03-21', '2016-03-24',\n",
       "               '2016-03-27', '2016-03-30', '2016-04-02', '2016-04-05',\n",
       "               '2016-04-08', '2016-04-11', '2016-04-14', '2016-04-17',\n",
       "               '2016-04-20', '2016-04-23', '2016-04-26', '2016-04-29',\n",
       "               '2016-05-02', '2016-05-05', '2016-05-08', '2016-05-11',\n",
       "               '2016-05-14', '2016-05-17', '2016-05-20', '2016-05-23',\n",
       "               '2016-05-26', '2016-05-29', '2016-06-01', '2016-06-04',\n",
       "               '2016-06-07', '2016-06-10', '2016-06-13', '2016-06-16',\n",
       "               '2016-06-19', '2016-06-22', '2016-06-25', '2016-06-28',\n",
       "               '2016-07-01', '2016-07-04', '2016-07-07', '2016-07-10',\n",
       "               '2016-07-13', '2016-07-16', '2016-07-19', '2016-07-22',\n",
       "               '2016-07-25', '2016-07-28', '2016-07-31', '2016-08-03',\n",
       "               '2016-08-06', '2016-08-09', '2016-08-12', '2016-08-15',\n",
       "               '2016-08-18', '2016-08-21', '2016-08-24'],\n",
       "              dtype='datetime64[ns]', name='fechas', freq='3D')"
      ]
     },
     "execution_count": 24,
     "metadata": {},
     "output_type": "execute_result"
    }
   ],
   "source": [
    "df_fechas.resample('3d').mean().index"
   ]
  },
  {
   "cell_type": "markdown",
   "metadata": {},
   "source": [
    "OJO si por ejemplo, la fecha 2015-12-13 (Año - mes - día) no existiera en el dataset por lo que no hay nada que promediar, resample marcaría un nan  "
   ]
  },
  {
   "cell_type": "markdown",
   "metadata": {},
   "source": [
    "Además si resampleamos a una frecuencia superior a nuestros datos (yo registro cada día pero quiero ver los valores por hora) vamos a tener nans. Es imposible obtener los datos exactos por hora si no los registro, pero mediante interpolación puedo hacer una aproximación aritmética (que probablemente esté mal de todos modos)."
   ]
  },
  {
   "cell_type": "markdown",
   "metadata": {},
   "source": [
    "Aquí estamos viendo las primeras 5 entradas a una resolucion de microsegundo. Como no tenermos datos entre microsegundos pandas nos da nans. Para poner valores ahí sólo tenemos que correr interpolate"
   ]
  },
  {
   "cell_type": "code",
   "execution_count": 25,
   "metadata": {},
   "outputs": [
    {
     "data": {
      "text/html": [
       "<div>\n",
       "<style scoped>\n",
       "    .dataframe tbody tr th:only-of-type {\n",
       "        vertical-align: middle;\n",
       "    }\n",
       "\n",
       "    .dataframe tbody tr th {\n",
       "        vertical-align: top;\n",
       "    }\n",
       "\n",
       "    .dataframe thead th {\n",
       "        text-align: right;\n",
       "    }\n",
       "</style>\n",
       "<table border=\"1\" class=\"dataframe\">\n",
       "  <thead>\n",
       "    <tr style=\"text-align: right;\">\n",
       "      <th></th>\n",
       "      <th>lat</th>\n",
       "      <th>lng</th>\n",
       "      <th>zip</th>\n",
       "      <th>e</th>\n",
       "    </tr>\n",
       "    <tr>\n",
       "      <th>fechas</th>\n",
       "      <th></th>\n",
       "      <th></th>\n",
       "      <th></th>\n",
       "      <th></th>\n",
       "    </tr>\n",
       "  </thead>\n",
       "  <tbody>\n",
       "    <tr>\n",
       "      <th>2015-12-10 17:40:00.000000</th>\n",
       "      <td>40.225706</td>\n",
       "      <td>-75.399316</td>\n",
       "      <td>19457.333333</td>\n",
       "      <td>1.0</td>\n",
       "    </tr>\n",
       "    <tr>\n",
       "      <th>2015-12-10 17:40:00.000001</th>\n",
       "      <td>NaN</td>\n",
       "      <td>NaN</td>\n",
       "      <td>NaN</td>\n",
       "      <td>NaN</td>\n",
       "    </tr>\n",
       "    <tr>\n",
       "      <th>2015-12-10 17:40:00.000002</th>\n",
       "      <td>NaN</td>\n",
       "      <td>NaN</td>\n",
       "      <td>NaN</td>\n",
       "      <td>NaN</td>\n",
       "    </tr>\n",
       "    <tr>\n",
       "      <th>2015-12-10 17:40:00.000003</th>\n",
       "      <td>NaN</td>\n",
       "      <td>NaN</td>\n",
       "      <td>NaN</td>\n",
       "      <td>NaN</td>\n",
       "    </tr>\n",
       "    <tr>\n",
       "      <th>2015-12-10 17:40:00.000004</th>\n",
       "      <td>NaN</td>\n",
       "      <td>NaN</td>\n",
       "      <td>NaN</td>\n",
       "      <td>NaN</td>\n",
       "    </tr>\n",
       "    <tr>\n",
       "      <th>...</th>\n",
       "      <td>...</td>\n",
       "      <td>...</td>\n",
       "      <td>...</td>\n",
       "      <td>...</td>\n",
       "    </tr>\n",
       "    <tr>\n",
       "      <th>2015-12-10 17:40:00.999996</th>\n",
       "      <td>NaN</td>\n",
       "      <td>NaN</td>\n",
       "      <td>NaN</td>\n",
       "      <td>NaN</td>\n",
       "    </tr>\n",
       "    <tr>\n",
       "      <th>2015-12-10 17:40:00.999997</th>\n",
       "      <td>NaN</td>\n",
       "      <td>NaN</td>\n",
       "      <td>NaN</td>\n",
       "      <td>NaN</td>\n",
       "    </tr>\n",
       "    <tr>\n",
       "      <th>2015-12-10 17:40:00.999998</th>\n",
       "      <td>NaN</td>\n",
       "      <td>NaN</td>\n",
       "      <td>NaN</td>\n",
       "      <td>NaN</td>\n",
       "    </tr>\n",
       "    <tr>\n",
       "      <th>2015-12-10 17:40:00.999999</th>\n",
       "      <td>NaN</td>\n",
       "      <td>NaN</td>\n",
       "      <td>NaN</td>\n",
       "      <td>NaN</td>\n",
       "    </tr>\n",
       "    <tr>\n",
       "      <th>2015-12-10 17:40:01.000000</th>\n",
       "      <td>40.183822</td>\n",
       "      <td>-75.473431</td>\n",
       "      <td>19401.000000</td>\n",
       "      <td>1.0</td>\n",
       "    </tr>\n",
       "  </tbody>\n",
       "</table>\n",
       "<p>1000001 rows × 4 columns</p>\n",
       "</div>"
      ],
      "text/plain": [
       "                                  lat        lng           zip    e\n",
       "fechas                                                             \n",
       "2015-12-10 17:40:00.000000  40.225706 -75.399316  19457.333333  1.0\n",
       "2015-12-10 17:40:00.000001        NaN        NaN           NaN  NaN\n",
       "2015-12-10 17:40:00.000002        NaN        NaN           NaN  NaN\n",
       "2015-12-10 17:40:00.000003        NaN        NaN           NaN  NaN\n",
       "2015-12-10 17:40:00.000004        NaN        NaN           NaN  NaN\n",
       "...                               ...        ...           ...  ...\n",
       "2015-12-10 17:40:00.999996        NaN        NaN           NaN  NaN\n",
       "2015-12-10 17:40:00.999997        NaN        NaN           NaN  NaN\n",
       "2015-12-10 17:40:00.999998        NaN        NaN           NaN  NaN\n",
       "2015-12-10 17:40:00.999999        NaN        NaN           NaN  NaN\n",
       "2015-12-10 17:40:01.000000  40.183822 -75.473431  19401.000000  1.0\n",
       "\n",
       "[1000001 rows x 4 columns]"
      ]
     },
     "execution_count": 25,
     "metadata": {},
     "output_type": "execute_result"
    }
   ],
   "source": [
    "df_fechas.iloc[0:5].resample('us').mean()"
   ]
  },
  {
   "cell_type": "markdown",
   "metadata": {},
   "source": [
    "https://pandas.pydata.org/pandas-docs/stable/reference/api/pandas.DataFrame.interpolate.html  para ver métodos diferentes al lineal para llenar la información"
   ]
  },
  {
   "cell_type": "code",
   "execution_count": 26,
   "metadata": {},
   "outputs": [
    {
     "data": {
      "text/html": [
       "<div>\n",
       "<style scoped>\n",
       "    .dataframe tbody tr th:only-of-type {\n",
       "        vertical-align: middle;\n",
       "    }\n",
       "\n",
       "    .dataframe tbody tr th {\n",
       "        vertical-align: top;\n",
       "    }\n",
       "\n",
       "    .dataframe thead th {\n",
       "        text-align: right;\n",
       "    }\n",
       "</style>\n",
       "<table border=\"1\" class=\"dataframe\">\n",
       "  <thead>\n",
       "    <tr style=\"text-align: right;\">\n",
       "      <th></th>\n",
       "      <th>lat</th>\n",
       "      <th>lng</th>\n",
       "      <th>zip</th>\n",
       "      <th>e</th>\n",
       "    </tr>\n",
       "    <tr>\n",
       "      <th>fechas</th>\n",
       "      <th></th>\n",
       "      <th></th>\n",
       "      <th></th>\n",
       "      <th></th>\n",
       "    </tr>\n",
       "  </thead>\n",
       "  <tbody>\n",
       "    <tr>\n",
       "      <th>2015-12-10 17:40:00.000000</th>\n",
       "      <td>40.225706</td>\n",
       "      <td>-75.399316</td>\n",
       "      <td>19457.333333</td>\n",
       "      <td>1.0</td>\n",
       "    </tr>\n",
       "    <tr>\n",
       "      <th>2015-12-10 17:40:00.000001</th>\n",
       "      <td>40.225706</td>\n",
       "      <td>-75.399316</td>\n",
       "      <td>19457.333277</td>\n",
       "      <td>1.0</td>\n",
       "    </tr>\n",
       "    <tr>\n",
       "      <th>2015-12-10 17:40:00.000002</th>\n",
       "      <td>40.225706</td>\n",
       "      <td>-75.399316</td>\n",
       "      <td>19457.333221</td>\n",
       "      <td>1.0</td>\n",
       "    </tr>\n",
       "    <tr>\n",
       "      <th>2015-12-10 17:40:00.000003</th>\n",
       "      <td>40.225706</td>\n",
       "      <td>-75.399316</td>\n",
       "      <td>19457.333164</td>\n",
       "      <td>1.0</td>\n",
       "    </tr>\n",
       "    <tr>\n",
       "      <th>2015-12-10 17:40:00.000004</th>\n",
       "      <td>40.225706</td>\n",
       "      <td>-75.399316</td>\n",
       "      <td>19457.333108</td>\n",
       "      <td>1.0</td>\n",
       "    </tr>\n",
       "    <tr>\n",
       "      <th>...</th>\n",
       "      <td>...</td>\n",
       "      <td>...</td>\n",
       "      <td>...</td>\n",
       "      <td>...</td>\n",
       "    </tr>\n",
       "    <tr>\n",
       "      <th>2015-12-10 17:40:00.999996</th>\n",
       "      <td>40.183823</td>\n",
       "      <td>-75.473431</td>\n",
       "      <td>19401.000225</td>\n",
       "      <td>1.0</td>\n",
       "    </tr>\n",
       "    <tr>\n",
       "      <th>2015-12-10 17:40:00.999997</th>\n",
       "      <td>40.183823</td>\n",
       "      <td>-75.473431</td>\n",
       "      <td>19401.000169</td>\n",
       "      <td>1.0</td>\n",
       "    </tr>\n",
       "    <tr>\n",
       "      <th>2015-12-10 17:40:00.999998</th>\n",
       "      <td>40.183823</td>\n",
       "      <td>-75.473431</td>\n",
       "      <td>19401.000113</td>\n",
       "      <td>1.0</td>\n",
       "    </tr>\n",
       "    <tr>\n",
       "      <th>2015-12-10 17:40:00.999999</th>\n",
       "      <td>40.183823</td>\n",
       "      <td>-75.473431</td>\n",
       "      <td>19401.000056</td>\n",
       "      <td>1.0</td>\n",
       "    </tr>\n",
       "    <tr>\n",
       "      <th>2015-12-10 17:40:01.000000</th>\n",
       "      <td>40.183822</td>\n",
       "      <td>-75.473431</td>\n",
       "      <td>19401.000000</td>\n",
       "      <td>1.0</td>\n",
       "    </tr>\n",
       "  </tbody>\n",
       "</table>\n",
       "<p>1000001 rows × 4 columns</p>\n",
       "</div>"
      ],
      "text/plain": [
       "                                  lat        lng           zip    e\n",
       "fechas                                                             \n",
       "2015-12-10 17:40:00.000000  40.225706 -75.399316  19457.333333  1.0\n",
       "2015-12-10 17:40:00.000001  40.225706 -75.399316  19457.333277  1.0\n",
       "2015-12-10 17:40:00.000002  40.225706 -75.399316  19457.333221  1.0\n",
       "2015-12-10 17:40:00.000003  40.225706 -75.399316  19457.333164  1.0\n",
       "2015-12-10 17:40:00.000004  40.225706 -75.399316  19457.333108  1.0\n",
       "...                               ...        ...           ...  ...\n",
       "2015-12-10 17:40:00.999996  40.183823 -75.473431  19401.000225  1.0\n",
       "2015-12-10 17:40:00.999997  40.183823 -75.473431  19401.000169  1.0\n",
       "2015-12-10 17:40:00.999998  40.183823 -75.473431  19401.000113  1.0\n",
       "2015-12-10 17:40:00.999999  40.183823 -75.473431  19401.000056  1.0\n",
       "2015-12-10 17:40:01.000000  40.183822 -75.473431  19401.000000  1.0\n",
       "\n",
       "[1000001 rows x 4 columns]"
      ]
     },
     "execution_count": 26,
     "metadata": {},
     "output_type": "execute_result"
    }
   ],
   "source": [
    "df_fechas.iloc[0:5].resample('us').mean().interpolate(method='linear')"
   ]
  },
  {
   "cell_type": "markdown",
   "metadata": {},
   "source": [
    "Además podemos hacer slices de las fechas como índice.  \n",
    "Ambos límites serán **inclusivos**."
   ]
  },
  {
   "cell_type": "code",
   "execution_count": 27,
   "metadata": {},
   "outputs": [
    {
     "data": {
      "text/html": [
       "<div>\n",
       "<style scoped>\n",
       "    .dataframe tbody tr th:only-of-type {\n",
       "        vertical-align: middle;\n",
       "    }\n",
       "\n",
       "    .dataframe tbody tr th {\n",
       "        vertical-align: top;\n",
       "    }\n",
       "\n",
       "    .dataframe thead th {\n",
       "        text-align: right;\n",
       "    }\n",
       "</style>\n",
       "<table border=\"1\" class=\"dataframe\">\n",
       "  <thead>\n",
       "    <tr style=\"text-align: right;\">\n",
       "      <th></th>\n",
       "      <th>lat</th>\n",
       "      <th>lng</th>\n",
       "      <th>desc</th>\n",
       "      <th>zip</th>\n",
       "      <th>title</th>\n",
       "      <th>timeStamp</th>\n",
       "      <th>twp</th>\n",
       "      <th>addr</th>\n",
       "      <th>e</th>\n",
       "    </tr>\n",
       "    <tr>\n",
       "      <th>fechas</th>\n",
       "      <th></th>\n",
       "      <th></th>\n",
       "      <th></th>\n",
       "      <th></th>\n",
       "      <th></th>\n",
       "      <th></th>\n",
       "      <th></th>\n",
       "      <th></th>\n",
       "      <th></th>\n",
       "    </tr>\n",
       "  </thead>\n",
       "  <tbody>\n",
       "    <tr>\n",
       "      <th>2015-12-12 00:02:00</th>\n",
       "      <td>40.235373</td>\n",
       "      <td>-75.224751</td>\n",
       "      <td>STUMP RD &amp; HORSHAM RD;  MONTGOMERY; Station 34...</td>\n",
       "      <td>19454.0</td>\n",
       "      <td>EMS: HEAD INJURY</td>\n",
       "      <td>2015-12-12 00:02:00</td>\n",
       "      <td>MONTGOMERY</td>\n",
       "      <td>STUMP RD &amp; HORSHAM RD</td>\n",
       "      <td>1</td>\n",
       "    </tr>\n",
       "    <tr>\n",
       "      <th>2015-12-12 00:17:00</th>\n",
       "      <td>40.011767</td>\n",
       "      <td>-75.294673</td>\n",
       "      <td>MONTGOMERY AVE &amp; WOODSIDE RD;  LOWER MERION; S...</td>\n",
       "      <td>19041.0</td>\n",
       "      <td>EMS: CARDIAC EMERGENCY</td>\n",
       "      <td>2015-12-12 00:17:00</td>\n",
       "      <td>LOWER MERION</td>\n",
       "      <td>MONTGOMERY AVE &amp; WOODSIDE RD</td>\n",
       "      <td>1</td>\n",
       "    </tr>\n",
       "    <tr>\n",
       "      <th>2015-12-12 00:27:01</th>\n",
       "      <td>40.124147</td>\n",
       "      <td>-75.060930</td>\n",
       "      <td>RED LION RD &amp; MURRAY AVE;  LOWER MORELAND; Sta...</td>\n",
       "      <td>19006.0</td>\n",
       "      <td>EMS: EMS SPECIAL SERVICE</td>\n",
       "      <td>2015-12-12 00:27:01</td>\n",
       "      <td>LOWER MORELAND</td>\n",
       "      <td>RED LION RD &amp; MURRAY AVE</td>\n",
       "      <td>1</td>\n",
       "    </tr>\n",
       "  </tbody>\n",
       "</table>\n",
       "</div>"
      ],
      "text/plain": [
       "                           lat        lng  \\\n",
       "fechas                                      \n",
       "2015-12-12 00:02:00  40.235373 -75.224751   \n",
       "2015-12-12 00:17:00  40.011767 -75.294673   \n",
       "2015-12-12 00:27:01  40.124147 -75.060930   \n",
       "\n",
       "                                                                  desc  \\\n",
       "fechas                                                                   \n",
       "2015-12-12 00:02:00  STUMP RD & HORSHAM RD;  MONTGOMERY; Station 34...   \n",
       "2015-12-12 00:17:00  MONTGOMERY AVE & WOODSIDE RD;  LOWER MERION; S...   \n",
       "2015-12-12 00:27:01  RED LION RD & MURRAY AVE;  LOWER MORELAND; Sta...   \n",
       "\n",
       "                         zip                     title            timeStamp  \\\n",
       "fechas                                                                        \n",
       "2015-12-12 00:02:00  19454.0          EMS: HEAD INJURY  2015-12-12 00:02:00   \n",
       "2015-12-12 00:17:00  19041.0    EMS: CARDIAC EMERGENCY  2015-12-12 00:17:00   \n",
       "2015-12-12 00:27:01  19006.0  EMS: EMS SPECIAL SERVICE  2015-12-12 00:27:01   \n",
       "\n",
       "                                twp                          addr  e  \n",
       "fechas                                                                \n",
       "2015-12-12 00:02:00      MONTGOMERY         STUMP RD & HORSHAM RD  1  \n",
       "2015-12-12 00:17:00    LOWER MERION  MONTGOMERY AVE & WOODSIDE RD  1  \n",
       "2015-12-12 00:27:01  LOWER MORELAND      RED LION RD & MURRAY AVE  1  "
      ]
     },
     "execution_count": 27,
     "metadata": {},
     "output_type": "execute_result"
    }
   ],
   "source": [
    "df_fechas.loc['2015-12-12':'2015-12-13'].head(3)"
   ]
  },
  {
   "cell_type": "markdown",
   "metadata": {},
   "source": [
    "Puedes incluso dar strings parciales y te regresará los índices correspondientes (en este caso, todo lo que haya ocurrido en diciembre 2015)"
   ]
  },
  {
   "cell_type": "code",
   "execution_count": 28,
   "metadata": {},
   "outputs": [
    {
     "data": {
      "text/html": [
       "<div>\n",
       "<style scoped>\n",
       "    .dataframe tbody tr th:only-of-type {\n",
       "        vertical-align: middle;\n",
       "    }\n",
       "\n",
       "    .dataframe tbody tr th {\n",
       "        vertical-align: top;\n",
       "    }\n",
       "\n",
       "    .dataframe thead th {\n",
       "        text-align: right;\n",
       "    }\n",
       "</style>\n",
       "<table border=\"1\" class=\"dataframe\">\n",
       "  <thead>\n",
       "    <tr style=\"text-align: right;\">\n",
       "      <th></th>\n",
       "      <th>lat</th>\n",
       "      <th>lng</th>\n",
       "      <th>desc</th>\n",
       "      <th>zip</th>\n",
       "      <th>title</th>\n",
       "      <th>timeStamp</th>\n",
       "      <th>twp</th>\n",
       "      <th>addr</th>\n",
       "      <th>e</th>\n",
       "    </tr>\n",
       "    <tr>\n",
       "      <th>fechas</th>\n",
       "      <th></th>\n",
       "      <th></th>\n",
       "      <th></th>\n",
       "      <th></th>\n",
       "      <th></th>\n",
       "      <th></th>\n",
       "      <th></th>\n",
       "      <th></th>\n",
       "      <th></th>\n",
       "    </tr>\n",
       "  </thead>\n",
       "  <tbody>\n",
       "    <tr>\n",
       "      <th>2015-12-10 17:40:00</th>\n",
       "      <td>40.297876</td>\n",
       "      <td>-75.581294</td>\n",
       "      <td>REINDEER CT &amp; DEAD END;  NEW HANOVER; Station ...</td>\n",
       "      <td>19525.0</td>\n",
       "      <td>EMS: BACK PAINS/INJURY</td>\n",
       "      <td>2015-12-10 17:40:00</td>\n",
       "      <td>NEW HANOVER</td>\n",
       "      <td>REINDEER CT &amp; DEAD END</td>\n",
       "      <td>1</td>\n",
       "    </tr>\n",
       "    <tr>\n",
       "      <th>2015-12-10 17:40:00</th>\n",
       "      <td>40.258061</td>\n",
       "      <td>-75.264680</td>\n",
       "      <td>BRIAR PATH &amp; WHITEMARSH LN;  HATFIELD TOWNSHIP...</td>\n",
       "      <td>19446.0</td>\n",
       "      <td>EMS: DIABETIC EMERGENCY</td>\n",
       "      <td>2015-12-10 17:40:00</td>\n",
       "      <td>HATFIELD TOWNSHIP</td>\n",
       "      <td>BRIAR PATH &amp; WHITEMARSH LN</td>\n",
       "      <td>1</td>\n",
       "    </tr>\n",
       "    <tr>\n",
       "      <th>2015-12-10 17:40:00</th>\n",
       "      <td>40.121182</td>\n",
       "      <td>-75.351975</td>\n",
       "      <td>HAWS AVE; NORRISTOWN; 2015-12-10 @ 14:39:21-St...</td>\n",
       "      <td>19401.0</td>\n",
       "      <td>Fire: GAS-ODOR/LEAK</td>\n",
       "      <td>2015-12-10 17:40:00</td>\n",
       "      <td>NORRISTOWN</td>\n",
       "      <td>HAWS AVE</td>\n",
       "      <td>1</td>\n",
       "    </tr>\n",
       "  </tbody>\n",
       "</table>\n",
       "</div>"
      ],
      "text/plain": [
       "                           lat        lng  \\\n",
       "fechas                                      \n",
       "2015-12-10 17:40:00  40.297876 -75.581294   \n",
       "2015-12-10 17:40:00  40.258061 -75.264680   \n",
       "2015-12-10 17:40:00  40.121182 -75.351975   \n",
       "\n",
       "                                                                  desc  \\\n",
       "fechas                                                                   \n",
       "2015-12-10 17:40:00  REINDEER CT & DEAD END;  NEW HANOVER; Station ...   \n",
       "2015-12-10 17:40:00  BRIAR PATH & WHITEMARSH LN;  HATFIELD TOWNSHIP...   \n",
       "2015-12-10 17:40:00  HAWS AVE; NORRISTOWN; 2015-12-10 @ 14:39:21-St...   \n",
       "\n",
       "                         zip                    title            timeStamp  \\\n",
       "fechas                                                                       \n",
       "2015-12-10 17:40:00  19525.0   EMS: BACK PAINS/INJURY  2015-12-10 17:40:00   \n",
       "2015-12-10 17:40:00  19446.0  EMS: DIABETIC EMERGENCY  2015-12-10 17:40:00   \n",
       "2015-12-10 17:40:00  19401.0      Fire: GAS-ODOR/LEAK  2015-12-10 17:40:00   \n",
       "\n",
       "                                   twp                        addr  e  \n",
       "fechas                                                                 \n",
       "2015-12-10 17:40:00        NEW HANOVER      REINDEER CT & DEAD END  1  \n",
       "2015-12-10 17:40:00  HATFIELD TOWNSHIP  BRIAR PATH & WHITEMARSH LN  1  \n",
       "2015-12-10 17:40:00         NORRISTOWN                    HAWS AVE  1  "
      ]
     },
     "execution_count": 28,
     "metadata": {},
     "output_type": "execute_result"
    }
   ],
   "source": [
    "df_fechas.loc['2015 - 12'].head(3)"
   ]
  },
  {
   "cell_type": "markdown",
   "metadata": {},
   "source": [
    "En vez de loc puedes usar:"
   ]
  },
  {
   "cell_type": "markdown",
   "metadata": {},
   "source": [
    "**at_time, between_time**"
   ]
  },
  {
   "cell_type": "code",
   "execution_count": 29,
   "metadata": {
    "scrolled": true
   },
   "outputs": [
    {
     "data": {
      "text/html": [
       "<div>\n",
       "<style scoped>\n",
       "    .dataframe tbody tr th:only-of-type {\n",
       "        vertical-align: middle;\n",
       "    }\n",
       "\n",
       "    .dataframe tbody tr th {\n",
       "        vertical-align: top;\n",
       "    }\n",
       "\n",
       "    .dataframe thead th {\n",
       "        text-align: right;\n",
       "    }\n",
       "</style>\n",
       "<table border=\"1\" class=\"dataframe\">\n",
       "  <thead>\n",
       "    <tr style=\"text-align: right;\">\n",
       "      <th></th>\n",
       "      <th>lat</th>\n",
       "      <th>lng</th>\n",
       "      <th>desc</th>\n",
       "      <th>zip</th>\n",
       "      <th>title</th>\n",
       "      <th>timeStamp</th>\n",
       "      <th>twp</th>\n",
       "      <th>addr</th>\n",
       "      <th>e</th>\n",
       "    </tr>\n",
       "    <tr>\n",
       "      <th>fechas</th>\n",
       "      <th></th>\n",
       "      <th></th>\n",
       "      <th></th>\n",
       "      <th></th>\n",
       "      <th></th>\n",
       "      <th></th>\n",
       "      <th></th>\n",
       "      <th></th>\n",
       "      <th></th>\n",
       "    </tr>\n",
       "  </thead>\n",
       "  <tbody>\n",
       "    <tr>\n",
       "      <th>2015-12-17 22:01:00</th>\n",
       "      <td>40.291967</td>\n",
       "      <td>-75.602027</td>\n",
       "      <td>BUCHERT RD &amp; DONALD DR;  NEW HANOVER; Station ...</td>\n",
       "      <td>19464.0</td>\n",
       "      <td>EMS: ASSAULT VICTIM</td>\n",
       "      <td>2015-12-17 22:01:00</td>\n",
       "      <td>NEW HANOVER</td>\n",
       "      <td>BUCHERT RD &amp; DONALD DR</td>\n",
       "      <td>1</td>\n",
       "    </tr>\n",
       "    <tr>\n",
       "      <th>2015-12-23 22:01:00</th>\n",
       "      <td>40.250721</td>\n",
       "      <td>-75.675935</td>\n",
       "      <td>GLASGOW ST &amp; SCHOOL LN; WEST POTTSGROVE; 2015-...</td>\n",
       "      <td>19464.0</td>\n",
       "      <td>Traffic: VEHICLE ACCIDENT -</td>\n",
       "      <td>2015-12-23 22:01:00</td>\n",
       "      <td>WEST POTTSGROVE</td>\n",
       "      <td>GLASGOW ST &amp; SCHOOL LN</td>\n",
       "      <td>1</td>\n",
       "    </tr>\n",
       "    <tr>\n",
       "      <th>2015-12-24 22:01:00</th>\n",
       "      <td>40.124807</td>\n",
       "      <td>-75.340743</td>\n",
       "      <td>MARKLEY ST &amp; STERIGERE ST;  NORRISTOWN; Statio...</td>\n",
       "      <td>19401.0</td>\n",
       "      <td>EMS: UNKNOWN MEDICAL EMERGENCY</td>\n",
       "      <td>2015-12-24 22:01:00</td>\n",
       "      <td>NORRISTOWN</td>\n",
       "      <td>MARKLEY ST &amp; STERIGERE ST</td>\n",
       "      <td>1</td>\n",
       "    </tr>\n",
       "    <tr>\n",
       "      <th>2015-12-24 22:01:00</th>\n",
       "      <td>40.112203</td>\n",
       "      <td>-75.422090</td>\n",
       "      <td>NESTER DR &amp; EVAN DR; LOWER PROVIDENCE; 2015-12...</td>\n",
       "      <td>19403.0</td>\n",
       "      <td>Fire: CARBON MONOXIDE DETECTOR</td>\n",
       "      <td>2015-12-24 22:01:00</td>\n",
       "      <td>LOWER PROVIDENCE</td>\n",
       "      <td>NESTER DR &amp; EVAN DR</td>\n",
       "      <td>1</td>\n",
       "    </tr>\n",
       "    <tr>\n",
       "      <th>2016-01-15 22:01:00</th>\n",
       "      <td>40.229008</td>\n",
       "      <td>-75.387852</td>\n",
       "      <td>NO LOCATION - NEIGHBORING COUNTY;  CHESTER COU...</td>\n",
       "      <td>NaN</td>\n",
       "      <td>EMS: SUBJECT IN PAIN</td>\n",
       "      <td>2016-01-15 22:01:00</td>\n",
       "      <td>CHESTER COUNTY</td>\n",
       "      <td>NO LOCATION - NEIGHBORING COUNTY</td>\n",
       "      <td>1</td>\n",
       "    </tr>\n",
       "  </tbody>\n",
       "</table>\n",
       "</div>"
      ],
      "text/plain": [
       "                           lat        lng  \\\n",
       "fechas                                      \n",
       "2015-12-17 22:01:00  40.291967 -75.602027   \n",
       "2015-12-23 22:01:00  40.250721 -75.675935   \n",
       "2015-12-24 22:01:00  40.124807 -75.340743   \n",
       "2015-12-24 22:01:00  40.112203 -75.422090   \n",
       "2016-01-15 22:01:00  40.229008 -75.387852   \n",
       "\n",
       "                                                                  desc  \\\n",
       "fechas                                                                   \n",
       "2015-12-17 22:01:00  BUCHERT RD & DONALD DR;  NEW HANOVER; Station ...   \n",
       "2015-12-23 22:01:00  GLASGOW ST & SCHOOL LN; WEST POTTSGROVE; 2015-...   \n",
       "2015-12-24 22:01:00  MARKLEY ST & STERIGERE ST;  NORRISTOWN; Statio...   \n",
       "2015-12-24 22:01:00  NESTER DR & EVAN DR; LOWER PROVIDENCE; 2015-12...   \n",
       "2016-01-15 22:01:00  NO LOCATION - NEIGHBORING COUNTY;  CHESTER COU...   \n",
       "\n",
       "                         zip                           title  \\\n",
       "fechas                                                         \n",
       "2015-12-17 22:01:00  19464.0             EMS: ASSAULT VICTIM   \n",
       "2015-12-23 22:01:00  19464.0     Traffic: VEHICLE ACCIDENT -   \n",
       "2015-12-24 22:01:00  19401.0  EMS: UNKNOWN MEDICAL EMERGENCY   \n",
       "2015-12-24 22:01:00  19403.0  Fire: CARBON MONOXIDE DETECTOR   \n",
       "2016-01-15 22:01:00      NaN            EMS: SUBJECT IN PAIN   \n",
       "\n",
       "                               timeStamp               twp  \\\n",
       "fechas                                                       \n",
       "2015-12-17 22:01:00  2015-12-17 22:01:00       NEW HANOVER   \n",
       "2015-12-23 22:01:00  2015-12-23 22:01:00   WEST POTTSGROVE   \n",
       "2015-12-24 22:01:00  2015-12-24 22:01:00        NORRISTOWN   \n",
       "2015-12-24 22:01:00  2015-12-24 22:01:00  LOWER PROVIDENCE   \n",
       "2016-01-15 22:01:00  2016-01-15 22:01:00    CHESTER COUNTY   \n",
       "\n",
       "                                                 addr  e  \n",
       "fechas                                                    \n",
       "2015-12-17 22:01:00            BUCHERT RD & DONALD DR  1  \n",
       "2015-12-23 22:01:00            GLASGOW ST & SCHOOL LN  1  \n",
       "2015-12-24 22:01:00         MARKLEY ST & STERIGERE ST  1  \n",
       "2015-12-24 22:01:00               NESTER DR & EVAN DR  1  \n",
       "2016-01-15 22:01:00  NO LOCATION - NEIGHBORING COUNTY  1  "
      ]
     },
     "execution_count": 29,
     "metadata": {},
     "output_type": "execute_result"
    }
   ],
   "source": [
    "df_fechas.at_time('22:01').head()"
   ]
  },
  {
   "cell_type": "code",
   "execution_count": 30,
   "metadata": {
    "scrolled": true
   },
   "outputs": [
    {
     "data": {
      "text/html": [
       "<div>\n",
       "<style scoped>\n",
       "    .dataframe tbody tr th:only-of-type {\n",
       "        vertical-align: middle;\n",
       "    }\n",
       "\n",
       "    .dataframe tbody tr th {\n",
       "        vertical-align: top;\n",
       "    }\n",
       "\n",
       "    .dataframe thead th {\n",
       "        text-align: right;\n",
       "    }\n",
       "</style>\n",
       "<table border=\"1\" class=\"dataframe\">\n",
       "  <thead>\n",
       "    <tr style=\"text-align: right;\">\n",
       "      <th></th>\n",
       "      <th>lat</th>\n",
       "      <th>lng</th>\n",
       "      <th>desc</th>\n",
       "      <th>zip</th>\n",
       "      <th>title</th>\n",
       "      <th>timeStamp</th>\n",
       "      <th>twp</th>\n",
       "      <th>addr</th>\n",
       "      <th>e</th>\n",
       "    </tr>\n",
       "    <tr>\n",
       "      <th>fechas</th>\n",
       "      <th></th>\n",
       "      <th></th>\n",
       "      <th></th>\n",
       "      <th></th>\n",
       "      <th></th>\n",
       "      <th></th>\n",
       "      <th></th>\n",
       "      <th></th>\n",
       "      <th></th>\n",
       "    </tr>\n",
       "  </thead>\n",
       "  <tbody>\n",
       "    <tr>\n",
       "      <th>2015-12-10 22:01:01</th>\n",
       "      <td>40.276304</td>\n",
       "      <td>-75.565024</td>\n",
       "      <td>SWAMP PIKE &amp; SANATOGA RD; NEW HANOVER; 2015-12...</td>\n",
       "      <td>19525.0</td>\n",
       "      <td>Traffic: DISABLED VEHICLE -</td>\n",
       "      <td>2015-12-10 22:01:01</td>\n",
       "      <td>NEW HANOVER</td>\n",
       "      <td>SWAMP PIKE &amp; SANATOGA RD</td>\n",
       "      <td>1</td>\n",
       "    </tr>\n",
       "    <tr>\n",
       "      <th>2015-12-10 22:02:01</th>\n",
       "      <td>40.095320</td>\n",
       "      <td>-75.193482</td>\n",
       "      <td>CHELTENHAM AVE &amp; DELPHINE RD; SPRINGFIELD; 201...</td>\n",
       "      <td>19038.0</td>\n",
       "      <td>Traffic: VEHICLE ACCIDENT -</td>\n",
       "      <td>2015-12-10 22:02:01</td>\n",
       "      <td>SPRINGFIELD</td>\n",
       "      <td>CHELTENHAM AVE &amp; DELPHINE RD</td>\n",
       "      <td>1</td>\n",
       "    </tr>\n",
       "    <tr>\n",
       "      <th>2015-12-11 22:02:01</th>\n",
       "      <td>40.087285</td>\n",
       "      <td>-75.293087</td>\n",
       "      <td>BUTLER PIKE &amp; E NORTH LN; WHITEMARSH; 2015-12-...</td>\n",
       "      <td>19428.0</td>\n",
       "      <td>Traffic: DISABLED VEHICLE -</td>\n",
       "      <td>2015-12-11 22:02:01</td>\n",
       "      <td>WHITEMARSH</td>\n",
       "      <td>BUTLER PIKE &amp; E NORTH LN</td>\n",
       "      <td>1</td>\n",
       "    </tr>\n",
       "    <tr>\n",
       "      <th>2015-12-12 22:02:01</th>\n",
       "      <td>40.172671</td>\n",
       "      <td>-75.402652</td>\n",
       "      <td>GERMANTOWN PIKE;  WORCESTER; Station 322; 2015...</td>\n",
       "      <td>NaN</td>\n",
       "      <td>EMS: VEHICLE ACCIDENT</td>\n",
       "      <td>2015-12-12 22:02:01</td>\n",
       "      <td>WORCESTER</td>\n",
       "      <td>GERMANTOWN PIKE</td>\n",
       "      <td>1</td>\n",
       "    </tr>\n",
       "    <tr>\n",
       "      <th>2015-12-12 22:02:01</th>\n",
       "      <td>40.087858</td>\n",
       "      <td>-75.254296</td>\n",
       "      <td>GERMANTOWN PIKE &amp; WESTAWAY DR; WHITEMARSH; 201...</td>\n",
       "      <td>19444.0</td>\n",
       "      <td>Fire: UNKNOWN TYPE FIRE</td>\n",
       "      <td>2015-12-12 22:02:01</td>\n",
       "      <td>WHITEMARSH</td>\n",
       "      <td>GERMANTOWN PIKE &amp; WESTAWAY DR</td>\n",
       "      <td>1</td>\n",
       "    </tr>\n",
       "    <tr>\n",
       "      <th>...</th>\n",
       "      <td>...</td>\n",
       "      <td>...</td>\n",
       "      <td>...</td>\n",
       "      <td>...</td>\n",
       "      <td>...</td>\n",
       "      <td>...</td>\n",
       "      <td>...</td>\n",
       "      <td>...</td>\n",
       "      <td>...</td>\n",
       "    </tr>\n",
       "    <tr>\n",
       "      <th>2016-08-17 22:02:01</th>\n",
       "      <td>40.289027</td>\n",
       "      <td>-75.399590</td>\n",
       "      <td>MAIN ST &amp; OLD SUMNEYTOWN PIKE;  LOWER SALFORD;...</td>\n",
       "      <td>19438.0</td>\n",
       "      <td>EMS: RESPIRATORY EMERGENCY</td>\n",
       "      <td>2016-08-17 22:02:01</td>\n",
       "      <td>LOWER SALFORD</td>\n",
       "      <td>MAIN ST &amp; OLD SUMNEYTOWN PIKE</td>\n",
       "      <td>1</td>\n",
       "    </tr>\n",
       "    <tr>\n",
       "      <th>2016-08-18 22:02:02</th>\n",
       "      <td>40.176082</td>\n",
       "      <td>-75.123128</td>\n",
       "      <td>BLAIR MILL RD &amp; HORSHAM RD; UPPER MORELAND; 20...</td>\n",
       "      <td>19044.0</td>\n",
       "      <td>Traffic: VEHICLE ACCIDENT -</td>\n",
       "      <td>2016-08-18 22:02:02</td>\n",
       "      <td>UPPER MORELAND</td>\n",
       "      <td>BLAIR MILL RD &amp; HORSHAM RD</td>\n",
       "      <td>1</td>\n",
       "    </tr>\n",
       "    <tr>\n",
       "      <th>2016-08-18 22:02:02</th>\n",
       "      <td>40.087568</td>\n",
       "      <td>-75.405559</td>\n",
       "      <td>GULPH RD &amp; RAMP I76 EB TO N GULPH RD; UPPER ME...</td>\n",
       "      <td>NaN</td>\n",
       "      <td>Traffic: VEHICLE ACCIDENT -</td>\n",
       "      <td>2016-08-18 22:02:02</td>\n",
       "      <td>UPPER MERION</td>\n",
       "      <td>GULPH RD &amp; RAMP I76 EB TO N GULPH RD</td>\n",
       "      <td>1</td>\n",
       "    </tr>\n",
       "    <tr>\n",
       "      <th>2016-08-20 22:02:01</th>\n",
       "      <td>40.240218</td>\n",
       "      <td>-75.288261</td>\n",
       "      <td>YORK AVE &amp; GREEN ST;  LANSDALE; Station 345B; ...</td>\n",
       "      <td>19446.0</td>\n",
       "      <td>EMS: OVERDOSE</td>\n",
       "      <td>2016-08-20 22:02:01</td>\n",
       "      <td>LANSDALE</td>\n",
       "      <td>YORK AVE &amp; GREEN ST</td>\n",
       "      <td>1</td>\n",
       "    </tr>\n",
       "    <tr>\n",
       "      <th>2016-08-21 22:02:00</th>\n",
       "      <td>40.131575</td>\n",
       "      <td>-75.154052</td>\n",
       "      <td>WOODSIDE CIR &amp; FITZWATERTOWN RD; UPPER DUBLIN;...</td>\n",
       "      <td>19025.0</td>\n",
       "      <td>Fire: FIRE INVESTIGATION</td>\n",
       "      <td>2016-08-21 22:02:00</td>\n",
       "      <td>UPPER DUBLIN</td>\n",
       "      <td>WOODSIDE CIR &amp; FITZWATERTOWN RD</td>\n",
       "      <td>1</td>\n",
       "    </tr>\n",
       "  </tbody>\n",
       "</table>\n",
       "<p>296 rows × 9 columns</p>\n",
       "</div>"
      ],
      "text/plain": [
       "                           lat        lng  \\\n",
       "fechas                                      \n",
       "2015-12-10 22:01:01  40.276304 -75.565024   \n",
       "2015-12-10 22:02:01  40.095320 -75.193482   \n",
       "2015-12-11 22:02:01  40.087285 -75.293087   \n",
       "2015-12-12 22:02:01  40.172671 -75.402652   \n",
       "2015-12-12 22:02:01  40.087858 -75.254296   \n",
       "...                        ...        ...   \n",
       "2016-08-17 22:02:01  40.289027 -75.399590   \n",
       "2016-08-18 22:02:02  40.176082 -75.123128   \n",
       "2016-08-18 22:02:02  40.087568 -75.405559   \n",
       "2016-08-20 22:02:01  40.240218 -75.288261   \n",
       "2016-08-21 22:02:00  40.131575 -75.154052   \n",
       "\n",
       "                                                                  desc  \\\n",
       "fechas                                                                   \n",
       "2015-12-10 22:01:01  SWAMP PIKE & SANATOGA RD; NEW HANOVER; 2015-12...   \n",
       "2015-12-10 22:02:01  CHELTENHAM AVE & DELPHINE RD; SPRINGFIELD; 201...   \n",
       "2015-12-11 22:02:01  BUTLER PIKE & E NORTH LN; WHITEMARSH; 2015-12-...   \n",
       "2015-12-12 22:02:01  GERMANTOWN PIKE;  WORCESTER; Station 322; 2015...   \n",
       "2015-12-12 22:02:01  GERMANTOWN PIKE & WESTAWAY DR; WHITEMARSH; 201...   \n",
       "...                                                                ...   \n",
       "2016-08-17 22:02:01  MAIN ST & OLD SUMNEYTOWN PIKE;  LOWER SALFORD;...   \n",
       "2016-08-18 22:02:02  BLAIR MILL RD & HORSHAM RD; UPPER MORELAND; 20...   \n",
       "2016-08-18 22:02:02  GULPH RD & RAMP I76 EB TO N GULPH RD; UPPER ME...   \n",
       "2016-08-20 22:02:01  YORK AVE & GREEN ST;  LANSDALE; Station 345B; ...   \n",
       "2016-08-21 22:02:00  WOODSIDE CIR & FITZWATERTOWN RD; UPPER DUBLIN;...   \n",
       "\n",
       "                         zip                        title  \\\n",
       "fechas                                                      \n",
       "2015-12-10 22:01:01  19525.0  Traffic: DISABLED VEHICLE -   \n",
       "2015-12-10 22:02:01  19038.0  Traffic: VEHICLE ACCIDENT -   \n",
       "2015-12-11 22:02:01  19428.0  Traffic: DISABLED VEHICLE -   \n",
       "2015-12-12 22:02:01      NaN        EMS: VEHICLE ACCIDENT   \n",
       "2015-12-12 22:02:01  19444.0      Fire: UNKNOWN TYPE FIRE   \n",
       "...                      ...                          ...   \n",
       "2016-08-17 22:02:01  19438.0   EMS: RESPIRATORY EMERGENCY   \n",
       "2016-08-18 22:02:02  19044.0  Traffic: VEHICLE ACCIDENT -   \n",
       "2016-08-18 22:02:02      NaN  Traffic: VEHICLE ACCIDENT -   \n",
       "2016-08-20 22:02:01  19446.0                EMS: OVERDOSE   \n",
       "2016-08-21 22:02:00  19025.0     Fire: FIRE INVESTIGATION   \n",
       "\n",
       "                               timeStamp             twp  \\\n",
       "fechas                                                     \n",
       "2015-12-10 22:01:01  2015-12-10 22:01:01     NEW HANOVER   \n",
       "2015-12-10 22:02:01  2015-12-10 22:02:01     SPRINGFIELD   \n",
       "2015-12-11 22:02:01  2015-12-11 22:02:01      WHITEMARSH   \n",
       "2015-12-12 22:02:01  2015-12-12 22:02:01       WORCESTER   \n",
       "2015-12-12 22:02:01  2015-12-12 22:02:01      WHITEMARSH   \n",
       "...                                  ...             ...   \n",
       "2016-08-17 22:02:01  2016-08-17 22:02:01   LOWER SALFORD   \n",
       "2016-08-18 22:02:02  2016-08-18 22:02:02  UPPER MORELAND   \n",
       "2016-08-18 22:02:02  2016-08-18 22:02:02    UPPER MERION   \n",
       "2016-08-20 22:02:01  2016-08-20 22:02:01        LANSDALE   \n",
       "2016-08-21 22:02:00  2016-08-21 22:02:00    UPPER DUBLIN   \n",
       "\n",
       "                                                     addr  e  \n",
       "fechas                                                        \n",
       "2015-12-10 22:01:01              SWAMP PIKE & SANATOGA RD  1  \n",
       "2015-12-10 22:02:01          CHELTENHAM AVE & DELPHINE RD  1  \n",
       "2015-12-11 22:02:01              BUTLER PIKE & E NORTH LN  1  \n",
       "2015-12-12 22:02:01                       GERMANTOWN PIKE  1  \n",
       "2015-12-12 22:02:01         GERMANTOWN PIKE & WESTAWAY DR  1  \n",
       "...                                                   ... ..  \n",
       "2016-08-17 22:02:01         MAIN ST & OLD SUMNEYTOWN PIKE  1  \n",
       "2016-08-18 22:02:02            BLAIR MILL RD & HORSHAM RD  1  \n",
       "2016-08-18 22:02:02  GULPH RD & RAMP I76 EB TO N GULPH RD  1  \n",
       "2016-08-20 22:02:01                   YORK AVE & GREEN ST  1  \n",
       "2016-08-21 22:02:00       WOODSIDE CIR & FITZWATERTOWN RD  1  \n",
       "\n",
       "[296 rows x 9 columns]"
      ]
     },
     "execution_count": 30,
     "metadata": {},
     "output_type": "execute_result"
    }
   ],
   "source": [
    "df_fechas.between_time('22:01','22:05')"
   ]
  },
  {
   "cell_type": "markdown",
   "metadata": {},
   "source": [
    "Si el índice es un datetime puedes usar los mismos métodos con este que como si fuera una columna"
   ]
  },
  {
   "cell_type": "code",
   "execution_count": 31,
   "metadata": {},
   "outputs": [
    {
     "data": {
      "text/plain": [
       "Int64Index([17, 17, 17, 17, 17, 17, 17, 17, 17, 17,\n",
       "            ...\n",
       "            10, 10, 10, 10, 11, 11, 11, 11, 11, 11],\n",
       "           dtype='int64', name='fechas', length=99492)"
      ]
     },
     "execution_count": 31,
     "metadata": {},
     "output_type": "execute_result"
    }
   ],
   "source": [
    "df_fechas.index.hour"
   ]
  },
  {
   "cell_type": "code",
   "execution_count": 32,
   "metadata": {},
   "outputs": [
    {
     "data": {
      "text/plain": [
       "Int64Index([12, 12, 12, 12, 12, 12, 12, 12, 12, 12,\n",
       "            ...\n",
       "             8,  8,  8,  8,  8,  8,  8,  8,  8,  8],\n",
       "           dtype='int64', name='fechas', length=99492)"
      ]
     },
     "execution_count": 32,
     "metadata": {},
     "output_type": "execute_result"
    }
   ],
   "source": [
    "df_fechas.index.month"
   ]
  },
  {
   "cell_type": "code",
   "execution_count": 33,
   "metadata": {},
   "outputs": [
    {
     "data": {
      "text/plain": [
       "Index(['Thursday', 'Thursday', 'Thursday', 'Thursday', 'Thursday', 'Thursday',\n",
       "       'Thursday', 'Thursday', 'Thursday', 'Thursday',\n",
       "       ...\n",
       "       'Wednesday', 'Wednesday', 'Wednesday', 'Wednesday', 'Wednesday',\n",
       "       'Wednesday', 'Wednesday', 'Wednesday', 'Wednesday', 'Wednesday'],\n",
       "      dtype='object', name='fechas', length=99492)"
      ]
     },
     "execution_count": 33,
     "metadata": {},
     "output_type": "execute_result"
    }
   ],
   "source": [
    "df_fechas.index.day_name()"
   ]
  },
  {
   "cell_type": "markdown",
   "metadata": {},
   "source": [
    "Un truco ligeramente avanzado, puedes obtener el promedio por día de todo tu dataset con este groupby."
   ]
  },
  {
   "cell_type": "code",
   "execution_count": 34,
   "metadata": {},
   "outputs": [
    {
     "data": {
      "text/html": [
       "<div>\n",
       "<style scoped>\n",
       "    .dataframe tbody tr th:only-of-type {\n",
       "        vertical-align: middle;\n",
       "    }\n",
       "\n",
       "    .dataframe tbody tr th {\n",
       "        vertical-align: top;\n",
       "    }\n",
       "\n",
       "    .dataframe thead th {\n",
       "        text-align: right;\n",
       "    }\n",
       "</style>\n",
       "<table border=\"1\" class=\"dataframe\">\n",
       "  <thead>\n",
       "    <tr style=\"text-align: right;\">\n",
       "      <th></th>\n",
       "      <th>lat</th>\n",
       "      <th>lng</th>\n",
       "      <th>zip</th>\n",
       "      <th>e</th>\n",
       "    </tr>\n",
       "    <tr>\n",
       "      <th>fechas</th>\n",
       "      <th></th>\n",
       "      <th></th>\n",
       "      <th></th>\n",
       "      <th></th>\n",
       "    </tr>\n",
       "  </thead>\n",
       "  <tbody>\n",
       "    <tr>\n",
       "      <th>April</th>\n",
       "      <td>40.158850</td>\n",
       "      <td>-75.315631</td>\n",
       "      <td>19235.209096</td>\n",
       "      <td>1</td>\n",
       "    </tr>\n",
       "    <tr>\n",
       "      <th>August</th>\n",
       "      <td>40.157054</td>\n",
       "      <td>-75.313496</td>\n",
       "      <td>19230.362615</td>\n",
       "      <td>1</td>\n",
       "    </tr>\n",
       "    <tr>\n",
       "      <th>December</th>\n",
       "      <td>40.161100</td>\n",
       "      <td>-75.315802</td>\n",
       "      <td>19234.623136</td>\n",
       "      <td>1</td>\n",
       "    </tr>\n",
       "    <tr>\n",
       "      <th>February</th>\n",
       "      <td>40.160668</td>\n",
       "      <td>-75.321789</td>\n",
       "      <td>19234.750453</td>\n",
       "      <td>1</td>\n",
       "    </tr>\n",
       "    <tr>\n",
       "      <th>January</th>\n",
       "      <td>40.163586</td>\n",
       "      <td>-75.321511</td>\n",
       "      <td>19244.238397</td>\n",
       "      <td>1</td>\n",
       "    </tr>\n",
       "    <tr>\n",
       "      <th>July</th>\n",
       "      <td>40.158710</td>\n",
       "      <td>-75.316873</td>\n",
       "      <td>19235.601335</td>\n",
       "      <td>1</td>\n",
       "    </tr>\n",
       "    <tr>\n",
       "      <th>June</th>\n",
       "      <td>40.156001</td>\n",
       "      <td>-75.315802</td>\n",
       "      <td>19246.380729</td>\n",
       "      <td>1</td>\n",
       "    </tr>\n",
       "    <tr>\n",
       "      <th>March</th>\n",
       "      <td>40.160263</td>\n",
       "      <td>-75.318207</td>\n",
       "      <td>19239.100974</td>\n",
       "      <td>1</td>\n",
       "    </tr>\n",
       "    <tr>\n",
       "      <th>May</th>\n",
       "      <td>40.159013</td>\n",
       "      <td>-75.316190</td>\n",
       "      <td>19235.053187</td>\n",
       "      <td>1</td>\n",
       "    </tr>\n",
       "  </tbody>\n",
       "</table>\n",
       "</div>"
      ],
      "text/plain": [
       "                lat        lng           zip  e\n",
       "fechas                                         \n",
       "April     40.158850 -75.315631  19235.209096  1\n",
       "August    40.157054 -75.313496  19230.362615  1\n",
       "December  40.161100 -75.315802  19234.623136  1\n",
       "February  40.160668 -75.321789  19234.750453  1\n",
       "January   40.163586 -75.321511  19244.238397  1\n",
       "July      40.158710 -75.316873  19235.601335  1\n",
       "June      40.156001 -75.315802  19246.380729  1\n",
       "March     40.160263 -75.318207  19239.100974  1\n",
       "May       40.159013 -75.316190  19235.053187  1"
      ]
     },
     "execution_count": 34,
     "metadata": {},
     "output_type": "execute_result"
    }
   ],
   "source": [
    "df_fechas.groupby(by = df_fechas.index.month_name()).mean()"
   ]
  },
  {
   "cell_type": "code",
   "execution_count": 35,
   "metadata": {},
   "outputs": [
    {
     "data": {
      "text/html": [
       "<div>\n",
       "<style scoped>\n",
       "    .dataframe tbody tr th:only-of-type {\n",
       "        vertical-align: middle;\n",
       "    }\n",
       "\n",
       "    .dataframe tbody tr th {\n",
       "        vertical-align: top;\n",
       "    }\n",
       "\n",
       "    .dataframe thead th {\n",
       "        text-align: right;\n",
       "    }\n",
       "</style>\n",
       "<table border=\"1\" class=\"dataframe\">\n",
       "  <thead>\n",
       "    <tr style=\"text-align: right;\">\n",
       "      <th></th>\n",
       "      <th>lat</th>\n",
       "      <th>lng</th>\n",
       "      <th>zip</th>\n",
       "      <th>e</th>\n",
       "    </tr>\n",
       "    <tr>\n",
       "      <th>fechas</th>\n",
       "      <th></th>\n",
       "      <th></th>\n",
       "      <th></th>\n",
       "      <th></th>\n",
       "    </tr>\n",
       "  </thead>\n",
       "  <tbody>\n",
       "    <tr>\n",
       "      <th>Friday</th>\n",
       "      <td>40.158524</td>\n",
       "      <td>-75.316152</td>\n",
       "      <td>19236.375029</td>\n",
       "      <td>1</td>\n",
       "    </tr>\n",
       "    <tr>\n",
       "      <th>Monday</th>\n",
       "      <td>40.158085</td>\n",
       "      <td>-75.312809</td>\n",
       "      <td>19237.572201</td>\n",
       "      <td>1</td>\n",
       "    </tr>\n",
       "    <tr>\n",
       "      <th>Saturday</th>\n",
       "      <td>40.161255</td>\n",
       "      <td>-75.325025</td>\n",
       "      <td>19243.702721</td>\n",
       "      <td>1</td>\n",
       "    </tr>\n",
       "    <tr>\n",
       "      <th>Sunday</th>\n",
       "      <td>40.162670</td>\n",
       "      <td>-75.326960</td>\n",
       "      <td>19238.662625</td>\n",
       "      <td>1</td>\n",
       "    </tr>\n",
       "    <tr>\n",
       "      <th>Thursday</th>\n",
       "      <td>40.158250</td>\n",
       "      <td>-75.317889</td>\n",
       "      <td>19242.754531</td>\n",
       "      <td>1</td>\n",
       "    </tr>\n",
       "    <tr>\n",
       "      <th>Tuesday</th>\n",
       "      <td>40.158984</td>\n",
       "      <td>-75.312341</td>\n",
       "      <td>19231.361854</td>\n",
       "      <td>1</td>\n",
       "    </tr>\n",
       "    <tr>\n",
       "      <th>Wednesday</th>\n",
       "      <td>40.159628</td>\n",
       "      <td>-75.313642</td>\n",
       "      <td>19234.273139</td>\n",
       "      <td>1</td>\n",
       "    </tr>\n",
       "  </tbody>\n",
       "</table>\n",
       "</div>"
      ],
      "text/plain": [
       "                 lat        lng           zip  e\n",
       "fechas                                          \n",
       "Friday     40.158524 -75.316152  19236.375029  1\n",
       "Monday     40.158085 -75.312809  19237.572201  1\n",
       "Saturday   40.161255 -75.325025  19243.702721  1\n",
       "Sunday     40.162670 -75.326960  19238.662625  1\n",
       "Thursday   40.158250 -75.317889  19242.754531  1\n",
       "Tuesday    40.158984 -75.312341  19231.361854  1\n",
       "Wednesday  40.159628 -75.313642  19234.273139  1"
      ]
     },
     "execution_count": 35,
     "metadata": {},
     "output_type": "execute_result"
    }
   ],
   "source": [
    "df_fechas.groupby(by = df_fechas.index.day_name()).mean()"
   ]
  },
  {
   "cell_type": "markdown",
   "metadata": {},
   "source": [
    "**Daterange**  \n",
    "Por si quieres crear un rango de fechas  \n",
    "Ojo con el parámetro freq. Experimentar con esto hará más fácil la siguiente sección"
   ]
  },
  {
   "cell_type": "markdown",
   "metadata": {},
   "source": [
    "Checa las frecuencias posibles aquí: https://pandas.pydata.org/pandas-docs/stable/user_guide/timeseries.html#timeseries-offset-aliases"
   ]
  },
  {
   "cell_type": "code",
   "execution_count": 36,
   "metadata": {},
   "outputs": [
    {
     "data": {
      "text/plain": [
       "DatetimeIndex(['2020-05-10 00:00:00', '2020-05-10 00:01:00',\n",
       "               '2020-05-10 00:02:00', '2020-05-10 00:03:00',\n",
       "               '2020-05-10 00:04:00', '2020-05-10 00:05:00',\n",
       "               '2020-05-10 00:06:00', '2020-05-10 00:07:00',\n",
       "               '2020-05-10 00:08:00', '2020-05-10 00:09:00',\n",
       "               ...\n",
       "               '2020-10-09 23:51:00', '2020-10-09 23:52:00',\n",
       "               '2020-10-09 23:53:00', '2020-10-09 23:54:00',\n",
       "               '2020-10-09 23:55:00', '2020-10-09 23:56:00',\n",
       "               '2020-10-09 23:57:00', '2020-10-09 23:58:00',\n",
       "               '2020-10-09 23:59:00', '2020-10-10 00:00:00'],\n",
       "              dtype='datetime64[ns]', length=220321, freq='T')"
      ]
     },
     "execution_count": 36,
     "metadata": {},
     "output_type": "execute_result"
    }
   ],
   "source": [
    "pd.date_range('5/10/2020','10/10/2020',freq='Min')"
   ]
  },
  {
   "cell_type": "code",
   "execution_count": 37,
   "metadata": {},
   "outputs": [
    {
     "data": {
      "text/plain": [
       "DatetimeIndex(['2020-05-10', '2020-05-11', '2020-05-12', '2020-05-13',\n",
       "               '2020-05-14', '2020-05-15', '2020-05-16', '2020-05-17',\n",
       "               '2020-05-18', '2020-05-19',\n",
       "               ...\n",
       "               '2020-10-01', '2020-10-02', '2020-10-03', '2020-10-04',\n",
       "               '2020-10-05', '2020-10-06', '2020-10-07', '2020-10-08',\n",
       "               '2020-10-09', '2020-10-10'],\n",
       "              dtype='datetime64[ns]', length=154, freq='D')"
      ]
     },
     "execution_count": 37,
     "metadata": {},
     "output_type": "execute_result"
    }
   ],
   "source": [
    "pd.date_range('5/10/2020','10/10/2020',freq='D')"
   ]
  },
  {
   "cell_type": "code",
   "execution_count": 38,
   "metadata": {},
   "outputs": [
    {
     "data": {
      "text/plain": [
       "DatetimeIndex(['2020-05-10', '2020-05-17', '2020-05-24', '2020-05-31',\n",
       "               '2020-06-07', '2020-06-14', '2020-06-21', '2020-06-28',\n",
       "               '2020-07-05', '2020-07-12', '2020-07-19', '2020-07-26',\n",
       "               '2020-08-02', '2020-08-09', '2020-08-16', '2020-08-23',\n",
       "               '2020-08-30', '2020-09-06', '2020-09-13', '2020-09-20',\n",
       "               '2020-09-27', '2020-10-04'],\n",
       "              dtype='datetime64[ns]', freq='W-SUN')"
      ]
     },
     "execution_count": 38,
     "metadata": {},
     "output_type": "execute_result"
    }
   ],
   "source": [
    "pd.date_range('5/10/2020','10/10/2020',freq='W')"
   ]
  },
  {
   "cell_type": "markdown",
   "metadata": {},
   "source": [
    "Diez semanas. Por qué no?"
   ]
  },
  {
   "cell_type": "code",
   "execution_count": 39,
   "metadata": {},
   "outputs": [
    {
     "data": {
      "text/plain": [
       "DatetimeIndex(['2020-05-10', '2020-07-19', '2020-09-27'], dtype='datetime64[ns]', freq='10W-SUN')"
      ]
     },
     "execution_count": 39,
     "metadata": {},
     "output_type": "execute_result"
    }
   ],
   "source": [
    "pd.date_range('5/10/2020','10/10/2020',freq='10W')"
   ]
  },
  {
   "cell_type": "code",
   "execution_count": 40,
   "metadata": {},
   "outputs": [
    {
     "data": {
      "text/plain": [
       "DatetimeIndex(['2020-05-31', '2020-06-30', '2020-07-31', '2020-08-31',\n",
       "               '2020-09-30'],\n",
       "              dtype='datetime64[ns]', freq='M')"
      ]
     },
     "execution_count": 40,
     "metadata": {},
     "output_type": "execute_result"
    }
   ],
   "source": [
    "pd.date_range('5/10/2020','10/10/2020',freq='M')"
   ]
  },
  {
   "cell_type": "code",
   "execution_count": 41,
   "metadata": {},
   "outputs": [
    {
     "data": {
      "text/plain": [
       "DatetimeIndex(['2020-06-30', '2020-09-30'], dtype='datetime64[ns]', freq='Q-DEC')"
      ]
     },
     "execution_count": 41,
     "metadata": {},
     "output_type": "execute_result"
    }
   ],
   "source": [
    "pd.date_range('5/10/2020','10/10/2020',freq='Q')"
   ]
  },
  {
   "cell_type": "code",
   "execution_count": 42,
   "metadata": {},
   "outputs": [
    {
     "data": {
      "text/plain": [
       "DatetimeIndex([], dtype='datetime64[ns]', freq='A-DEC')"
      ]
     },
     "execution_count": 42,
     "metadata": {},
     "output_type": "execute_result"
    }
   ],
   "source": [
    "pd.date_range('5/10/2020','10/10/2020',freq='Y')"
   ]
  },
  {
   "cell_type": "markdown",
   "metadata": {},
   "source": [
    "Por inicio y fin"
   ]
  },
  {
   "cell_type": "code",
   "execution_count": 43,
   "metadata": {},
   "outputs": [
    {
     "data": {
      "text/plain": [
       "DatetimeIndex(['2020-12-31', '2021-01-31', '2021-02-28', '2021-03-31',\n",
       "               '2021-04-30', '2021-05-31', '2021-06-30', '2021-07-31',\n",
       "               '2021-08-31', '2021-09-30', '2021-10-31', '2021-11-30',\n",
       "               '2021-12-31', '2022-01-31', '2022-02-28'],\n",
       "              dtype='datetime64[ns]', freq='M')"
      ]
     },
     "execution_count": 43,
     "metadata": {},
     "output_type": "execute_result"
    }
   ],
   "source": [
    "pd.date_range(start='dec 2020', periods = 15, freq = 'M')"
   ]
  },
  {
   "cell_type": "code",
   "execution_count": 44,
   "metadata": {},
   "outputs": [
    {
     "data": {
      "text/plain": [
       "DatetimeIndex(['2020-11-30', '2020-12-31', '2021-01-31', '2021-02-28',\n",
       "               '2021-03-31', '2021-04-30', '2021-05-31', '2021-06-30',\n",
       "               '2021-07-31', '2021-08-31', '2021-09-30', '2021-10-31',\n",
       "               '2021-11-30', '2021-12-31', '2022-01-31'],\n",
       "              dtype='datetime64[ns]', freq='M')"
      ]
     },
     "execution_count": 44,
     "metadata": {},
     "output_type": "execute_result"
    }
   ],
   "source": [
    "pd.date_range(end='feb 2022', periods = 15, freq = 'M')"
   ]
  },
  {
   "cell_type": "code",
   "execution_count": 45,
   "metadata": {},
   "outputs": [
    {
     "data": {
      "text/plain": [
       "DatetimeIndex(['2020-12-29', '2020-12-30', '2020-12-31', '2021-01-01'], dtype='datetime64[ns]', freq='D')"
      ]
     },
     "execution_count": 45,
     "metadata": {},
     "output_type": "execute_result"
    }
   ],
   "source": [
    "pd.date_range(end='jan 2021',periods=4,freq='D')"
   ]
  },
  {
   "cell_type": "markdown",
   "metadata": {},
   "source": [
    "**Asfreq**"
   ]
  },
  {
   "cell_type": "code",
   "execution_count": 46,
   "metadata": {},
   "outputs": [
    {
     "data": {
      "text/html": [
       "<div>\n",
       "<style scoped>\n",
       "    .dataframe tbody tr th:only-of-type {\n",
       "        vertical-align: middle;\n",
       "    }\n",
       "\n",
       "    .dataframe tbody tr th {\n",
       "        vertical-align: top;\n",
       "    }\n",
       "\n",
       "    .dataframe thead th {\n",
       "        text-align: right;\n",
       "    }\n",
       "</style>\n",
       "<table border=\"1\" class=\"dataframe\">\n",
       "  <thead>\n",
       "    <tr style=\"text-align: right;\">\n",
       "      <th></th>\n",
       "      <th>lat</th>\n",
       "      <th>lng</th>\n",
       "      <th>desc</th>\n",
       "      <th>zip</th>\n",
       "      <th>title</th>\n",
       "      <th>timeStamp</th>\n",
       "      <th>twp</th>\n",
       "      <th>addr</th>\n",
       "      <th>e</th>\n",
       "    </tr>\n",
       "    <tr>\n",
       "      <th>fechas</th>\n",
       "      <th></th>\n",
       "      <th></th>\n",
       "      <th></th>\n",
       "      <th></th>\n",
       "      <th></th>\n",
       "      <th></th>\n",
       "      <th></th>\n",
       "      <th></th>\n",
       "      <th></th>\n",
       "    </tr>\n",
       "  </thead>\n",
       "  <tbody>\n",
       "    <tr>\n",
       "      <th>2015-12-10 17:40:00</th>\n",
       "      <td>40.297876</td>\n",
       "      <td>-75.581294</td>\n",
       "      <td>REINDEER CT &amp; DEAD END;  NEW HANOVER; Station ...</td>\n",
       "      <td>19525.0</td>\n",
       "      <td>EMS: BACK PAINS/INJURY</td>\n",
       "      <td>2015-12-10 17:40:00</td>\n",
       "      <td>NEW HANOVER</td>\n",
       "      <td>REINDEER CT &amp; DEAD END</td>\n",
       "      <td>1</td>\n",
       "    </tr>\n",
       "    <tr>\n",
       "      <th>2015-12-10 17:40:00</th>\n",
       "      <td>40.258061</td>\n",
       "      <td>-75.264680</td>\n",
       "      <td>BRIAR PATH &amp; WHITEMARSH LN;  HATFIELD TOWNSHIP...</td>\n",
       "      <td>19446.0</td>\n",
       "      <td>EMS: DIABETIC EMERGENCY</td>\n",
       "      <td>2015-12-10 17:40:00</td>\n",
       "      <td>HATFIELD TOWNSHIP</td>\n",
       "      <td>BRIAR PATH &amp; WHITEMARSH LN</td>\n",
       "      <td>1</td>\n",
       "    </tr>\n",
       "    <tr>\n",
       "      <th>2015-12-10 17:40:00</th>\n",
       "      <td>40.121182</td>\n",
       "      <td>-75.351975</td>\n",
       "      <td>HAWS AVE; NORRISTOWN; 2015-12-10 @ 14:39:21-St...</td>\n",
       "      <td>19401.0</td>\n",
       "      <td>Fire: GAS-ODOR/LEAK</td>\n",
       "      <td>2015-12-10 17:40:00</td>\n",
       "      <td>NORRISTOWN</td>\n",
       "      <td>HAWS AVE</td>\n",
       "      <td>1</td>\n",
       "    </tr>\n",
       "    <tr>\n",
       "      <th>2015-12-10 17:40:01</th>\n",
       "      <td>40.116153</td>\n",
       "      <td>-75.343513</td>\n",
       "      <td>AIRY ST &amp; SWEDE ST;  NORRISTOWN; Station 308A;...</td>\n",
       "      <td>19401.0</td>\n",
       "      <td>EMS: CARDIAC EMERGENCY</td>\n",
       "      <td>2015-12-10 17:40:01</td>\n",
       "      <td>NORRISTOWN</td>\n",
       "      <td>AIRY ST &amp; SWEDE ST</td>\n",
       "      <td>1</td>\n",
       "    </tr>\n",
       "    <tr>\n",
       "      <th>2015-12-10 17:40:01</th>\n",
       "      <td>40.251492</td>\n",
       "      <td>-75.603350</td>\n",
       "      <td>CHERRYWOOD CT &amp; DEAD END;  LOWER POTTSGROVE; S...</td>\n",
       "      <td>NaN</td>\n",
       "      <td>EMS: DIZZINESS</td>\n",
       "      <td>2015-12-10 17:40:01</td>\n",
       "      <td>LOWER POTTSGROVE</td>\n",
       "      <td>CHERRYWOOD CT &amp; DEAD END</td>\n",
       "      <td>1</td>\n",
       "    </tr>\n",
       "    <tr>\n",
       "      <th>2015-12-10 17:40:01</th>\n",
       "      <td>40.253473</td>\n",
       "      <td>-75.283245</td>\n",
       "      <td>CANNON AVE &amp; W 9TH ST;  LANSDALE; Station 345;...</td>\n",
       "      <td>19446.0</td>\n",
       "      <td>EMS: HEAD INJURY</td>\n",
       "      <td>2015-12-10 17:40:01</td>\n",
       "      <td>LANSDALE</td>\n",
       "      <td>CANNON AVE &amp; W 9TH ST</td>\n",
       "      <td>1</td>\n",
       "    </tr>\n",
       "    <tr>\n",
       "      <th>2015-12-10 17:40:01</th>\n",
       "      <td>40.182111</td>\n",
       "      <td>-75.127795</td>\n",
       "      <td>LAUREL AVE &amp; OAKDALE AVE;  HORSHAM; Station 35...</td>\n",
       "      <td>19044.0</td>\n",
       "      <td>EMS: NAUSEA/VOMITING</td>\n",
       "      <td>2015-12-10 17:40:01</td>\n",
       "      <td>HORSHAM</td>\n",
       "      <td>LAUREL AVE &amp; OAKDALE AVE</td>\n",
       "      <td>1</td>\n",
       "    </tr>\n",
       "    <tr>\n",
       "      <th>2015-12-10 17:40:01</th>\n",
       "      <td>40.217286</td>\n",
       "      <td>-75.405182</td>\n",
       "      <td>COLLEGEVILLE RD &amp; LYWISKI RD;  SKIPPACK; Stati...</td>\n",
       "      <td>19426.0</td>\n",
       "      <td>EMS: RESPIRATORY EMERGENCY</td>\n",
       "      <td>2015-12-10 17:40:01</td>\n",
       "      <td>SKIPPACK</td>\n",
       "      <td>COLLEGEVILLE RD &amp; LYWISKI RD</td>\n",
       "      <td>1</td>\n",
       "    </tr>\n",
       "    <tr>\n",
       "      <th>2015-12-10 17:40:01</th>\n",
       "      <td>40.289027</td>\n",
       "      <td>-75.399590</td>\n",
       "      <td>MAIN ST &amp; OLD SUMNEYTOWN PIKE;  LOWER SALFORD;...</td>\n",
       "      <td>19438.0</td>\n",
       "      <td>EMS: SYNCOPAL EPISODE</td>\n",
       "      <td>2015-12-10 17:40:01</td>\n",
       "      <td>LOWER SALFORD</td>\n",
       "      <td>MAIN ST &amp; OLD SUMNEYTOWN PIKE</td>\n",
       "      <td>1</td>\n",
       "    </tr>\n",
       "    <tr>\n",
       "      <th>2015-12-10 17:40:01</th>\n",
       "      <td>40.102398</td>\n",
       "      <td>-75.291458</td>\n",
       "      <td>BLUEROUTE  &amp; RAMP I476 NB TO CHEMICAL RD; PLYM...</td>\n",
       "      <td>19462.0</td>\n",
       "      <td>Traffic: VEHICLE ACCIDENT -</td>\n",
       "      <td>2015-12-10 17:40:01</td>\n",
       "      <td>PLYMOUTH</td>\n",
       "      <td>BLUEROUTE  &amp; RAMP I476 NB TO CHEMICAL RD</td>\n",
       "      <td>1</td>\n",
       "    </tr>\n",
       "  </tbody>\n",
       "</table>\n",
       "</div>"
      ],
      "text/plain": [
       "                           lat        lng  \\\n",
       "fechas                                      \n",
       "2015-12-10 17:40:00  40.297876 -75.581294   \n",
       "2015-12-10 17:40:00  40.258061 -75.264680   \n",
       "2015-12-10 17:40:00  40.121182 -75.351975   \n",
       "2015-12-10 17:40:01  40.116153 -75.343513   \n",
       "2015-12-10 17:40:01  40.251492 -75.603350   \n",
       "2015-12-10 17:40:01  40.253473 -75.283245   \n",
       "2015-12-10 17:40:01  40.182111 -75.127795   \n",
       "2015-12-10 17:40:01  40.217286 -75.405182   \n",
       "2015-12-10 17:40:01  40.289027 -75.399590   \n",
       "2015-12-10 17:40:01  40.102398 -75.291458   \n",
       "\n",
       "                                                                  desc  \\\n",
       "fechas                                                                   \n",
       "2015-12-10 17:40:00  REINDEER CT & DEAD END;  NEW HANOVER; Station ...   \n",
       "2015-12-10 17:40:00  BRIAR PATH & WHITEMARSH LN;  HATFIELD TOWNSHIP...   \n",
       "2015-12-10 17:40:00  HAWS AVE; NORRISTOWN; 2015-12-10 @ 14:39:21-St...   \n",
       "2015-12-10 17:40:01  AIRY ST & SWEDE ST;  NORRISTOWN; Station 308A;...   \n",
       "2015-12-10 17:40:01  CHERRYWOOD CT & DEAD END;  LOWER POTTSGROVE; S...   \n",
       "2015-12-10 17:40:01  CANNON AVE & W 9TH ST;  LANSDALE; Station 345;...   \n",
       "2015-12-10 17:40:01  LAUREL AVE & OAKDALE AVE;  HORSHAM; Station 35...   \n",
       "2015-12-10 17:40:01  COLLEGEVILLE RD & LYWISKI RD;  SKIPPACK; Stati...   \n",
       "2015-12-10 17:40:01  MAIN ST & OLD SUMNEYTOWN PIKE;  LOWER SALFORD;...   \n",
       "2015-12-10 17:40:01  BLUEROUTE  & RAMP I476 NB TO CHEMICAL RD; PLYM...   \n",
       "\n",
       "                         zip                        title  \\\n",
       "fechas                                                      \n",
       "2015-12-10 17:40:00  19525.0       EMS: BACK PAINS/INJURY   \n",
       "2015-12-10 17:40:00  19446.0      EMS: DIABETIC EMERGENCY   \n",
       "2015-12-10 17:40:00  19401.0          Fire: GAS-ODOR/LEAK   \n",
       "2015-12-10 17:40:01  19401.0       EMS: CARDIAC EMERGENCY   \n",
       "2015-12-10 17:40:01      NaN               EMS: DIZZINESS   \n",
       "2015-12-10 17:40:01  19446.0             EMS: HEAD INJURY   \n",
       "2015-12-10 17:40:01  19044.0         EMS: NAUSEA/VOMITING   \n",
       "2015-12-10 17:40:01  19426.0   EMS: RESPIRATORY EMERGENCY   \n",
       "2015-12-10 17:40:01  19438.0        EMS: SYNCOPAL EPISODE   \n",
       "2015-12-10 17:40:01  19462.0  Traffic: VEHICLE ACCIDENT -   \n",
       "\n",
       "                               timeStamp                twp  \\\n",
       "fechas                                                        \n",
       "2015-12-10 17:40:00  2015-12-10 17:40:00        NEW HANOVER   \n",
       "2015-12-10 17:40:00  2015-12-10 17:40:00  HATFIELD TOWNSHIP   \n",
       "2015-12-10 17:40:00  2015-12-10 17:40:00         NORRISTOWN   \n",
       "2015-12-10 17:40:01  2015-12-10 17:40:01         NORRISTOWN   \n",
       "2015-12-10 17:40:01  2015-12-10 17:40:01   LOWER POTTSGROVE   \n",
       "2015-12-10 17:40:01  2015-12-10 17:40:01           LANSDALE   \n",
       "2015-12-10 17:40:01  2015-12-10 17:40:01            HORSHAM   \n",
       "2015-12-10 17:40:01  2015-12-10 17:40:01           SKIPPACK   \n",
       "2015-12-10 17:40:01  2015-12-10 17:40:01      LOWER SALFORD   \n",
       "2015-12-10 17:40:01  2015-12-10 17:40:01           PLYMOUTH   \n",
       "\n",
       "                                                         addr  e  \n",
       "fechas                                                            \n",
       "2015-12-10 17:40:00                    REINDEER CT & DEAD END  1  \n",
       "2015-12-10 17:40:00                BRIAR PATH & WHITEMARSH LN  1  \n",
       "2015-12-10 17:40:00                                  HAWS AVE  1  \n",
       "2015-12-10 17:40:01                        AIRY ST & SWEDE ST  1  \n",
       "2015-12-10 17:40:01                  CHERRYWOOD CT & DEAD END  1  \n",
       "2015-12-10 17:40:01                     CANNON AVE & W 9TH ST  1  \n",
       "2015-12-10 17:40:01                  LAUREL AVE & OAKDALE AVE  1  \n",
       "2015-12-10 17:40:01              COLLEGEVILLE RD & LYWISKI RD  1  \n",
       "2015-12-10 17:40:01             MAIN ST & OLD SUMNEYTOWN PIKE  1  \n",
       "2015-12-10 17:40:01  BLUEROUTE  & RAMP I476 NB TO CHEMICAL RD  1  "
      ]
     },
     "execution_count": 46,
     "metadata": {},
     "output_type": "execute_result"
    }
   ],
   "source": [
    "df_fechas.iloc[0:10,:]"
   ]
  },
  {
   "cell_type": "markdown",
   "metadata": {},
   "source": [
    "Asfreq funciona similar a resample en el sentido de que reestructura la frecuencia de las fechas."
   ]
  },
  {
   "cell_type": "markdown",
   "metadata": {},
   "source": [
    "Por ejemplo, resampleamos las fechas para tener una frecuencia diaria con el promedio de cada valor"
   ]
  },
  {
   "cell_type": "code",
   "execution_count": 47,
   "metadata": {},
   "outputs": [
    {
     "data": {
      "text/html": [
       "<div>\n",
       "<style scoped>\n",
       "    .dataframe tbody tr th:only-of-type {\n",
       "        vertical-align: middle;\n",
       "    }\n",
       "\n",
       "    .dataframe tbody tr th {\n",
       "        vertical-align: top;\n",
       "    }\n",
       "\n",
       "    .dataframe thead th {\n",
       "        text-align: right;\n",
       "    }\n",
       "</style>\n",
       "<table border=\"1\" class=\"dataframe\">\n",
       "  <thead>\n",
       "    <tr style=\"text-align: right;\">\n",
       "      <th></th>\n",
       "      <th>lat</th>\n",
       "      <th>lng</th>\n",
       "      <th>zip</th>\n",
       "      <th>e</th>\n",
       "    </tr>\n",
       "    <tr>\n",
       "      <th>fechas</th>\n",
       "      <th></th>\n",
       "      <th></th>\n",
       "      <th></th>\n",
       "      <th></th>\n",
       "    </tr>\n",
       "  </thead>\n",
       "  <tbody>\n",
       "    <tr>\n",
       "      <th>2015-12-10</th>\n",
       "      <td>40.163933</td>\n",
       "      <td>-75.341467</td>\n",
       "      <td>19293.700000</td>\n",
       "      <td>1</td>\n",
       "    </tr>\n",
       "    <tr>\n",
       "      <th>2015-12-11</th>\n",
       "      <td>40.164502</td>\n",
       "      <td>-75.312044</td>\n",
       "      <td>19215.666667</td>\n",
       "      <td>1</td>\n",
       "    </tr>\n",
       "    <tr>\n",
       "      <th>2015-12-12</th>\n",
       "      <td>40.156301</td>\n",
       "      <td>-75.318920</td>\n",
       "      <td>19271.543544</td>\n",
       "      <td>1</td>\n",
       "    </tr>\n",
       "    <tr>\n",
       "      <th>2015-12-13</th>\n",
       "      <td>40.156752</td>\n",
       "      <td>-75.307261</td>\n",
       "      <td>19219.217857</td>\n",
       "      <td>1</td>\n",
       "    </tr>\n",
       "    <tr>\n",
       "      <th>2015-12-14</th>\n",
       "      <td>40.157897</td>\n",
       "      <td>-75.311976</td>\n",
       "      <td>19228.113695</td>\n",
       "      <td>1</td>\n",
       "    </tr>\n",
       "    <tr>\n",
       "      <th>...</th>\n",
       "      <td>...</td>\n",
       "      <td>...</td>\n",
       "      <td>...</td>\n",
       "      <td>...</td>\n",
       "    </tr>\n",
       "    <tr>\n",
       "      <th>2016-08-20</th>\n",
       "      <td>40.161065</td>\n",
       "      <td>-75.335873</td>\n",
       "      <td>19245.770609</td>\n",
       "      <td>1</td>\n",
       "    </tr>\n",
       "    <tr>\n",
       "      <th>2016-08-21</th>\n",
       "      <td>40.163826</td>\n",
       "      <td>-75.333098</td>\n",
       "      <td>19216.872910</td>\n",
       "      <td>1</td>\n",
       "    </tr>\n",
       "    <tr>\n",
       "      <th>2016-08-22</th>\n",
       "      <td>40.160923</td>\n",
       "      <td>-75.305836</td>\n",
       "      <td>19218.928571</td>\n",
       "      <td>1</td>\n",
       "    </tr>\n",
       "    <tr>\n",
       "      <th>2016-08-23</th>\n",
       "      <td>40.154767</td>\n",
       "      <td>-75.306079</td>\n",
       "      <td>19209.541026</td>\n",
       "      <td>1</td>\n",
       "    </tr>\n",
       "    <tr>\n",
       "      <th>2016-08-24</th>\n",
       "      <td>40.160704</td>\n",
       "      <td>-75.310376</td>\n",
       "      <td>19231.415094</td>\n",
       "      <td>1</td>\n",
       "    </tr>\n",
       "  </tbody>\n",
       "</table>\n",
       "<p>259 rows × 4 columns</p>\n",
       "</div>"
      ],
      "text/plain": [
       "                  lat        lng           zip  e\n",
       "fechas                                           \n",
       "2015-12-10  40.163933 -75.341467  19293.700000  1\n",
       "2015-12-11  40.164502 -75.312044  19215.666667  1\n",
       "2015-12-12  40.156301 -75.318920  19271.543544  1\n",
       "2015-12-13  40.156752 -75.307261  19219.217857  1\n",
       "2015-12-14  40.157897 -75.311976  19228.113695  1\n",
       "...               ...        ...           ... ..\n",
       "2016-08-20  40.161065 -75.335873  19245.770609  1\n",
       "2016-08-21  40.163826 -75.333098  19216.872910  1\n",
       "2016-08-22  40.160923 -75.305836  19218.928571  1\n",
       "2016-08-23  40.154767 -75.306079  19209.541026  1\n",
       "2016-08-24  40.160704 -75.310376  19231.415094  1\n",
       "\n",
       "[259 rows x 4 columns]"
      ]
     },
     "execution_count": 47,
     "metadata": {},
     "output_type": "execute_result"
    }
   ],
   "source": [
    "resamp = df_fechas.resample('D').mean()\n",
    "resamp"
   ]
  },
  {
   "cell_type": "markdown",
   "metadata": {},
   "source": [
    "Luego usamos asfreq para obtener sólo los valores al final de cada mes (sin andar agregando por promedio o algo así)"
   ]
  },
  {
   "cell_type": "code",
   "execution_count": 48,
   "metadata": {},
   "outputs": [
    {
     "data": {
      "text/html": [
       "<div>\n",
       "<style scoped>\n",
       "    .dataframe tbody tr th:only-of-type {\n",
       "        vertical-align: middle;\n",
       "    }\n",
       "\n",
       "    .dataframe tbody tr th {\n",
       "        vertical-align: top;\n",
       "    }\n",
       "\n",
       "    .dataframe thead th {\n",
       "        text-align: right;\n",
       "    }\n",
       "</style>\n",
       "<table border=\"1\" class=\"dataframe\">\n",
       "  <thead>\n",
       "    <tr style=\"text-align: right;\">\n",
       "      <th></th>\n",
       "      <th>lat</th>\n",
       "      <th>lng</th>\n",
       "      <th>zip</th>\n",
       "      <th>e</th>\n",
       "    </tr>\n",
       "    <tr>\n",
       "      <th>fechas</th>\n",
       "      <th></th>\n",
       "      <th></th>\n",
       "      <th></th>\n",
       "      <th></th>\n",
       "    </tr>\n",
       "  </thead>\n",
       "  <tbody>\n",
       "    <tr>\n",
       "      <th>2015-12-31</th>\n",
       "      <td>40.156669</td>\n",
       "      <td>-75.307671</td>\n",
       "      <td>19210.691450</td>\n",
       "      <td>1</td>\n",
       "    </tr>\n",
       "    <tr>\n",
       "      <th>2016-01-31</th>\n",
       "      <td>40.167765</td>\n",
       "      <td>-75.340673</td>\n",
       "      <td>19257.458015</td>\n",
       "      <td>1</td>\n",
       "    </tr>\n",
       "    <tr>\n",
       "      <th>2016-02-29</th>\n",
       "      <td>40.158565</td>\n",
       "      <td>-75.310156</td>\n",
       "      <td>19215.938312</td>\n",
       "      <td>1</td>\n",
       "    </tr>\n",
       "    <tr>\n",
       "      <th>2016-03-31</th>\n",
       "      <td>40.164648</td>\n",
       "      <td>-75.321494</td>\n",
       "      <td>19229.304075</td>\n",
       "      <td>1</td>\n",
       "    </tr>\n",
       "    <tr>\n",
       "      <th>2016-04-30</th>\n",
       "      <td>40.163442</td>\n",
       "      <td>-75.341752</td>\n",
       "      <td>19284.231343</td>\n",
       "      <td>1</td>\n",
       "    </tr>\n",
       "    <tr>\n",
       "      <th>2016-05-31</th>\n",
       "      <td>40.151441</td>\n",
       "      <td>-75.306211</td>\n",
       "      <td>19219.256267</td>\n",
       "      <td>1</td>\n",
       "    </tr>\n",
       "    <tr>\n",
       "      <th>2016-06-30</th>\n",
       "      <td>40.166293</td>\n",
       "      <td>-75.327071</td>\n",
       "      <td>19247.008671</td>\n",
       "      <td>1</td>\n",
       "    </tr>\n",
       "    <tr>\n",
       "      <th>2016-07-31</th>\n",
       "      <td>40.155001</td>\n",
       "      <td>-75.323931</td>\n",
       "      <td>19217.877023</td>\n",
       "      <td>1</td>\n",
       "    </tr>\n",
       "  </tbody>\n",
       "</table>\n",
       "</div>"
      ],
      "text/plain": [
       "                  lat        lng           zip  e\n",
       "fechas                                           \n",
       "2015-12-31  40.156669 -75.307671  19210.691450  1\n",
       "2016-01-31  40.167765 -75.340673  19257.458015  1\n",
       "2016-02-29  40.158565 -75.310156  19215.938312  1\n",
       "2016-03-31  40.164648 -75.321494  19229.304075  1\n",
       "2016-04-30  40.163442 -75.341752  19284.231343  1\n",
       "2016-05-31  40.151441 -75.306211  19219.256267  1\n",
       "2016-06-30  40.166293 -75.327071  19247.008671  1\n",
       "2016-07-31  40.155001 -75.323931  19217.877023  1"
      ]
     },
     "execution_count": 48,
     "metadata": {},
     "output_type": "execute_result"
    }
   ],
   "source": [
    "resamp.asfreq('M')"
   ]
  },
  {
   "cell_type": "markdown",
   "metadata": {},
   "source": [
    "Si te fijas no tuvimos que promediar ni nada. Asfreq te regresa exclusivamente el valor en el periodo que le pediste. En este caso nos regresó el valor del último día de cada mes"
   ]
  },
  {
   "cell_type": "markdown",
   "metadata": {},
   "source": [
    "Sería equivalente a pedir un resample y .last() como método de agregacin"
   ]
  },
  {
   "cell_type": "markdown",
   "metadata": {},
   "source": [
    "OJO: asfreq sólo funciona cuando los índices (fechas) son únicos! Su gran ventaja es que puede usar method = 'ffill' o 'bfill' para rellenar nans en caso de que se creen con el comando."
   ]
  },
  {
   "cell_type": "code",
   "execution_count": 49,
   "metadata": {},
   "outputs": [
    {
     "data": {
      "text/html": [
       "<div>\n",
       "<style scoped>\n",
       "    .dataframe tbody tr th:only-of-type {\n",
       "        vertical-align: middle;\n",
       "    }\n",
       "\n",
       "    .dataframe tbody tr th {\n",
       "        vertical-align: top;\n",
       "    }\n",
       "\n",
       "    .dataframe thead th {\n",
       "        text-align: right;\n",
       "    }\n",
       "</style>\n",
       "<table border=\"1\" class=\"dataframe\">\n",
       "  <thead>\n",
       "    <tr style=\"text-align: right;\">\n",
       "      <th></th>\n",
       "      <th>lat</th>\n",
       "      <th>lng</th>\n",
       "      <th>zip</th>\n",
       "      <th>e</th>\n",
       "    </tr>\n",
       "    <tr>\n",
       "      <th>fechas</th>\n",
       "      <th></th>\n",
       "      <th></th>\n",
       "      <th></th>\n",
       "      <th></th>\n",
       "    </tr>\n",
       "  </thead>\n",
       "  <tbody>\n",
       "    <tr>\n",
       "      <th>2015-12-31</th>\n",
       "      <td>40.156669</td>\n",
       "      <td>-75.307671</td>\n",
       "      <td>19210.691450</td>\n",
       "      <td>1</td>\n",
       "    </tr>\n",
       "    <tr>\n",
       "      <th>2016-01-31</th>\n",
       "      <td>40.167765</td>\n",
       "      <td>-75.340673</td>\n",
       "      <td>19257.458015</td>\n",
       "      <td>1</td>\n",
       "    </tr>\n",
       "    <tr>\n",
       "      <th>2016-02-29</th>\n",
       "      <td>40.158565</td>\n",
       "      <td>-75.310156</td>\n",
       "      <td>19215.938312</td>\n",
       "      <td>1</td>\n",
       "    </tr>\n",
       "    <tr>\n",
       "      <th>2016-03-31</th>\n",
       "      <td>40.164648</td>\n",
       "      <td>-75.321494</td>\n",
       "      <td>19229.304075</td>\n",
       "      <td>1</td>\n",
       "    </tr>\n",
       "    <tr>\n",
       "      <th>2016-04-30</th>\n",
       "      <td>40.163442</td>\n",
       "      <td>-75.341752</td>\n",
       "      <td>19284.231343</td>\n",
       "      <td>1</td>\n",
       "    </tr>\n",
       "    <tr>\n",
       "      <th>2016-05-31</th>\n",
       "      <td>40.151441</td>\n",
       "      <td>-75.306211</td>\n",
       "      <td>19219.256267</td>\n",
       "      <td>1</td>\n",
       "    </tr>\n",
       "    <tr>\n",
       "      <th>2016-06-30</th>\n",
       "      <td>40.166293</td>\n",
       "      <td>-75.327071</td>\n",
       "      <td>19247.008671</td>\n",
       "      <td>1</td>\n",
       "    </tr>\n",
       "    <tr>\n",
       "      <th>2016-07-31</th>\n",
       "      <td>40.155001</td>\n",
       "      <td>-75.323931</td>\n",
       "      <td>19217.877023</td>\n",
       "      <td>1</td>\n",
       "    </tr>\n",
       "    <tr>\n",
       "      <th>2016-08-31</th>\n",
       "      <td>40.160704</td>\n",
       "      <td>-75.310376</td>\n",
       "      <td>19231.415094</td>\n",
       "      <td>1</td>\n",
       "    </tr>\n",
       "  </tbody>\n",
       "</table>\n",
       "</div>"
      ],
      "text/plain": [
       "                  lat        lng           zip  e\n",
       "fechas                                           \n",
       "2015-12-31  40.156669 -75.307671  19210.691450  1\n",
       "2016-01-31  40.167765 -75.340673  19257.458015  1\n",
       "2016-02-29  40.158565 -75.310156  19215.938312  1\n",
       "2016-03-31  40.164648 -75.321494  19229.304075  1\n",
       "2016-04-30  40.163442 -75.341752  19284.231343  1\n",
       "2016-05-31  40.151441 -75.306211  19219.256267  1\n",
       "2016-06-30  40.166293 -75.327071  19247.008671  1\n",
       "2016-07-31  40.155001 -75.323931  19217.877023  1\n",
       "2016-08-31  40.160704 -75.310376  19231.415094  1"
      ]
     },
     "execution_count": 49,
     "metadata": {},
     "output_type": "execute_result"
    }
   ],
   "source": [
    "resamp.resample('M').last()"
   ]
  },
  {
   "cell_type": "markdown",
   "metadata": {},
   "source": [
    "**duplicates**"
   ]
  },
  {
   "cell_type": "markdown",
   "metadata": {},
   "source": [
    "Puedes usar duplicated sober el índice para obtener los puntos donde las fechas se repiten."
   ]
  },
  {
   "cell_type": "code",
   "execution_count": 65,
   "metadata": {
    "scrolled": false
   },
   "outputs": [
    {
     "data": {
      "text/html": [
       "<div>\n",
       "<style scoped>\n",
       "    .dataframe tbody tr th:only-of-type {\n",
       "        vertical-align: middle;\n",
       "    }\n",
       "\n",
       "    .dataframe tbody tr th {\n",
       "        vertical-align: top;\n",
       "    }\n",
       "\n",
       "    .dataframe thead th {\n",
       "        text-align: right;\n",
       "    }\n",
       "</style>\n",
       "<table border=\"1\" class=\"dataframe\">\n",
       "  <thead>\n",
       "    <tr style=\"text-align: right;\">\n",
       "      <th></th>\n",
       "      <th>lat</th>\n",
       "      <th>lng</th>\n",
       "      <th>desc</th>\n",
       "      <th>zip</th>\n",
       "      <th>title</th>\n",
       "      <th>timeStamp</th>\n",
       "      <th>twp</th>\n",
       "      <th>addr</th>\n",
       "      <th>e</th>\n",
       "    </tr>\n",
       "    <tr>\n",
       "      <th>fechas</th>\n",
       "      <th></th>\n",
       "      <th></th>\n",
       "      <th></th>\n",
       "      <th></th>\n",
       "      <th></th>\n",
       "      <th></th>\n",
       "      <th></th>\n",
       "      <th></th>\n",
       "      <th></th>\n",
       "    </tr>\n",
       "  </thead>\n",
       "  <tbody>\n",
       "    <tr>\n",
       "      <th>2015-12-10 17:40:00</th>\n",
       "      <td>40.297876</td>\n",
       "      <td>-75.581294</td>\n",
       "      <td>REINDEER CT &amp; DEAD END;  NEW HANOVER; Station ...</td>\n",
       "      <td>19525.0</td>\n",
       "      <td>EMS: BACK PAINS/INJURY</td>\n",
       "      <td>2015-12-10 17:40:00</td>\n",
       "      <td>NEW HANOVER</td>\n",
       "      <td>REINDEER CT &amp; DEAD END</td>\n",
       "      <td>1</td>\n",
       "    </tr>\n",
       "    <tr>\n",
       "      <th>2015-12-10 17:40:00</th>\n",
       "      <td>40.258061</td>\n",
       "      <td>-75.264680</td>\n",
       "      <td>BRIAR PATH &amp; WHITEMARSH LN;  HATFIELD TOWNSHIP...</td>\n",
       "      <td>19446.0</td>\n",
       "      <td>EMS: DIABETIC EMERGENCY</td>\n",
       "      <td>2015-12-10 17:40:00</td>\n",
       "      <td>HATFIELD TOWNSHIP</td>\n",
       "      <td>BRIAR PATH &amp; WHITEMARSH LN</td>\n",
       "      <td>1</td>\n",
       "    </tr>\n",
       "    <tr>\n",
       "      <th>2015-12-10 17:40:00</th>\n",
       "      <td>40.121182</td>\n",
       "      <td>-75.351975</td>\n",
       "      <td>HAWS AVE; NORRISTOWN; 2015-12-10 @ 14:39:21-St...</td>\n",
       "      <td>19401.0</td>\n",
       "      <td>Fire: GAS-ODOR/LEAK</td>\n",
       "      <td>2015-12-10 17:40:00</td>\n",
       "      <td>NORRISTOWN</td>\n",
       "      <td>HAWS AVE</td>\n",
       "      <td>1</td>\n",
       "    </tr>\n",
       "    <tr>\n",
       "      <th>2015-12-10 17:40:01</th>\n",
       "      <td>40.116153</td>\n",
       "      <td>-75.343513</td>\n",
       "      <td>AIRY ST &amp; SWEDE ST;  NORRISTOWN; Station 308A;...</td>\n",
       "      <td>19401.0</td>\n",
       "      <td>EMS: CARDIAC EMERGENCY</td>\n",
       "      <td>2015-12-10 17:40:01</td>\n",
       "      <td>NORRISTOWN</td>\n",
       "      <td>AIRY ST &amp; SWEDE ST</td>\n",
       "      <td>1</td>\n",
       "    </tr>\n",
       "    <tr>\n",
       "      <th>2015-12-10 17:40:01</th>\n",
       "      <td>40.251492</td>\n",
       "      <td>-75.603350</td>\n",
       "      <td>CHERRYWOOD CT &amp; DEAD END;  LOWER POTTSGROVE; S...</td>\n",
       "      <td>NaN</td>\n",
       "      <td>EMS: DIZZINESS</td>\n",
       "      <td>2015-12-10 17:40:01</td>\n",
       "      <td>LOWER POTTSGROVE</td>\n",
       "      <td>CHERRYWOOD CT &amp; DEAD END</td>\n",
       "      <td>1</td>\n",
       "    </tr>\n",
       "    <tr>\n",
       "      <th>...</th>\n",
       "      <td>...</td>\n",
       "      <td>...</td>\n",
       "      <td>...</td>\n",
       "      <td>...</td>\n",
       "      <td>...</td>\n",
       "      <td>...</td>\n",
       "      <td>...</td>\n",
       "      <td>...</td>\n",
       "      <td>...</td>\n",
       "    </tr>\n",
       "    <tr>\n",
       "      <th>2016-08-24 10:52:01</th>\n",
       "      <td>40.221227</td>\n",
       "      <td>-75.288737</td>\n",
       "      <td>SUMNEYTOWN PIKE &amp; RR OVERPASS;  UPPER GWYNEDD;...</td>\n",
       "      <td>NaN</td>\n",
       "      <td>EMS: CARDIAC EMERGENCY</td>\n",
       "      <td>2016-08-24 10:52:01</td>\n",
       "      <td>UPPER GWYNEDD</td>\n",
       "      <td>SUMNEYTOWN PIKE &amp; RR OVERPASS</td>\n",
       "      <td>1</td>\n",
       "    </tr>\n",
       "    <tr>\n",
       "      <th>2016-08-24 10:52:01</th>\n",
       "      <td>40.221227</td>\n",
       "      <td>-75.288737</td>\n",
       "      <td>SUMNEYTOWN PIKE &amp; RR OVERPASS;  UPPER GWYNEDD;...</td>\n",
       "      <td>NaN</td>\n",
       "      <td>EMS: DIABETIC EMERGENCY</td>\n",
       "      <td>2016-08-24 10:52:01</td>\n",
       "      <td>UPPER GWYNEDD</td>\n",
       "      <td>SUMNEYTOWN PIKE &amp; RR OVERPASS</td>\n",
       "      <td>1</td>\n",
       "    </tr>\n",
       "    <tr>\n",
       "      <th>2016-08-24 10:52:01</th>\n",
       "      <td>40.221227</td>\n",
       "      <td>-75.288737</td>\n",
       "      <td>SUMNEYTOWN PIKE &amp; RR OVERPASS;  UPPER GWYNEDD;...</td>\n",
       "      <td>NaN</td>\n",
       "      <td>EMS: DIZZINESS</td>\n",
       "      <td>2016-08-24 10:52:01</td>\n",
       "      <td>UPPER GWYNEDD</td>\n",
       "      <td>SUMNEYTOWN PIKE &amp; RR OVERPASS</td>\n",
       "      <td>1</td>\n",
       "    </tr>\n",
       "    <tr>\n",
       "      <th>2016-08-24 10:57:00</th>\n",
       "      <td>40.084465</td>\n",
       "      <td>-75.390173</td>\n",
       "      <td>DEKALB PIKE &amp; KING OF PRUSSIA RD;  UPPER MERIO...</td>\n",
       "      <td>19406.0</td>\n",
       "      <td>EMS: BACK PAINS/INJURY</td>\n",
       "      <td>2016-08-24 10:57:00</td>\n",
       "      <td>UPPER MERION</td>\n",
       "      <td>DEKALB PIKE &amp; KING OF PRUSSIA RD</td>\n",
       "      <td>1</td>\n",
       "    </tr>\n",
       "    <tr>\n",
       "      <th>2016-08-24 10:57:00</th>\n",
       "      <td>40.133037</td>\n",
       "      <td>-75.408463</td>\n",
       "      <td>SHANNONDELL DR &amp; SHANNONDELL BLVD; LOWER PROVI...</td>\n",
       "      <td>19403.0</td>\n",
       "      <td>Fire: FIRE ALARM</td>\n",
       "      <td>2016-08-24 10:57:00</td>\n",
       "      <td>LOWER PROVIDENCE</td>\n",
       "      <td>SHANNONDELL DR &amp; SHANNONDELL BLVD</td>\n",
       "      <td>1</td>\n",
       "    </tr>\n",
       "  </tbody>\n",
       "</table>\n",
       "<p>47611 rows × 9 columns</p>\n",
       "</div>"
      ],
      "text/plain": [
       "                           lat        lng  \\\n",
       "fechas                                      \n",
       "2015-12-10 17:40:00  40.297876 -75.581294   \n",
       "2015-12-10 17:40:00  40.258061 -75.264680   \n",
       "2015-12-10 17:40:00  40.121182 -75.351975   \n",
       "2015-12-10 17:40:01  40.116153 -75.343513   \n",
       "2015-12-10 17:40:01  40.251492 -75.603350   \n",
       "...                        ...        ...   \n",
       "2016-08-24 10:52:01  40.221227 -75.288737   \n",
       "2016-08-24 10:52:01  40.221227 -75.288737   \n",
       "2016-08-24 10:52:01  40.221227 -75.288737   \n",
       "2016-08-24 10:57:00  40.084465 -75.390173   \n",
       "2016-08-24 10:57:00  40.133037 -75.408463   \n",
       "\n",
       "                                                                  desc  \\\n",
       "fechas                                                                   \n",
       "2015-12-10 17:40:00  REINDEER CT & DEAD END;  NEW HANOVER; Station ...   \n",
       "2015-12-10 17:40:00  BRIAR PATH & WHITEMARSH LN;  HATFIELD TOWNSHIP...   \n",
       "2015-12-10 17:40:00  HAWS AVE; NORRISTOWN; 2015-12-10 @ 14:39:21-St...   \n",
       "2015-12-10 17:40:01  AIRY ST & SWEDE ST;  NORRISTOWN; Station 308A;...   \n",
       "2015-12-10 17:40:01  CHERRYWOOD CT & DEAD END;  LOWER POTTSGROVE; S...   \n",
       "...                                                                ...   \n",
       "2016-08-24 10:52:01  SUMNEYTOWN PIKE & RR OVERPASS;  UPPER GWYNEDD;...   \n",
       "2016-08-24 10:52:01  SUMNEYTOWN PIKE & RR OVERPASS;  UPPER GWYNEDD;...   \n",
       "2016-08-24 10:52:01  SUMNEYTOWN PIKE & RR OVERPASS;  UPPER GWYNEDD;...   \n",
       "2016-08-24 10:57:00  DEKALB PIKE & KING OF PRUSSIA RD;  UPPER MERIO...   \n",
       "2016-08-24 10:57:00  SHANNONDELL DR & SHANNONDELL BLVD; LOWER PROVI...   \n",
       "\n",
       "                         zip                    title            timeStamp  \\\n",
       "fechas                                                                       \n",
       "2015-12-10 17:40:00  19525.0   EMS: BACK PAINS/INJURY  2015-12-10 17:40:00   \n",
       "2015-12-10 17:40:00  19446.0  EMS: DIABETIC EMERGENCY  2015-12-10 17:40:00   \n",
       "2015-12-10 17:40:00  19401.0      Fire: GAS-ODOR/LEAK  2015-12-10 17:40:00   \n",
       "2015-12-10 17:40:01  19401.0   EMS: CARDIAC EMERGENCY  2015-12-10 17:40:01   \n",
       "2015-12-10 17:40:01      NaN           EMS: DIZZINESS  2015-12-10 17:40:01   \n",
       "...                      ...                      ...                  ...   \n",
       "2016-08-24 10:52:01      NaN   EMS: CARDIAC EMERGENCY  2016-08-24 10:52:01   \n",
       "2016-08-24 10:52:01      NaN  EMS: DIABETIC EMERGENCY  2016-08-24 10:52:01   \n",
       "2016-08-24 10:52:01      NaN           EMS: DIZZINESS  2016-08-24 10:52:01   \n",
       "2016-08-24 10:57:00  19406.0   EMS: BACK PAINS/INJURY  2016-08-24 10:57:00   \n",
       "2016-08-24 10:57:00  19403.0         Fire: FIRE ALARM  2016-08-24 10:57:00   \n",
       "\n",
       "                                   twp                               addr  e  \n",
       "fechas                                                                        \n",
       "2015-12-10 17:40:00        NEW HANOVER             REINDEER CT & DEAD END  1  \n",
       "2015-12-10 17:40:00  HATFIELD TOWNSHIP         BRIAR PATH & WHITEMARSH LN  1  \n",
       "2015-12-10 17:40:00         NORRISTOWN                           HAWS AVE  1  \n",
       "2015-12-10 17:40:01         NORRISTOWN                 AIRY ST & SWEDE ST  1  \n",
       "2015-12-10 17:40:01   LOWER POTTSGROVE           CHERRYWOOD CT & DEAD END  1  \n",
       "...                                ...                                ... ..  \n",
       "2016-08-24 10:52:01      UPPER GWYNEDD      SUMNEYTOWN PIKE & RR OVERPASS  1  \n",
       "2016-08-24 10:52:01      UPPER GWYNEDD      SUMNEYTOWN PIKE & RR OVERPASS  1  \n",
       "2016-08-24 10:52:01      UPPER GWYNEDD      SUMNEYTOWN PIKE & RR OVERPASS  1  \n",
       "2016-08-24 10:57:00       UPPER MERION   DEKALB PIKE & KING OF PRUSSIA RD  1  \n",
       "2016-08-24 10:57:00   LOWER PROVIDENCE  SHANNONDELL DR & SHANNONDELL BLVD  1  \n",
       "\n",
       "[47611 rows x 9 columns]"
      ]
     },
     "execution_count": 65,
     "metadata": {},
     "output_type": "execute_result"
    }
   ],
   "source": [
    "df_fechas.loc[df_fechas.index.duplicated(keep = False),:]"
   ]
  },
  {
   "cell_type": "markdown",
   "metadata": {},
   "source": [
    "## Offset"
   ]
  },
  {
   "cell_type": "markdown",
   "metadata": {},
   "source": [
    "Por ninguna razón en especial quiero agregar 10 meses a todas mis fechas, si trato de hacer esta operación tendré un error"
   ]
  },
  {
   "cell_type": "code",
   "execution_count": 51,
   "metadata": {
    "scrolled": true
   },
   "outputs": [
    {
     "ename": "TypeError",
     "evalue": "Addition/subtraction of integers and integer-arrays with DatetimeArray is no longer supported.  Instead of adding/subtracting `n`, use `n * obj.freq`",
     "output_type": "error",
     "traceback": [
      "\u001b[0;31m---------------------------------------------------------------------------\u001b[0m",
      "\u001b[0;31mTypeError\u001b[0m                                 Traceback (most recent call last)",
      "\u001b[0;32m<ipython-input-51-53f94b967543>\u001b[0m in \u001b[0;36m<module>\u001b[0;34m\u001b[0m\n\u001b[0;32m----> 1\u001b[0;31m \u001b[0mfechas\u001b[0m \u001b[0;34m+\u001b[0m \u001b[0;36m10\u001b[0m\u001b[0;34m\u001b[0m\u001b[0;34m\u001b[0m\u001b[0m\n\u001b[0m",
      "\u001b[0;32m~/anaconda3/lib/python3.8/site-packages/pandas/core/ops/common.py\u001b[0m in \u001b[0;36mnew_method\u001b[0;34m(self, other)\u001b[0m\n\u001b[1;32m     63\u001b[0m         \u001b[0mother\u001b[0m \u001b[0;34m=\u001b[0m \u001b[0mitem_from_zerodim\u001b[0m\u001b[0;34m(\u001b[0m\u001b[0mother\u001b[0m\u001b[0;34m)\u001b[0m\u001b[0;34m\u001b[0m\u001b[0;34m\u001b[0m\u001b[0m\n\u001b[1;32m     64\u001b[0m \u001b[0;34m\u001b[0m\u001b[0m\n\u001b[0;32m---> 65\u001b[0;31m         \u001b[0;32mreturn\u001b[0m \u001b[0mmethod\u001b[0m\u001b[0;34m(\u001b[0m\u001b[0mself\u001b[0m\u001b[0;34m,\u001b[0m \u001b[0mother\u001b[0m\u001b[0;34m)\u001b[0m\u001b[0;34m\u001b[0m\u001b[0;34m\u001b[0m\u001b[0m\n\u001b[0m\u001b[1;32m     66\u001b[0m \u001b[0;34m\u001b[0m\u001b[0m\n\u001b[1;32m     67\u001b[0m     \u001b[0;32mreturn\u001b[0m \u001b[0mnew_method\u001b[0m\u001b[0;34m\u001b[0m\u001b[0;34m\u001b[0m\u001b[0m\n",
      "\u001b[0;32m~/anaconda3/lib/python3.8/site-packages/pandas/core/arraylike.py\u001b[0m in \u001b[0;36m__add__\u001b[0;34m(self, other)\u001b[0m\n\u001b[1;32m     87\u001b[0m     \u001b[0;34m@\u001b[0m\u001b[0munpack_zerodim_and_defer\u001b[0m\u001b[0;34m(\u001b[0m\u001b[0;34m\"__add__\"\u001b[0m\u001b[0;34m)\u001b[0m\u001b[0;34m\u001b[0m\u001b[0;34m\u001b[0m\u001b[0m\n\u001b[1;32m     88\u001b[0m     \u001b[0;32mdef\u001b[0m \u001b[0m__add__\u001b[0m\u001b[0;34m(\u001b[0m\u001b[0mself\u001b[0m\u001b[0;34m,\u001b[0m \u001b[0mother\u001b[0m\u001b[0;34m)\u001b[0m\u001b[0;34m:\u001b[0m\u001b[0;34m\u001b[0m\u001b[0;34m\u001b[0m\u001b[0m\n\u001b[0;32m---> 89\u001b[0;31m         \u001b[0;32mreturn\u001b[0m \u001b[0mself\u001b[0m\u001b[0;34m.\u001b[0m\u001b[0m_arith_method\u001b[0m\u001b[0;34m(\u001b[0m\u001b[0mother\u001b[0m\u001b[0;34m,\u001b[0m \u001b[0moperator\u001b[0m\u001b[0;34m.\u001b[0m\u001b[0madd\u001b[0m\u001b[0;34m)\u001b[0m\u001b[0;34m\u001b[0m\u001b[0;34m\u001b[0m\u001b[0m\n\u001b[0m\u001b[1;32m     90\u001b[0m \u001b[0;34m\u001b[0m\u001b[0m\n\u001b[1;32m     91\u001b[0m     \u001b[0;34m@\u001b[0m\u001b[0munpack_zerodim_and_defer\u001b[0m\u001b[0;34m(\u001b[0m\u001b[0;34m\"__radd__\"\u001b[0m\u001b[0;34m)\u001b[0m\u001b[0;34m\u001b[0m\u001b[0;34m\u001b[0m\u001b[0m\n",
      "\u001b[0;32m~/anaconda3/lib/python3.8/site-packages/pandas/core/series.py\u001b[0m in \u001b[0;36m_arith_method\u001b[0;34m(self, other, op)\u001b[0m\n\u001b[1;32m   4966\u001b[0m         \u001b[0mlvalues\u001b[0m \u001b[0;34m=\u001b[0m \u001b[0mextract_array\u001b[0m\u001b[0;34m(\u001b[0m\u001b[0mself\u001b[0m\u001b[0;34m,\u001b[0m \u001b[0mextract_numpy\u001b[0m\u001b[0;34m=\u001b[0m\u001b[0;32mTrue\u001b[0m\u001b[0;34m)\u001b[0m\u001b[0;34m\u001b[0m\u001b[0;34m\u001b[0m\u001b[0m\n\u001b[1;32m   4967\u001b[0m         \u001b[0mrvalues\u001b[0m \u001b[0;34m=\u001b[0m \u001b[0mextract_array\u001b[0m\u001b[0;34m(\u001b[0m\u001b[0mother\u001b[0m\u001b[0;34m,\u001b[0m \u001b[0mextract_numpy\u001b[0m\u001b[0;34m=\u001b[0m\u001b[0;32mTrue\u001b[0m\u001b[0;34m)\u001b[0m\u001b[0;34m\u001b[0m\u001b[0;34m\u001b[0m\u001b[0m\n\u001b[0;32m-> 4968\u001b[0;31m         \u001b[0mresult\u001b[0m \u001b[0;34m=\u001b[0m \u001b[0mops\u001b[0m\u001b[0;34m.\u001b[0m\u001b[0marithmetic_op\u001b[0m\u001b[0;34m(\u001b[0m\u001b[0mlvalues\u001b[0m\u001b[0;34m,\u001b[0m \u001b[0mrvalues\u001b[0m\u001b[0;34m,\u001b[0m \u001b[0mop\u001b[0m\u001b[0;34m)\u001b[0m\u001b[0;34m\u001b[0m\u001b[0;34m\u001b[0m\u001b[0m\n\u001b[0m\u001b[1;32m   4969\u001b[0m \u001b[0;34m\u001b[0m\u001b[0m\n\u001b[1;32m   4970\u001b[0m         \u001b[0;32mreturn\u001b[0m \u001b[0mself\u001b[0m\u001b[0;34m.\u001b[0m\u001b[0m_construct_result\u001b[0m\u001b[0;34m(\u001b[0m\u001b[0mresult\u001b[0m\u001b[0;34m,\u001b[0m \u001b[0mname\u001b[0m\u001b[0;34m=\u001b[0m\u001b[0mres_name\u001b[0m\u001b[0;34m)\u001b[0m\u001b[0;34m\u001b[0m\u001b[0;34m\u001b[0m\u001b[0m\n",
      "\u001b[0;32m~/anaconda3/lib/python3.8/site-packages/pandas/core/ops/array_ops.py\u001b[0m in \u001b[0;36marithmetic_op\u001b[0;34m(left, right, op)\u001b[0m\n\u001b[1;32m    183\u001b[0m     \u001b[0;32mif\u001b[0m \u001b[0mshould_extension_dispatch\u001b[0m\u001b[0;34m(\u001b[0m\u001b[0mlvalues\u001b[0m\u001b[0;34m,\u001b[0m \u001b[0mrvalues\u001b[0m\u001b[0;34m)\u001b[0m \u001b[0;32mor\u001b[0m \u001b[0misinstance\u001b[0m\u001b[0;34m(\u001b[0m\u001b[0mrvalues\u001b[0m\u001b[0;34m,\u001b[0m \u001b[0mTimedelta\u001b[0m\u001b[0;34m)\u001b[0m\u001b[0;34m:\u001b[0m\u001b[0;34m\u001b[0m\u001b[0;34m\u001b[0m\u001b[0m\n\u001b[1;32m    184\u001b[0m         \u001b[0;31m# Timedelta is included because numexpr will fail on it, see GH#31457\u001b[0m\u001b[0;34m\u001b[0m\u001b[0;34m\u001b[0m\u001b[0;34m\u001b[0m\u001b[0m\n\u001b[0;32m--> 185\u001b[0;31m         \u001b[0mres_values\u001b[0m \u001b[0;34m=\u001b[0m \u001b[0mop\u001b[0m\u001b[0;34m(\u001b[0m\u001b[0mlvalues\u001b[0m\u001b[0;34m,\u001b[0m \u001b[0mrvalues\u001b[0m\u001b[0;34m)\u001b[0m\u001b[0;34m\u001b[0m\u001b[0;34m\u001b[0m\u001b[0m\n\u001b[0m\u001b[1;32m    186\u001b[0m \u001b[0;34m\u001b[0m\u001b[0m\n\u001b[1;32m    187\u001b[0m     \u001b[0;32melse\u001b[0m\u001b[0;34m:\u001b[0m\u001b[0;34m\u001b[0m\u001b[0;34m\u001b[0m\u001b[0m\n",
      "\u001b[0;32m~/anaconda3/lib/python3.8/site-packages/pandas/core/ops/common.py\u001b[0m in \u001b[0;36mnew_method\u001b[0;34m(self, other)\u001b[0m\n\u001b[1;32m     63\u001b[0m         \u001b[0mother\u001b[0m \u001b[0;34m=\u001b[0m \u001b[0mitem_from_zerodim\u001b[0m\u001b[0;34m(\u001b[0m\u001b[0mother\u001b[0m\u001b[0;34m)\u001b[0m\u001b[0;34m\u001b[0m\u001b[0;34m\u001b[0m\u001b[0m\n\u001b[1;32m     64\u001b[0m \u001b[0;34m\u001b[0m\u001b[0m\n\u001b[0;32m---> 65\u001b[0;31m         \u001b[0;32mreturn\u001b[0m \u001b[0mmethod\u001b[0m\u001b[0;34m(\u001b[0m\u001b[0mself\u001b[0m\u001b[0;34m,\u001b[0m \u001b[0mother\u001b[0m\u001b[0;34m)\u001b[0m\u001b[0;34m\u001b[0m\u001b[0;34m\u001b[0m\u001b[0m\n\u001b[0m\u001b[1;32m     66\u001b[0m \u001b[0;34m\u001b[0m\u001b[0m\n\u001b[1;32m     67\u001b[0m     \u001b[0;32mreturn\u001b[0m \u001b[0mnew_method\u001b[0m\u001b[0;34m\u001b[0m\u001b[0;34m\u001b[0m\u001b[0m\n",
      "\u001b[0;32m~/anaconda3/lib/python3.8/site-packages/pandas/core/arrays/datetimelike.py\u001b[0m in \u001b[0;36m__add__\u001b[0;34m(self, other)\u001b[0m\n\u001b[1;32m   1176\u001b[0m             \u001b[0;31m# as is_integer returns True for these\u001b[0m\u001b[0;34m\u001b[0m\u001b[0;34m\u001b[0m\u001b[0;34m\u001b[0m\u001b[0m\n\u001b[1;32m   1177\u001b[0m             \u001b[0;32mif\u001b[0m \u001b[0;32mnot\u001b[0m \u001b[0mis_period_dtype\u001b[0m\u001b[0;34m(\u001b[0m\u001b[0mself\u001b[0m\u001b[0;34m.\u001b[0m\u001b[0mdtype\u001b[0m\u001b[0;34m)\u001b[0m\u001b[0;34m:\u001b[0m\u001b[0;34m\u001b[0m\u001b[0;34m\u001b[0m\u001b[0m\n\u001b[0;32m-> 1178\u001b[0;31m                 \u001b[0;32mraise\u001b[0m \u001b[0minteger_op_not_supported\u001b[0m\u001b[0;34m(\u001b[0m\u001b[0mself\u001b[0m\u001b[0;34m)\u001b[0m\u001b[0;34m\u001b[0m\u001b[0;34m\u001b[0m\u001b[0m\n\u001b[0m\u001b[1;32m   1179\u001b[0m             \u001b[0mresult\u001b[0m \u001b[0;34m=\u001b[0m \u001b[0mself\u001b[0m\u001b[0;34m.\u001b[0m\u001b[0m_time_shift\u001b[0m\u001b[0;34m(\u001b[0m\u001b[0mother\u001b[0m\u001b[0;34m)\u001b[0m\u001b[0;34m\u001b[0m\u001b[0;34m\u001b[0m\u001b[0m\n\u001b[1;32m   1180\u001b[0m \u001b[0;34m\u001b[0m\u001b[0m\n",
      "\u001b[0;31mTypeError\u001b[0m: Addition/subtraction of integers and integer-arrays with DatetimeArray is no longer supported.  Instead of adding/subtracting `n`, use `n * obj.freq`"
     ]
    }
   ],
   "source": [
    "fechas + 10"
   ]
  },
  {
   "cell_type": "markdown",
   "metadata": {},
   "source": [
    "La manera correcta sería con un offset"
   ]
  },
  {
   "cell_type": "code",
   "execution_count": 52,
   "metadata": {},
   "outputs": [
    {
     "data": {
      "text/plain": [
       "<DateOffset: months=10>"
      ]
     },
     "execution_count": 52,
     "metadata": {},
     "output_type": "execute_result"
    }
   ],
   "source": [
    "pd.DateOffset(months=10)"
   ]
  },
  {
   "cell_type": "code",
   "execution_count": 53,
   "metadata": {},
   "outputs": [
    {
     "data": {
      "text/plain": [
       "0       2016-10-10 17:40:00\n",
       "1       2016-10-10 17:40:00\n",
       "2       2016-10-10 17:40:00\n",
       "3       2016-10-10 17:40:01\n",
       "4       2016-10-10 17:40:01\n",
       "                ...        \n",
       "99487   2017-06-24 11:06:00\n",
       "99488   2017-06-24 11:07:02\n",
       "99489   2017-06-24 11:12:00\n",
       "99490   2017-06-24 11:17:01\n",
       "99491   2017-06-24 11:17:02\n",
       "Name: timeStamp, Length: 99492, dtype: datetime64[ns]"
      ]
     },
     "execution_count": 53,
     "metadata": {},
     "output_type": "execute_result"
    }
   ],
   "source": [
    "fechas + pd.DateOffset(months=10)"
   ]
  },
  {
   "cell_type": "markdown",
   "metadata": {},
   "source": [
    "Lo mismo jala con:\n",
    "- years\n",
    "- months\n",
    "- weeks\n",
    "- days\n",
    "- hours\n",
    "- minutes\n",
    "- seconds\n",
    "- microseconds\n",
    "- nanoseconds  \n",
    "\n",
    "\n",
    "esto es muy similar a usar timedeltas! Sin embargo es diferente agregar un offset a agregar un cambio. Por ejemplo, si quiero mover mis fechas 10 meses hacia adelante queda claro que enero (1) se vuelve noviembre (11), pero si te digo que le sumes 10 meses a enero se vuelve difícil porque no sé cuánto dura un mes (28, 29, 30 ó 31 días?)  \n",
    "\n",
    "Puesto de otra manera, Offset usa fechas relativas al calendario (sumar 1 semana literal se brinca una semana), mientras que Timedelta usa tiempo absoluto (sumar 1 semana es sumar exactamente 604800 segundos)... más adelante hay un ejemplo si no queda claro."
   ]
  },
  {
   "cell_type": "markdown",
   "metadata": {},
   "source": [
    "## Timedelta"
   ]
  },
  {
   "cell_type": "code",
   "execution_count": 54,
   "metadata": {},
   "outputs": [
    {
     "data": {
      "text/plain": [
       "0       2015-12-20 17:40:00\n",
       "1       2015-12-20 17:40:00\n",
       "2       2015-12-20 17:40:00\n",
       "3       2015-12-20 17:40:01\n",
       "4       2015-12-20 17:40:01\n",
       "                ...        \n",
       "99487   2016-09-03 11:06:00\n",
       "99488   2016-09-03 11:07:02\n",
       "99489   2016-09-03 11:12:00\n",
       "99490   2016-09-03 11:17:01\n",
       "99491   2016-09-03 11:17:02\n",
       "Name: timeStamp, Length: 99492, dtype: datetime64[ns]"
      ]
     },
     "execution_count": 54,
     "metadata": {},
     "output_type": "execute_result"
    }
   ],
   "source": [
    "fechas + pd.Timedelta(days = 10)"
   ]
  },
  {
   "cell_type": "code",
   "execution_count": 55,
   "metadata": {},
   "outputs": [
    {
     "data": {
      "text/plain": [
       "0       2015-12-10 17:41:00\n",
       "1       2015-12-10 17:41:00\n",
       "2       2015-12-10 17:41:00\n",
       "3       2015-12-10 17:41:01\n",
       "4       2015-12-10 17:41:01\n",
       "                ...        \n",
       "99487   2016-08-24 11:07:00\n",
       "99488   2016-08-24 11:08:02\n",
       "99489   2016-08-24 11:13:00\n",
       "99490   2016-08-24 11:18:01\n",
       "99491   2016-08-24 11:18:02\n",
       "Name: timeStamp, Length: 99492, dtype: datetime64[ns]"
      ]
     },
     "execution_count": 55,
     "metadata": {},
     "output_type": "execute_result"
    }
   ],
   "source": [
    "fechas + pd.Timedelta(seconds = 60)"
   ]
  },
  {
   "cell_type": "markdown",
   "metadata": {},
   "source": [
    "**Offset vs timedelta**  \n",
    "El 14 de marzo de 2021 habrá un cambio de horario."
   ]
  },
  {
   "cell_type": "code",
   "execution_count": 56,
   "metadata": {},
   "outputs": [
    {
     "data": {
      "text/plain": [
       "Timestamp('2021-03-14 00:00:00-0500', tz='US/Eastern')"
      ]
     },
     "execution_count": 56,
     "metadata": {},
     "output_type": "execute_result"
    }
   ],
   "source": [
    "dia_ejemplo = pd.Timestamp('14 march 2021 00:00', tz='US/Eastern')\n",
    "dia_ejemplo"
   ]
  },
  {
   "cell_type": "markdown",
   "metadata": {},
   "source": [
    "Si agrego un día, Offset sólo recorre la fecha un día de calendario independientemente de si ese día va a 'durar' 23,24 ó 25 horas"
   ]
  },
  {
   "cell_type": "code",
   "execution_count": 57,
   "metadata": {},
   "outputs": [
    {
     "data": {
      "text/plain": [
       "Timestamp('2021-03-15 00:00:00-0400', tz='US/Eastern')"
      ]
     },
     "execution_count": 57,
     "metadata": {},
     "output_type": "execute_result"
    }
   ],
   "source": [
    "dia_ejemplo + pd.DateOffset(days=1)"
   ]
  },
  {
   "cell_type": "markdown",
   "metadata": {},
   "source": [
    "Mientras que Timedelta suma 24 horas siempre"
   ]
  },
  {
   "cell_type": "code",
   "execution_count": 58,
   "metadata": {},
   "outputs": [
    {
     "data": {
      "text/plain": [
       "Timestamp('2021-03-15 01:00:00-0400', tz='US/Eastern')"
      ]
     },
     "execution_count": 58,
     "metadata": {},
     "output_type": "execute_result"
    }
   ],
   "source": [
    "dia_ejemplo + pd.Timedelta(days=1)"
   ]
  },
  {
   "cell_type": "markdown",
   "metadata": {},
   "source": [
    "**En operaciones**"
   ]
  },
  {
   "cell_type": "markdown",
   "metadata": {},
   "source": [
    "Si tomamos la diferencia absoluta (segundos) entre cada fecha y antecesora en el datafame obtenemos un Timedelta. De estos Timedeltas podemos pedir semanas, días, horas, minutos, segundos, us, ns. En este pequeño ejemplo vemos cuál fue el tiempo máximo que tuvimos entre eventos."
   ]
  },
  {
   "cell_type": "code",
   "execution_count": 59,
   "metadata": {},
   "outputs": [
    {
     "data": {
      "text/plain": [
       "0                   NaT\n",
       "1       0 days 00:00:00\n",
       "2       0 days 00:00:00\n",
       "3       0 days 00:00:01\n",
       "4       0 days 00:00:00\n",
       "              ...      \n",
       "99487   0 days 00:03:58\n",
       "99488   0 days 00:01:02\n",
       "99489   0 days 00:04:58\n",
       "99490   0 days 00:05:01\n",
       "99491   0 days 00:00:01\n",
       "Name: timeStamp, Length: 99492, dtype: timedelta64[ns]"
      ]
     },
     "execution_count": 59,
     "metadata": {},
     "output_type": "execute_result"
    }
   ],
   "source": [
    "x = fechas.diff()\n",
    "x"
   ]
  },
  {
   "cell_type": "markdown",
   "metadata": {},
   "source": [
    "El número es un poco difícil de apreciar en segundos"
   ]
  },
  {
   "cell_type": "code",
   "execution_count": 60,
   "metadata": {},
   "outputs": [
    {
     "data": {
      "text/plain": [
       "55208    50656.0\n",
       "3212     36481.0\n",
       "2866     29941.0\n",
       "48142     9300.0\n",
       "48271     8280.0\n",
       "Name: timeStamp, dtype: float64"
      ]
     },
     "execution_count": 60,
     "metadata": {},
     "output_type": "execute_result"
    }
   ],
   "source": [
    "x.dt.seconds.nlargest()"
   ]
  },
  {
   "cell_type": "markdown",
   "metadata": {},
   "source": [
    "Pero no son suficientes segundos para hacer un día"
   ]
  },
  {
   "cell_type": "code",
   "execution_count": 61,
   "metadata": {},
   "outputs": [
    {
     "data": {
      "text/plain": [
       "1    0.0\n",
       "2    0.0\n",
       "3    0.0\n",
       "4    0.0\n",
       "5    0.0\n",
       "Name: timeStamp, dtype: float64"
      ]
     },
     "execution_count": 61,
     "metadata": {},
     "output_type": "execute_result"
    }
   ],
   "source": [
    "x.dt.days.nlargest()"
   ]
  },
  {
   "cell_type": "markdown",
   "metadata": {},
   "source": [
    "Probar minutos es más complicado porque estos objetos sólo guardan días, segundos y sus fracciones, por lo que se tiene que hacer el cálculo manualmente. **No tengo idea de por qué es así**"
   ]
  },
  {
   "cell_type": "code",
   "execution_count": 62,
   "metadata": {},
   "outputs": [
    {
     "data": {
      "text/plain": [
       "55208    844.0\n",
       "3212     608.0\n",
       "2866     499.0\n",
       "48142    155.0\n",
       "48271    138.0\n",
       "Name: timeStamp, dtype: float64"
      ]
     },
     "execution_count": 62,
     "metadata": {},
     "output_type": "execute_result"
    }
   ],
   "source": [
    "xx = x.dt.total_seconds()\n",
    "minutos, segundos = divmod(xx, 60)\n",
    "minutos.nlargest()"
   ]
  },
  {
   "cell_type": "markdown",
   "metadata": {},
   "source": [
    "Misma lógica con horas"
   ]
  },
  {
   "cell_type": "code",
   "execution_count": 63,
   "metadata": {},
   "outputs": [
    {
     "data": {
      "text/plain": [
       "55208    14.0\n",
       "3212     10.0\n",
       "2866      8.0\n",
       "48142     2.0\n",
       "48271     2.0\n",
       "Name: timeStamp, dtype: float64"
      ]
     },
     "execution_count": 63,
     "metadata": {},
     "output_type": "execute_result"
    }
   ],
   "source": [
    "xx = x.dt.total_seconds()\n",
    "minutos, segundos = divmod(xx, 3600)\n",
    "minutos.nlargest()"
   ]
  },
  {
   "cell_type": "markdown",
   "metadata": {},
   "source": [
    "**tips de conversión:**  \n",
    "\n",
    "segundos = Timedelta.total_seconds()  \n",
    "horas, segundos = divmod(segundos, 3600)  \n",
    "minutos, segundos = divmod(segundos, 60)"
   ]
  },
  {
   "cell_type": "markdown",
   "metadata": {},
   "source": [
    "**Se usa total_seconds() en vez de seconds por si hay fracciones de segundo. 1us daría 0 seconds pero daría 0.000001 total seconds.**"
   ]
  },
  {
   "cell_type": "markdown",
   "metadata": {},
   "source": [
    "## Rolling"
   ]
  },
  {
   "cell_type": "markdown",
   "metadata": {},
   "source": [
    "Para hacer los famosos: moving averages. Reemplaza los valores por el promedio del actual valor y los n-1 anteriores."
   ]
  },
  {
   "cell_type": "markdown",
   "metadata": {},
   "source": [
    "Por ejemplo, aquí estamos viendo el promedio de 3 valores. Los primeros dos valores están vacío porque no tienen otra información con la cuál alimentarse."
   ]
  },
  {
   "cell_type": "code",
   "execution_count": 64,
   "metadata": {},
   "outputs": [
    {
     "data": {
      "text/html": [
       "<div>\n",
       "<style scoped>\n",
       "    .dataframe tbody tr th:only-of-type {\n",
       "        vertical-align: middle;\n",
       "    }\n",
       "\n",
       "    .dataframe tbody tr th {\n",
       "        vertical-align: top;\n",
       "    }\n",
       "\n",
       "    .dataframe thead th {\n",
       "        text-align: right;\n",
       "    }\n",
       "</style>\n",
       "<table border=\"1\" class=\"dataframe\">\n",
       "  <thead>\n",
       "    <tr style=\"text-align: right;\">\n",
       "      <th></th>\n",
       "      <th>lat</th>\n",
       "      <th>lng</th>\n",
       "      <th>zip</th>\n",
       "      <th>e</th>\n",
       "    </tr>\n",
       "    <tr>\n",
       "      <th>fechas</th>\n",
       "      <th></th>\n",
       "      <th></th>\n",
       "      <th></th>\n",
       "      <th></th>\n",
       "    </tr>\n",
       "  </thead>\n",
       "  <tbody>\n",
       "    <tr>\n",
       "      <th>2015-12-10 17:40:00</th>\n",
       "      <td>NaN</td>\n",
       "      <td>NaN</td>\n",
       "      <td>NaN</td>\n",
       "      <td>NaN</td>\n",
       "    </tr>\n",
       "    <tr>\n",
       "      <th>2015-12-10 17:40:00</th>\n",
       "      <td>NaN</td>\n",
       "      <td>NaN</td>\n",
       "      <td>NaN</td>\n",
       "      <td>NaN</td>\n",
       "    </tr>\n",
       "    <tr>\n",
       "      <th>2015-12-10 17:40:00</th>\n",
       "      <td>40.225706</td>\n",
       "      <td>-75.399316</td>\n",
       "      <td>19457.333333</td>\n",
       "      <td>1.0</td>\n",
       "    </tr>\n",
       "    <tr>\n",
       "      <th>2015-12-10 17:40:01</th>\n",
       "      <td>40.165132</td>\n",
       "      <td>-75.320056</td>\n",
       "      <td>19416.000000</td>\n",
       "      <td>1.0</td>\n",
       "    </tr>\n",
       "    <tr>\n",
       "      <th>2015-12-10 17:40:01</th>\n",
       "      <td>40.162942</td>\n",
       "      <td>-75.432946</td>\n",
       "      <td>NaN</td>\n",
       "      <td>1.0</td>\n",
       "    </tr>\n",
       "    <tr>\n",
       "      <th>...</th>\n",
       "      <td>...</td>\n",
       "      <td>...</td>\n",
       "      <td>...</td>\n",
       "      <td>...</td>\n",
       "    </tr>\n",
       "    <tr>\n",
       "      <th>2016-08-24 11:06:00</th>\n",
       "      <td>40.151899</td>\n",
       "      <td>-75.313988</td>\n",
       "      <td>19282.666667</td>\n",
       "      <td>1.0</td>\n",
       "    </tr>\n",
       "    <tr>\n",
       "      <th>2016-08-24 11:07:02</th>\n",
       "      <td>40.106356</td>\n",
       "      <td>-75.267722</td>\n",
       "      <td>19149.333333</td>\n",
       "      <td>1.0</td>\n",
       "    </tr>\n",
       "    <tr>\n",
       "      <th>2016-08-24 11:12:00</th>\n",
       "      <td>40.085091</td>\n",
       "      <td>-75.319092</td>\n",
       "      <td>19268.333333</td>\n",
       "      <td>1.0</td>\n",
       "    </tr>\n",
       "    <tr>\n",
       "      <th>2016-08-24 11:17:01</th>\n",
       "      <td>40.102945</td>\n",
       "      <td>-75.272105</td>\n",
       "      <td>19135.333333</td>\n",
       "      <td>1.0</td>\n",
       "    </tr>\n",
       "    <tr>\n",
       "      <th>2016-08-24 11:17:02</th>\n",
       "      <td>40.169638</td>\n",
       "      <td>-75.281729</td>\n",
       "      <td>19283.000000</td>\n",
       "      <td>1.0</td>\n",
       "    </tr>\n",
       "  </tbody>\n",
       "</table>\n",
       "<p>99492 rows × 4 columns</p>\n",
       "</div>"
      ],
      "text/plain": [
       "                           lat        lng           zip    e\n",
       "fechas                                                      \n",
       "2015-12-10 17:40:00        NaN        NaN           NaN  NaN\n",
       "2015-12-10 17:40:00        NaN        NaN           NaN  NaN\n",
       "2015-12-10 17:40:00  40.225706 -75.399316  19457.333333  1.0\n",
       "2015-12-10 17:40:01  40.165132 -75.320056  19416.000000  1.0\n",
       "2015-12-10 17:40:01  40.162942 -75.432946           NaN  1.0\n",
       "...                        ...        ...           ...  ...\n",
       "2016-08-24 11:06:00  40.151899 -75.313988  19282.666667  1.0\n",
       "2016-08-24 11:07:02  40.106356 -75.267722  19149.333333  1.0\n",
       "2016-08-24 11:12:00  40.085091 -75.319092  19268.333333  1.0\n",
       "2016-08-24 11:17:01  40.102945 -75.272105  19135.333333  1.0\n",
       "2016-08-24 11:17:02  40.169638 -75.281729  19283.000000  1.0\n",
       "\n",
       "[99492 rows x 4 columns]"
      ]
     },
     "execution_count": 64,
     "metadata": {},
     "output_type": "execute_result"
    }
   ],
   "source": [
    "df_fechas.rolling(3).mean()"
   ]
  },
  {
   "cell_type": "markdown",
   "metadata": {},
   "source": [
    "# Grouper"
   ]
  },
  {
   "cell_type": "code",
   "execution_count": 66,
   "metadata": {},
   "outputs": [],
   "source": [
    "df['fechas'] = fechas"
   ]
  },
  {
   "cell_type": "markdown",
   "metadata": {},
   "source": [
    "Supongamos que quieres agrupar por fecha y zip"
   ]
  },
  {
   "cell_type": "code",
   "execution_count": 67,
   "metadata": {},
   "outputs": [
    {
     "data": {
      "text/html": [
       "<div>\n",
       "<style scoped>\n",
       "    .dataframe tbody tr th:only-of-type {\n",
       "        vertical-align: middle;\n",
       "    }\n",
       "\n",
       "    .dataframe tbody tr th {\n",
       "        vertical-align: top;\n",
       "    }\n",
       "\n",
       "    .dataframe thead th {\n",
       "        text-align: right;\n",
       "    }\n",
       "</style>\n",
       "<table border=\"1\" class=\"dataframe\">\n",
       "  <thead>\n",
       "    <tr style=\"text-align: right;\">\n",
       "      <th></th>\n",
       "      <th></th>\n",
       "      <th>lat</th>\n",
       "      <th>lng</th>\n",
       "      <th>e</th>\n",
       "    </tr>\n",
       "    <tr>\n",
       "      <th>fechas</th>\n",
       "      <th>zip</th>\n",
       "      <th></th>\n",
       "      <th></th>\n",
       "      <th></th>\n",
       "    </tr>\n",
       "  </thead>\n",
       "  <tbody>\n",
       "    <tr>\n",
       "      <th rowspan=\"3\" valign=\"top\">2015-12-10 17:40:00</th>\n",
       "      <th>19401.0</th>\n",
       "      <td>40.121182</td>\n",
       "      <td>-75.351975</td>\n",
       "      <td>1</td>\n",
       "    </tr>\n",
       "    <tr>\n",
       "      <th>19446.0</th>\n",
       "      <td>40.258061</td>\n",
       "      <td>-75.264680</td>\n",
       "      <td>1</td>\n",
       "    </tr>\n",
       "    <tr>\n",
       "      <th>19525.0</th>\n",
       "      <td>40.297876</td>\n",
       "      <td>-75.581294</td>\n",
       "      <td>1</td>\n",
       "    </tr>\n",
       "    <tr>\n",
       "      <th rowspan=\"2\" valign=\"top\">2015-12-10 17:40:01</th>\n",
       "      <th>19044.0</th>\n",
       "      <td>40.182111</td>\n",
       "      <td>-75.127795</td>\n",
       "      <td>1</td>\n",
       "    </tr>\n",
       "    <tr>\n",
       "      <th>19401.0</th>\n",
       "      <td>40.116153</td>\n",
       "      <td>-75.343513</td>\n",
       "      <td>1</td>\n",
       "    </tr>\n",
       "    <tr>\n",
       "      <th>...</th>\n",
       "      <th>...</th>\n",
       "      <td>...</td>\n",
       "      <td>...</td>\n",
       "      <td>...</td>\n",
       "    </tr>\n",
       "    <tr>\n",
       "      <th>2016-08-24 11:06:00</th>\n",
       "      <th>19401.0</th>\n",
       "      <td>40.132869</td>\n",
       "      <td>-75.333515</td>\n",
       "      <td>1</td>\n",
       "    </tr>\n",
       "    <tr>\n",
       "      <th>2016-08-24 11:07:02</th>\n",
       "      <th>19003.0</th>\n",
       "      <td>40.006974</td>\n",
       "      <td>-75.289080</td>\n",
       "      <td>1</td>\n",
       "    </tr>\n",
       "    <tr>\n",
       "      <th>2016-08-24 11:12:00</th>\n",
       "      <th>19401.0</th>\n",
       "      <td>40.115429</td>\n",
       "      <td>-75.334679</td>\n",
       "      <td>1</td>\n",
       "    </tr>\n",
       "    <tr>\n",
       "      <th>2016-08-24 11:17:01</th>\n",
       "      <th>19002.0</th>\n",
       "      <td>40.186431</td>\n",
       "      <td>-75.192555</td>\n",
       "      <td>1</td>\n",
       "    </tr>\n",
       "    <tr>\n",
       "      <th>2016-08-24 11:17:02</th>\n",
       "      <th>19446.0</th>\n",
       "      <td>40.207055</td>\n",
       "      <td>-75.317952</td>\n",
       "      <td>1</td>\n",
       "    </tr>\n",
       "  </tbody>\n",
       "</table>\n",
       "<p>84034 rows × 3 columns</p>\n",
       "</div>"
      ],
      "text/plain": [
       "                                   lat        lng  e\n",
       "fechas              zip                             \n",
       "2015-12-10 17:40:00 19401.0  40.121182 -75.351975  1\n",
       "                    19446.0  40.258061 -75.264680  1\n",
       "                    19525.0  40.297876 -75.581294  1\n",
       "2015-12-10 17:40:01 19044.0  40.182111 -75.127795  1\n",
       "                    19401.0  40.116153 -75.343513  1\n",
       "...                                ...        ... ..\n",
       "2016-08-24 11:06:00 19401.0  40.132869 -75.333515  1\n",
       "2016-08-24 11:07:02 19003.0  40.006974 -75.289080  1\n",
       "2016-08-24 11:12:00 19401.0  40.115429 -75.334679  1\n",
       "2016-08-24 11:17:01 19002.0  40.186431 -75.192555  1\n",
       "2016-08-24 11:17:02 19446.0  40.207055 -75.317952  1\n",
       "\n",
       "[84034 rows x 3 columns]"
      ]
     },
     "execution_count": 67,
     "metadata": {},
     "output_type": "execute_result"
    }
   ],
   "source": [
    "df.groupby(['fechas','zip']).mean()"
   ]
  },
  {
   "cell_type": "markdown",
   "metadata": {},
   "source": [
    "Ahora supongamos que quieres agrupar por fecha y zip, pero quieres resamplear esto a algo DIARIO! D:"
   ]
  },
  {
   "cell_type": "code",
   "execution_count": 68,
   "metadata": {},
   "outputs": [
    {
     "data": {
      "text/html": [
       "<div>\n",
       "<style scoped>\n",
       "    .dataframe tbody tr th:only-of-type {\n",
       "        vertical-align: middle;\n",
       "    }\n",
       "\n",
       "    .dataframe tbody tr th {\n",
       "        vertical-align: top;\n",
       "    }\n",
       "\n",
       "    .dataframe thead th {\n",
       "        text-align: right;\n",
       "    }\n",
       "</style>\n",
       "<table border=\"1\" class=\"dataframe\">\n",
       "  <thead>\n",
       "    <tr style=\"text-align: right;\">\n",
       "      <th></th>\n",
       "      <th></th>\n",
       "      <th>lat</th>\n",
       "      <th>lng</th>\n",
       "      <th>e</th>\n",
       "    </tr>\n",
       "    <tr>\n",
       "      <th>fechas</th>\n",
       "      <th>zip</th>\n",
       "      <th></th>\n",
       "      <th></th>\n",
       "      <th></th>\n",
       "    </tr>\n",
       "  </thead>\n",
       "  <tbody>\n",
       "    <tr>\n",
       "      <th rowspan=\"5\" valign=\"top\">2015-12-10</th>\n",
       "      <th>18041.0</th>\n",
       "      <td>40.414249</td>\n",
       "      <td>-75.509016</td>\n",
       "      <td>1</td>\n",
       "    </tr>\n",
       "    <tr>\n",
       "      <th>18936.0</th>\n",
       "      <td>40.223778</td>\n",
       "      <td>-75.235399</td>\n",
       "      <td>1</td>\n",
       "    </tr>\n",
       "    <tr>\n",
       "      <th>18964.0</th>\n",
       "      <td>40.298004</td>\n",
       "      <td>-75.330187</td>\n",
       "      <td>1</td>\n",
       "    </tr>\n",
       "    <tr>\n",
       "      <th>18974.0</th>\n",
       "      <td>40.209337</td>\n",
       "      <td>-75.135266</td>\n",
       "      <td>1</td>\n",
       "    </tr>\n",
       "    <tr>\n",
       "      <th>19002.0</th>\n",
       "      <td>40.179748</td>\n",
       "      <td>-75.222182</td>\n",
       "      <td>1</td>\n",
       "    </tr>\n",
       "    <tr>\n",
       "      <th>...</th>\n",
       "      <th>...</th>\n",
       "      <td>...</td>\n",
       "      <td>...</td>\n",
       "      <td>...</td>\n",
       "    </tr>\n",
       "    <tr>\n",
       "      <th rowspan=\"5\" valign=\"top\">2016-08-24</th>\n",
       "      <th>19446.0</th>\n",
       "      <td>40.231983</td>\n",
       "      <td>-75.314206</td>\n",
       "      <td>1</td>\n",
       "    </tr>\n",
       "    <tr>\n",
       "      <th>19462.0</th>\n",
       "      <td>40.100344</td>\n",
       "      <td>-75.293955</td>\n",
       "      <td>1</td>\n",
       "    </tr>\n",
       "    <tr>\n",
       "      <th>19464.0</th>\n",
       "      <td>40.255952</td>\n",
       "      <td>-75.640684</td>\n",
       "      <td>1</td>\n",
       "    </tr>\n",
       "    <tr>\n",
       "      <th>19468.0</th>\n",
       "      <td>40.200388</td>\n",
       "      <td>-75.518098</td>\n",
       "      <td>1</td>\n",
       "    </tr>\n",
       "    <tr>\n",
       "      <th>19473.0</th>\n",
       "      <td>40.222196</td>\n",
       "      <td>-75.406875</td>\n",
       "      <td>1</td>\n",
       "    </tr>\n",
       "  </tbody>\n",
       "</table>\n",
       "<p>13848 rows × 3 columns</p>\n",
       "</div>"
      ],
      "text/plain": [
       "                          lat        lng  e\n",
       "fechas     zip                             \n",
       "2015-12-10 18041.0  40.414249 -75.509016  1\n",
       "           18936.0  40.223778 -75.235399  1\n",
       "           18964.0  40.298004 -75.330187  1\n",
       "           18974.0  40.209337 -75.135266  1\n",
       "           19002.0  40.179748 -75.222182  1\n",
       "...                       ...        ... ..\n",
       "2016-08-24 19446.0  40.231983 -75.314206  1\n",
       "           19462.0  40.100344 -75.293955  1\n",
       "           19464.0  40.255952 -75.640684  1\n",
       "           19468.0  40.200388 -75.518098  1\n",
       "           19473.0  40.222196 -75.406875  1\n",
       "\n",
       "[13848 rows x 3 columns]"
      ]
     },
     "execution_count": 68,
     "metadata": {},
     "output_type": "execute_result"
    }
   ],
   "source": [
    "df.groupby([pd.Grouper(key = 'fechas', freq = 'D'),'zip']).mean()"
   ]
  }
 ],
 "metadata": {
  "kernelspec": {
   "display_name": "Python 3.8.10 ('venv': venv)",
   "language": "python",
   "name": "python3"
  },
  "language_info": {
   "codemirror_mode": {
    "name": "ipython",
    "version": 3
   },
   "file_extension": ".py",
   "mimetype": "text/x-python",
   "name": "python",
   "nbconvert_exporter": "python",
   "pygments_lexer": "ipython3",
   "version": "3.8.10"
  },
  "vscode": {
   "interpreter": {
    "hash": "6e6bfa47c5f9b440aebca8a0d5a5bb8eead294e8e66d3c9d96f3fbf5d6d606f8"
   }
  }
 },
 "nbformat": 4,
 "nbformat_minor": 4
}
