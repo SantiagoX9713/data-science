{
 "cells": [
  {
   "cell_type": "code",
   "execution_count": 1,
   "metadata": {},
   "outputs": [],
   "source": [
    "import pandas as pd\n",
    "import numpy as np"
   ]
  },
  {
   "cell_type": "code",
   "execution_count": 2,
   "metadata": {},
   "outputs": [],
   "source": [
    "df = pd.read_csv('./Sets/pokemon.csv')"
   ]
  },
  {
   "cell_type": "markdown",
   "metadata": {},
   "source": [
    "#  Pandas para EDA - Acumulados, faltantes e iteraciones"
   ]
  },
  {
   "cell_type": "markdown",
   "metadata": {},
   "source": [
    "Si has seguido las otras dos libretas notarás que aquí cambiamos de dataset. Pon a prueba lo que aprendiste en 1. Pandas para EDA - Atributos y vistazos para familiarizarte rápidamente con el dataset."
   ]
  },
  {
   "cell_type": "markdown",
   "metadata": {},
   "source": [
    "## Acumulados"
   ]
  },
  {
   "cell_type": "markdown",
   "metadata": {},
   "source": [
    "Suma acumulada - te regresa el enésimo valor sumado a la suma de todos los valores anteriores"
   ]
  },
  {
   "cell_type": "code",
   "execution_count": 3,
   "metadata": {},
   "outputs": [
    {
     "data": {
      "text/html": [
       "<div>\n",
       "<style scoped>\n",
       "    .dataframe tbody tr th:only-of-type {\n",
       "        vertical-align: middle;\n",
       "    }\n",
       "\n",
       "    .dataframe tbody tr th {\n",
       "        vertical-align: top;\n",
       "    }\n",
       "\n",
       "    .dataframe thead th {\n",
       "        text-align: right;\n",
       "    }\n",
       "</style>\n",
       "<table border=\"1\" class=\"dataframe\">\n",
       "  <thead>\n",
       "    <tr style=\"text-align: right;\">\n",
       "      <th></th>\n",
       "      <th>attack</th>\n",
       "    </tr>\n",
       "  </thead>\n",
       "  <tbody>\n",
       "    <tr>\n",
       "      <th>0</th>\n",
       "      <td>49</td>\n",
       "    </tr>\n",
       "    <tr>\n",
       "      <th>1</th>\n",
       "      <td>111</td>\n",
       "    </tr>\n",
       "    <tr>\n",
       "      <th>2</th>\n",
       "      <td>211</td>\n",
       "    </tr>\n",
       "    <tr>\n",
       "      <th>3</th>\n",
       "      <td>263</td>\n",
       "    </tr>\n",
       "    <tr>\n",
       "      <th>4</th>\n",
       "      <td>327</td>\n",
       "    </tr>\n",
       "    <tr>\n",
       "      <th>...</th>\n",
       "      <td>...</td>\n",
       "    </tr>\n",
       "    <tr>\n",
       "      <th>796</th>\n",
       "      <td>61880</td>\n",
       "    </tr>\n",
       "    <tr>\n",
       "      <th>797</th>\n",
       "      <td>62061</td>\n",
       "    </tr>\n",
       "    <tr>\n",
       "      <th>798</th>\n",
       "      <td>62162</td>\n",
       "    </tr>\n",
       "    <tr>\n",
       "      <th>799</th>\n",
       "      <td>62269</td>\n",
       "    </tr>\n",
       "    <tr>\n",
       "      <th>800</th>\n",
       "      <td>62364</td>\n",
       "    </tr>\n",
       "  </tbody>\n",
       "</table>\n",
       "<p>801 rows × 1 columns</p>\n",
       "</div>"
      ],
      "text/plain": [
       "     attack\n",
       "0        49\n",
       "1       111\n",
       "2       211\n",
       "3       263\n",
       "4       327\n",
       "..      ...\n",
       "796   61880\n",
       "797   62061\n",
       "798   62162\n",
       "799   62269\n",
       "800   62364\n",
       "\n",
       "[801 rows x 1 columns]"
      ]
     },
     "execution_count": 3,
     "metadata": {},
     "output_type": "execute_result"
    }
   ],
   "source": [
    "df[['attack']].cumsum()"
   ]
  },
  {
   "cell_type": "markdown",
   "metadata": {},
   "source": [
    "Producto acumulado -  te regresa el enésimo valor multiplicado por el producto de todos los valores anteriores"
   ]
  },
  {
   "cell_type": "markdown",
   "metadata": {},
   "source": [
    "...sí es bastante inútil la mayoría del tiempo, pero puede ser usado para detectar 0's en tu data. Al primer 0 que te encuentres todos tus productos serán 0."
   ]
  },
  {
   "cell_type": "code",
   "execution_count": 4,
   "metadata": {},
   "outputs": [
    {
     "data": {
      "text/html": [
       "<div>\n",
       "<style scoped>\n",
       "    .dataframe tbody tr th:only-of-type {\n",
       "        vertical-align: middle;\n",
       "    }\n",
       "\n",
       "    .dataframe tbody tr th {\n",
       "        vertical-align: top;\n",
       "    }\n",
       "\n",
       "    .dataframe thead th {\n",
       "        text-align: right;\n",
       "    }\n",
       "</style>\n",
       "<table border=\"1\" class=\"dataframe\">\n",
       "  <thead>\n",
       "    <tr style=\"text-align: right;\">\n",
       "      <th></th>\n",
       "      <th>attack</th>\n",
       "    </tr>\n",
       "  </thead>\n",
       "  <tbody>\n",
       "    <tr>\n",
       "      <th>0</th>\n",
       "      <td>49</td>\n",
       "    </tr>\n",
       "    <tr>\n",
       "      <th>1</th>\n",
       "      <td>3038</td>\n",
       "    </tr>\n",
       "    <tr>\n",
       "      <th>2</th>\n",
       "      <td>303800</td>\n",
       "    </tr>\n",
       "    <tr>\n",
       "      <th>3</th>\n",
       "      <td>15797600</td>\n",
       "    </tr>\n",
       "    <tr>\n",
       "      <th>4</th>\n",
       "      <td>1011046400</td>\n",
       "    </tr>\n",
       "    <tr>\n",
       "      <th>...</th>\n",
       "      <td>...</td>\n",
       "    </tr>\n",
       "    <tr>\n",
       "      <th>796</th>\n",
       "      <td>0</td>\n",
       "    </tr>\n",
       "    <tr>\n",
       "      <th>797</th>\n",
       "      <td>0</td>\n",
       "    </tr>\n",
       "    <tr>\n",
       "      <th>798</th>\n",
       "      <td>0</td>\n",
       "    </tr>\n",
       "    <tr>\n",
       "      <th>799</th>\n",
       "      <td>0</td>\n",
       "    </tr>\n",
       "    <tr>\n",
       "      <th>800</th>\n",
       "      <td>0</td>\n",
       "    </tr>\n",
       "  </tbody>\n",
       "</table>\n",
       "<p>801 rows × 1 columns</p>\n",
       "</div>"
      ],
      "text/plain": [
       "         attack\n",
       "0            49\n",
       "1          3038\n",
       "2        303800\n",
       "3      15797600\n",
       "4    1011046400\n",
       "..          ...\n",
       "796           0\n",
       "797           0\n",
       "798           0\n",
       "799           0\n",
       "800           0\n",
       "\n",
       "[801 rows x 1 columns]"
      ]
     },
     "execution_count": 4,
     "metadata": {},
     "output_type": "execute_result"
    }
   ],
   "source": [
    "df[['attack']].cumprod()"
   ]
  },
  {
   "cell_type": "markdown",
   "metadata": {},
   "source": [
    "Mínimo acumulado - te regresa el valor mínimo hasta la posición en la que estas. O sea, si vas en el registro número 100 y el valor más pequeño que te has topado en el camino es un -10, entonces tu mínimo acumulado será -10 y seguirá siendo hasta que te topes un valor más pequeño"
   ]
  },
  {
   "cell_type": "code",
   "execution_count": 5,
   "metadata": {},
   "outputs": [
    {
     "data": {
      "text/html": [
       "<div>\n",
       "<style scoped>\n",
       "    .dataframe tbody tr th:only-of-type {\n",
       "        vertical-align: middle;\n",
       "    }\n",
       "\n",
       "    .dataframe tbody tr th {\n",
       "        vertical-align: top;\n",
       "    }\n",
       "\n",
       "    .dataframe thead th {\n",
       "        text-align: right;\n",
       "    }\n",
       "</style>\n",
       "<table border=\"1\" class=\"dataframe\">\n",
       "  <thead>\n",
       "    <tr style=\"text-align: right;\">\n",
       "      <th></th>\n",
       "      <th>attack</th>\n",
       "    </tr>\n",
       "  </thead>\n",
       "  <tbody>\n",
       "    <tr>\n",
       "      <th>0</th>\n",
       "      <td>49</td>\n",
       "    </tr>\n",
       "    <tr>\n",
       "      <th>1</th>\n",
       "      <td>49</td>\n",
       "    </tr>\n",
       "    <tr>\n",
       "      <th>2</th>\n",
       "      <td>49</td>\n",
       "    </tr>\n",
       "    <tr>\n",
       "      <th>3</th>\n",
       "      <td>49</td>\n",
       "    </tr>\n",
       "    <tr>\n",
       "      <th>4</th>\n",
       "      <td>49</td>\n",
       "    </tr>\n",
       "    <tr>\n",
       "      <th>...</th>\n",
       "      <td>...</td>\n",
       "    </tr>\n",
       "    <tr>\n",
       "      <th>796</th>\n",
       "      <td>5</td>\n",
       "    </tr>\n",
       "    <tr>\n",
       "      <th>797</th>\n",
       "      <td>5</td>\n",
       "    </tr>\n",
       "    <tr>\n",
       "      <th>798</th>\n",
       "      <td>5</td>\n",
       "    </tr>\n",
       "    <tr>\n",
       "      <th>799</th>\n",
       "      <td>5</td>\n",
       "    </tr>\n",
       "    <tr>\n",
       "      <th>800</th>\n",
       "      <td>5</td>\n",
       "    </tr>\n",
       "  </tbody>\n",
       "</table>\n",
       "<p>801 rows × 1 columns</p>\n",
       "</div>"
      ],
      "text/plain": [
       "     attack\n",
       "0        49\n",
       "1        49\n",
       "2        49\n",
       "3        49\n",
       "4        49\n",
       "..      ...\n",
       "796       5\n",
       "797       5\n",
       "798       5\n",
       "799       5\n",
       "800       5\n",
       "\n",
       "[801 rows x 1 columns]"
      ]
     },
     "execution_count": 5,
     "metadata": {},
     "output_type": "execute_result"
    }
   ],
   "source": [
    "df[['attack']].cummin()"
   ]
  },
  {
   "cell_type": "markdown",
   "metadata": {},
   "source": [
    "Lo mismo que cummin pero para máximo"
   ]
  },
  {
   "cell_type": "code",
   "execution_count": 6,
   "metadata": {},
   "outputs": [
    {
     "data": {
      "text/html": [
       "<div>\n",
       "<style scoped>\n",
       "    .dataframe tbody tr th:only-of-type {\n",
       "        vertical-align: middle;\n",
       "    }\n",
       "\n",
       "    .dataframe tbody tr th {\n",
       "        vertical-align: top;\n",
       "    }\n",
       "\n",
       "    .dataframe thead th {\n",
       "        text-align: right;\n",
       "    }\n",
       "</style>\n",
       "<table border=\"1\" class=\"dataframe\">\n",
       "  <thead>\n",
       "    <tr style=\"text-align: right;\">\n",
       "      <th></th>\n",
       "      <th>attack</th>\n",
       "    </tr>\n",
       "  </thead>\n",
       "  <tbody>\n",
       "    <tr>\n",
       "      <th>0</th>\n",
       "      <td>49</td>\n",
       "    </tr>\n",
       "    <tr>\n",
       "      <th>1</th>\n",
       "      <td>62</td>\n",
       "    </tr>\n",
       "    <tr>\n",
       "      <th>2</th>\n",
       "      <td>100</td>\n",
       "    </tr>\n",
       "    <tr>\n",
       "      <th>3</th>\n",
       "      <td>100</td>\n",
       "    </tr>\n",
       "    <tr>\n",
       "      <th>4</th>\n",
       "      <td>100</td>\n",
       "    </tr>\n",
       "    <tr>\n",
       "      <th>...</th>\n",
       "      <td>...</td>\n",
       "    </tr>\n",
       "    <tr>\n",
       "      <th>796</th>\n",
       "      <td>185</td>\n",
       "    </tr>\n",
       "    <tr>\n",
       "      <th>797</th>\n",
       "      <td>185</td>\n",
       "    </tr>\n",
       "    <tr>\n",
       "      <th>798</th>\n",
       "      <td>185</td>\n",
       "    </tr>\n",
       "    <tr>\n",
       "      <th>799</th>\n",
       "      <td>185</td>\n",
       "    </tr>\n",
       "    <tr>\n",
       "      <th>800</th>\n",
       "      <td>185</td>\n",
       "    </tr>\n",
       "  </tbody>\n",
       "</table>\n",
       "<p>801 rows × 1 columns</p>\n",
       "</div>"
      ],
      "text/plain": [
       "     attack\n",
       "0        49\n",
       "1        62\n",
       "2       100\n",
       "3       100\n",
       "4       100\n",
       "..      ...\n",
       "796     185\n",
       "797     185\n",
       "798     185\n",
       "799     185\n",
       "800     185\n",
       "\n",
       "[801 rows x 1 columns]"
      ]
     },
     "execution_count": 6,
     "metadata": {},
     "output_type": "execute_result"
    }
   ],
   "source": [
    "df[['attack']].cummax()"
   ]
  },
  {
   "cell_type": "markdown",
   "metadata": {},
   "source": [
    "## Faltantes"
   ]
  },
  {
   "cell_type": "markdown",
   "metadata": {},
   "source": [
    "**any, all**"
   ]
  },
  {
   "cell_type": "markdown",
   "metadata": {},
   "source": [
    "Any y all se usan para evaluar series booleanas. Any regresará True si hay al menos un True en la Serie. All regresará true sólo si todos los elementos son verdaderos en la Serie."
   ]
  },
  {
   "cell_type": "code",
   "execution_count": 8,
   "metadata": {},
   "outputs": [
    {
     "data": {
      "text/plain": [
       "0     True\n",
       "1     True\n",
       "2     True\n",
       "3     True\n",
       "4    False\n",
       "5     True\n",
       "6     True\n",
       "dtype: bool"
      ]
     },
     "execution_count": 8,
     "metadata": {},
     "output_type": "execute_result"
    }
   ],
   "source": [
    "ejemplo = pd.Series([True,True,True,True,False,True,True])\n",
    "ejemplo"
   ]
  },
  {
   "cell_type": "code",
   "execution_count": 9,
   "metadata": {},
   "outputs": [
    {
     "data": {
      "text/plain": [
       "True"
      ]
     },
     "execution_count": 9,
     "metadata": {},
     "output_type": "execute_result"
    }
   ],
   "source": [
    "ejemplo.any()"
   ]
  },
  {
   "cell_type": "code",
   "execution_count": 10,
   "metadata": {},
   "outputs": [
    {
     "data": {
      "text/plain": [
       "False"
      ]
     },
     "execution_count": 10,
     "metadata": {},
     "output_type": "execute_result"
    }
   ],
   "source": [
    "ejemplo.all()"
   ]
  },
  {
   "cell_type": "markdown",
   "metadata": {},
   "source": [
    "**sum** para ver cuántos elementos ciertos tienes en tu arreglo"
   ]
  },
  {
   "cell_type": "code",
   "execution_count": 11,
   "metadata": {},
   "outputs": [
    {
     "data": {
      "text/plain": [
       "6"
      ]
     },
     "execution_count": 11,
     "metadata": {},
     "output_type": "execute_result"
    }
   ],
   "source": [
    "ejemplo.sum()"
   ]
  },
  {
   "cell_type": "markdown",
   "metadata": {},
   "source": [
    "**isnull** para saber si valor es nulo o no"
   ]
  },
  {
   "cell_type": "code",
   "execution_count": 12,
   "metadata": {},
   "outputs": [
    {
     "data": {
      "text/plain": [
       "0    False\n",
       "1    False\n",
       "2     True\n",
       "3    False\n",
       "4    False\n",
       "5    False\n",
       "6    False\n",
       "dtype: bool"
      ]
     },
     "execution_count": 12,
     "metadata": {},
     "output_type": "execute_result"
    }
   ],
   "source": [
    "ejemplo = pd.Series([1,2,np.nan,3,4,5,6])\n",
    "ejemplo.isnull()"
   ]
  },
  {
   "cell_type": "markdown",
   "metadata": {},
   "source": [
    "Ahora sabemos que hay al menos 1 nulo"
   ]
  },
  {
   "cell_type": "code",
   "execution_count": 13,
   "metadata": {},
   "outputs": [
    {
     "data": {
      "text/plain": [
       "True"
      ]
     },
     "execution_count": 13,
     "metadata": {},
     "output_type": "execute_result"
    }
   ],
   "source": [
    "ejemplo.isnull().any()"
   ]
  },
  {
   "cell_type": "markdown",
   "metadata": {},
   "source": [
    "Ahora sabemos que hay exactamente un nulo."
   ]
  },
  {
   "cell_type": "code",
   "execution_count": 14,
   "metadata": {
    "scrolled": true
   },
   "outputs": [
    {
     "data": {
      "text/plain": [
       "1"
      ]
     },
     "execution_count": 14,
     "metadata": {},
     "output_type": "execute_result"
    }
   ],
   "source": [
    "ejemplo.isnull().sum()"
   ]
  },
  {
   "cell_type": "markdown",
   "metadata": {},
   "source": [
    "Como vimos en 1. Pandas para EDA - Atributos y vistazos puedes ver el número de valores faltantes con el siguiente comando"
   ]
  },
  {
   "cell_type": "code",
   "execution_count": 15,
   "metadata": {},
   "outputs": [
    {
     "data": {
      "text/plain": [
       "type2              384\n",
       "percentage_male     98\n",
       "weight_kg           20\n",
       "height_m            20\n",
       "name                 0\n",
       "dtype: int64"
      ]
     },
     "execution_count": 15,
     "metadata": {},
     "output_type": "execute_result"
    }
   ],
   "source": [
    "df.isnull().sum().sort_values(ascending=False).head()"
   ]
  },
  {
   "cell_type": "markdown",
   "metadata": {},
   "source": [
    "La pregunta ahora es, cómo llenas esos valores nulos?"
   ]
  },
  {
   "cell_type": "markdown",
   "metadata": {},
   "source": [
    "fillna - reemplaza todos los nans/nulos con un valor o un método"
   ]
  },
  {
   "cell_type": "markdown",
   "metadata": {},
   "source": [
    "con un valor constante (buena práctica usar media, mediana o moda)"
   ]
  },
  {
   "cell_type": "code",
   "execution_count": 33,
   "metadata": {},
   "outputs": [
    {
     "data": {
      "text/plain": [
       "0        6.9\n",
       "1       13.0\n",
       "2      100.0\n",
       "3        8.5\n",
       "4       19.0\n",
       "       ...  \n",
       "796    999.9\n",
       "797      0.1\n",
       "798    888.0\n",
       "799    230.0\n",
       "800     80.5\n",
       "Name: weight_kg, Length: 801, dtype: float64"
      ]
     },
     "execution_count": 33,
     "metadata": {},
     "output_type": "execute_result"
    }
   ],
   "source": [
    "df.weight_kg.fillna(df.weight_kg.mean())"
   ]
  },
  {
   "cell_type": "markdown",
   "metadata": {},
   "source": [
    "con un método  \n",
    "- ffil --> propaga un valor válido a los nans que tenga entre sí y el próximo valor válido\n",
    "- bfill --> rellena un nan con el siguiente valor válido"
   ]
  },
  {
   "cell_type": "code",
   "execution_count": 35,
   "metadata": {},
   "outputs": [
    {
     "data": {
      "text/plain": [
       "0        6.9\n",
       "1       13.0\n",
       "2      100.0\n",
       "3        8.5\n",
       "4       19.0\n",
       "       ...  \n",
       "796    999.9\n",
       "797      0.1\n",
       "798    888.0\n",
       "799    230.0\n",
       "800     80.5\n",
       "Name: weight_kg, Length: 801, dtype: float64"
      ]
     },
     "execution_count": 35,
     "metadata": {},
     "output_type": "execute_result"
    }
   ],
   "source": [
    "df.weight_kg.fillna(method='ffill')"
   ]
  },
  {
   "cell_type": "code",
   "execution_count": 36,
   "metadata": {},
   "outputs": [
    {
     "data": {
      "text/plain": [
       "0"
      ]
     },
     "execution_count": 36,
     "metadata": {},
     "output_type": "execute_result"
    }
   ],
   "source": [
    "df.weight_kg.fillna(method='ffill').isnull().sum()"
   ]
  },
  {
   "cell_type": "markdown",
   "metadata": {},
   "source": [
    "**dropna**"
   ]
  },
  {
   "cell_type": "markdown",
   "metadata": {},
   "source": [
    "Si no quieres reemplazar los valores nulos siempre puede tirar los renglones o columnas donde tengas información faltante."
   ]
  },
  {
   "cell_type": "markdown",
   "metadata": {},
   "source": [
    "Puedes eliminar renglones con faltantes (axis = 0) o columnas enteras si hay faltantes (axis = 1). Con el parámetro how y thresh puedes determinar cuántos faltantes necesitas para tirar el renglón o columna.  \n",
    "\n",
    "por ejemplo .dropna(how='any',axis=1) va a tirar cualquier columna que tenga nulos. (la alternativa es how='all')  \n",
    "\n",
    "o puedes hacer un .dropna(thresh=3, axis = 0) donde vas a tirar cualquier renglón que tenga 3 o más faltantes  \n",
    "\n",
    "si usas dropna así solo vas a eliminar todos los renglones donde haya al menos 1 faltante  \n",
    "\n",
    "requiere de un inplace=True para hacer cambios permanentes"
   ]
  },
  {
   "cell_type": "code",
   "execution_count": 16,
   "metadata": {},
   "outputs": [
    {
     "name": "stdout",
     "output_type": "stream",
     "text": [
      "<class 'pandas.core.frame.DataFrame'>\n",
      "Int64Index: 339 entries, 0 to 783\n",
      "Data columns (total 41 columns):\n",
      " #   Column             Non-Null Count  Dtype  \n",
      "---  ------             --------------  -----  \n",
      " 0   abilities          339 non-null    object \n",
      " 1   against_bug        339 non-null    float64\n",
      " 2   against_dark       339 non-null    float64\n",
      " 3   against_dragon     339 non-null    float64\n",
      " 4   against_electric   339 non-null    float64\n",
      " 5   against_fairy      339 non-null    float64\n",
      " 6   against_fight      339 non-null    float64\n",
      " 7   against_fire       339 non-null    float64\n",
      " 8   against_flying     339 non-null    float64\n",
      " 9   against_ghost      339 non-null    float64\n",
      " 10  against_grass      339 non-null    float64\n",
      " 11  against_ground     339 non-null    float64\n",
      " 12  against_ice        339 non-null    float64\n",
      " 13  against_normal     339 non-null    float64\n",
      " 14  against_poison     339 non-null    float64\n",
      " 15  against_psychic    339 non-null    float64\n",
      " 16  against_rock       339 non-null    float64\n",
      " 17  against_steel      339 non-null    float64\n",
      " 18  against_water      339 non-null    float64\n",
      " 19  attack             339 non-null    int64  \n",
      " 20  base_egg_steps     339 non-null    int64  \n",
      " 21  base_happiness     339 non-null    int64  \n",
      " 22  base_total         339 non-null    int64  \n",
      " 23  capture_rate       339 non-null    object \n",
      " 24  classfication      339 non-null    object \n",
      " 25  defense            339 non-null    int64  \n",
      " 26  experience_growth  339 non-null    int64  \n",
      " 27  height_m           339 non-null    float64\n",
      " 28  hp                 339 non-null    int64  \n",
      " 29  japanese_name      339 non-null    object \n",
      " 30  name               339 non-null    object \n",
      " 31  percentage_male    339 non-null    float64\n",
      " 32  pokedex_number     339 non-null    int64  \n",
      " 33  sp_attack          339 non-null    int64  \n",
      " 34  sp_defense         339 non-null    int64  \n",
      " 35  speed              339 non-null    int64  \n",
      " 36  type1              339 non-null    object \n",
      " 37  type2              339 non-null    object \n",
      " 38  weight_kg          339 non-null    float64\n",
      " 39  generation         339 non-null    int64  \n",
      " 40  is_legendary       339 non-null    int64  \n",
      "dtypes: float64(21), int64(13), object(7)\n",
      "memory usage: 111.2+ KB\n"
     ]
    }
   ],
   "source": [
    "df.dropna().info()"
   ]
  },
  {
   "cell_type": "markdown",
   "metadata": {},
   "source": [
    "## iteraciones"
   ]
  },
  {
   "cell_type": "markdown",
   "metadata": {},
   "source": [
    "Vamos a convertir cada de valor de ataque en un string y sumarle '_iterado'"
   ]
  },
  {
   "cell_type": "markdown",
   "metadata": {},
   "source": [
    "**iterrows**"
   ]
  },
  {
   "cell_type": "markdown",
   "metadata": {},
   "source": [
    "La más 'sencilla'... también es la más lenta"
   ]
  },
  {
   "cell_type": "markdown",
   "metadata": {},
   "source": [
    "iterrows e itertupes te regresan el valor e índice de los renglones. Similar al enumerate() de python vainilla."
   ]
  },
  {
   "cell_type": "code",
   "execution_count": 38,
   "metadata": {
    "scrolled": true
   },
   "outputs": [
    {
     "name": "stdout",
     "output_type": "stream",
     "text": [
      "49_iterado\n",
      "62_iterado\n",
      "100_iterado\n",
      "52_iterado\n",
      "64_iterado\n",
      "104_iterado\n",
      "48_iterado\n",
      "63_iterado\n",
      "103_iterado\n",
      "30_iterado\n",
      "20_iterado\n",
      "45_iterado\n",
      "35_iterado\n",
      "25_iterado\n",
      "150_iterado\n",
      "45_iterado\n",
      "60_iterado\n",
      "80_iterado\n",
      "56_iterado\n",
      "71_iterado\n",
      "60_iterado\n",
      "90_iterado\n",
      "60_iterado\n",
      "95_iterado\n",
      "55_iterado\n",
      "85_iterado\n",
      "75_iterado\n",
      "100_iterado\n",
      "47_iterado\n",
      "62_iterado\n",
      "92_iterado\n",
      "57_iterado\n",
      "72_iterado\n",
      "102_iterado\n",
      "45_iterado\n",
      "70_iterado\n",
      "41_iterado\n",
      "67_iterado\n",
      "45_iterado\n",
      "70_iterado\n",
      "45_iterado\n",
      "80_iterado\n",
      "50_iterado\n",
      "65_iterado\n",
      "80_iterado\n",
      "70_iterado\n",
      "95_iterado\n",
      "55_iterado\n",
      "65_iterado\n",
      "55_iterado\n",
      "100_iterado\n",
      "35_iterado\n",
      "60_iterado\n",
      "52_iterado\n",
      "82_iterado\n",
      "80_iterado\n",
      "105_iterado\n",
      "70_iterado\n",
      "110_iterado\n",
      "50_iterado\n",
      "65_iterado\n",
      "95_iterado\n",
      "20_iterado\n",
      "35_iterado\n",
      "50_iterado\n",
      "80_iterado\n",
      "100_iterado\n",
      "130_iterado\n",
      "75_iterado\n",
      "90_iterado\n",
      "105_iterado\n",
      "40_iterado\n",
      "70_iterado\n",
      "80_iterado\n",
      "95_iterado\n",
      "120_iterado\n",
      "85_iterado\n",
      "100_iterado\n",
      "65_iterado\n",
      "75_iterado\n",
      "35_iterado\n",
      "60_iterado\n",
      "90_iterado\n",
      "85_iterado\n",
      "110_iterado\n",
      "45_iterado\n",
      "70_iterado\n",
      "80_iterado\n",
      "105_iterado\n",
      "65_iterado\n",
      "95_iterado\n",
      "35_iterado\n",
      "50_iterado\n",
      "65_iterado\n",
      "45_iterado\n",
      "48_iterado\n",
      "73_iterado\n",
      "105_iterado\n",
      "130_iterado\n",
      "30_iterado\n",
      "50_iterado\n",
      "40_iterado\n",
      "105_iterado\n",
      "50_iterado\n",
      "80_iterado\n",
      "120_iterado\n",
      "105_iterado\n",
      "55_iterado\n",
      "65_iterado\n",
      "90_iterado\n",
      "85_iterado\n",
      "130_iterado\n",
      "5_iterado\n",
      "55_iterado\n",
      "125_iterado\n",
      "40_iterado\n",
      "65_iterado\n",
      "67_iterado\n",
      "92_iterado\n",
      "45_iterado\n",
      "75_iterado\n",
      "45_iterado\n",
      "110_iterado\n",
      "50_iterado\n",
      "83_iterado\n",
      "95_iterado\n",
      "155_iterado\n",
      "100_iterado\n",
      "10_iterado\n",
      "155_iterado\n",
      "85_iterado\n",
      "48_iterado\n",
      "55_iterado\n",
      "65_iterado\n",
      "65_iterado\n",
      "130_iterado\n",
      "60_iterado\n",
      "40_iterado\n",
      "60_iterado\n",
      "80_iterado\n",
      "115_iterado\n",
      "135_iterado\n",
      "110_iterado\n",
      "85_iterado\n",
      "90_iterado\n",
      "100_iterado\n",
      "64_iterado\n",
      "84_iterado\n",
      "134_iterado\n",
      "150_iterado\n",
      "100_iterado\n",
      "49_iterado\n",
      "62_iterado\n",
      "82_iterado\n",
      "52_iterado\n",
      "64_iterado\n",
      "84_iterado\n",
      "65_iterado\n",
      "80_iterado\n",
      "105_iterado\n",
      "46_iterado\n",
      "76_iterado\n",
      "30_iterado\n",
      "50_iterado\n",
      "20_iterado\n",
      "35_iterado\n",
      "60_iterado\n",
      "90_iterado\n",
      "90_iterado\n",
      "38_iterado\n",
      "58_iterado\n",
      "40_iterado\n",
      "25_iterado\n",
      "30_iterado\n",
      "20_iterado\n",
      "40_iterado\n",
      "50_iterado\n",
      "75_iterado\n",
      "40_iterado\n",
      "55_iterado\n",
      "95_iterado\n",
      "80_iterado\n",
      "20_iterado\n",
      "50_iterado\n",
      "100_iterado\n",
      "75_iterado\n",
      "35_iterado\n",
      "45_iterado\n",
      "55_iterado\n",
      "70_iterado\n",
      "30_iterado\n",
      "75_iterado\n",
      "65_iterado\n",
      "45_iterado\n",
      "85_iterado\n",
      "65_iterado\n",
      "65_iterado\n",
      "85_iterado\n",
      "75_iterado\n",
      "60_iterado\n",
      "72_iterado\n",
      "33_iterado\n",
      "80_iterado\n",
      "65_iterado\n",
      "90_iterado\n",
      "70_iterado\n",
      "75_iterado\n",
      "125_iterado\n",
      "80_iterado\n",
      "120_iterado\n",
      "95_iterado\n",
      "150_iterado\n",
      "10_iterado\n",
      "185_iterado\n",
      "95_iterado\n",
      "80_iterado\n",
      "130_iterado\n",
      "40_iterado\n",
      "50_iterado\n",
      "50_iterado\n",
      "100_iterado\n",
      "55_iterado\n",
      "65_iterado\n",
      "105_iterado\n",
      "55_iterado\n",
      "40_iterado\n",
      "80_iterado\n",
      "60_iterado\n",
      "90_iterado\n",
      "95_iterado\n",
      "60_iterado\n",
      "120_iterado\n",
      "80_iterado\n",
      "95_iterado\n",
      "20_iterado\n",
      "35_iterado\n",
      "95_iterado\n",
      "30_iterado\n",
      "63_iterado\n",
      "75_iterado\n",
      "80_iterado\n",
      "10_iterado\n",
      "85_iterado\n",
      "115_iterado\n",
      "75_iterado\n",
      "64_iterado\n",
      "84_iterado\n",
      "164_iterado\n",
      "90_iterado\n",
      "130_iterado\n",
      "100_iterado\n",
      "45_iterado\n",
      "65_iterado\n",
      "110_iterado\n",
      "60_iterado\n",
      "85_iterado\n",
      "160_iterado\n",
      "70_iterado\n",
      "85_iterado\n",
      "150_iterado\n",
      "55_iterado\n",
      "90_iterado\n",
      "30_iterado\n",
      "70_iterado\n",
      "45_iterado\n",
      "35_iterado\n",
      "70_iterado\n",
      "35_iterado\n",
      "50_iterado\n",
      "30_iterado\n",
      "50_iterado\n",
      "70_iterado\n",
      "40_iterado\n",
      "70_iterado\n",
      "100_iterado\n",
      "55_iterado\n",
      "85_iterado\n",
      "30_iterado\n",
      "50_iterado\n",
      "25_iterado\n",
      "35_iterado\n",
      "85_iterado\n",
      "30_iterado\n",
      "60_iterado\n",
      "40_iterado\n",
      "130_iterado\n",
      "60_iterado\n",
      "80_iterado\n",
      "160_iterado\n",
      "45_iterado\n",
      "90_iterado\n",
      "90_iterado\n",
      "51_iterado\n",
      "71_iterado\n",
      "91_iterado\n",
      "60_iterado\n",
      "120_iterado\n",
      "20_iterado\n",
      "45_iterado\n",
      "45_iterado\n",
      "65_iterado\n",
      "85_iterado\n",
      "105_iterado\n",
      "70_iterado\n",
      "90_iterado\n",
      "140_iterado\n",
      "40_iterado\n",
      "100_iterado\n",
      "45_iterado\n",
      "75_iterado\n",
      "50_iterado\n",
      "40_iterado\n",
      "73_iterado\n",
      "47_iterado\n",
      "60_iterado\n",
      "43_iterado\n",
      "73_iterado\n",
      "90_iterado\n",
      "140_iterado\n",
      "70_iterado\n",
      "90_iterado\n",
      "60_iterado\n",
      "120_iterado\n",
      "85_iterado\n",
      "25_iterado\n",
      "45_iterado\n",
      "60_iterado\n",
      "100_iterado\n",
      "70_iterado\n",
      "100_iterado\n",
      "85_iterado\n",
      "115_iterado\n",
      "40_iterado\n",
      "110_iterado\n",
      "115_iterado\n",
      "100_iterado\n",
      "55_iterado\n",
      "95_iterado\n",
      "48_iterado\n",
      "78_iterado\n",
      "80_iterado\n",
      "120_iterado\n",
      "40_iterado\n",
      "70_iterado\n",
      "41_iterado\n",
      "81_iterado\n",
      "95_iterado\n",
      "125_iterado\n",
      "15_iterado\n",
      "60_iterado\n",
      "70_iterado\n",
      "90_iterado\n",
      "75_iterado\n",
      "165_iterado\n",
      "40_iterado\n",
      "70_iterado\n",
      "68_iterado\n",
      "50_iterado\n",
      "150_iterado\n",
      "23_iterado\n",
      "50_iterado\n",
      "120_iterado\n",
      "40_iterado\n",
      "60_iterado\n",
      "80_iterado\n",
      "64_iterado\n",
      "104_iterado\n",
      "84_iterado\n",
      "90_iterado\n",
      "30_iterado\n",
      "75_iterado\n",
      "95_iterado\n",
      "145_iterado\n",
      "55_iterado\n",
      "75_iterado\n",
      "145_iterado\n",
      "100_iterado\n",
      "50_iterado\n",
      "75_iterado\n",
      "100_iterado\n",
      "130_iterado\n",
      "150_iterado\n",
      "180_iterado\n",
      "180_iterado\n",
      "100_iterado\n",
      "95_iterado\n",
      "68_iterado\n",
      "89_iterado\n",
      "109_iterado\n",
      "58_iterado\n",
      "78_iterado\n",
      "104_iterado\n",
      "51_iterado\n",
      "66_iterado\n",
      "86_iterado\n",
      "55_iterado\n",
      "75_iterado\n",
      "120_iterado\n",
      "45_iterado\n",
      "85_iterado\n",
      "25_iterado\n",
      "85_iterado\n",
      "65_iterado\n",
      "85_iterado\n",
      "120_iterado\n",
      "30_iterado\n",
      "70_iterado\n",
      "125_iterado\n",
      "165_iterado\n",
      "42_iterado\n",
      "52_iterado\n",
      "29_iterado\n",
      "69_iterado\n",
      "94_iterado\n",
      "30_iterado\n",
      "80_iterado\n",
      "45_iterado\n",
      "65_iterado\n",
      "105_iterado\n",
      "35_iterado\n",
      "60_iterado\n",
      "48_iterado\n",
      "83_iterado\n",
      "100_iterado\n",
      "50_iterado\n",
      "80_iterado\n",
      "66_iterado\n",
      "136_iterado\n",
      "60_iterado\n",
      "125_iterado\n",
      "55_iterado\n",
      "82_iterado\n",
      "30_iterado\n",
      "63_iterado\n",
      "93_iterado\n",
      "24_iterado\n",
      "89_iterado\n",
      "80_iterado\n",
      "25_iterado\n",
      "5_iterado\n",
      "65_iterado\n",
      "92_iterado\n",
      "70_iterado\n",
      "90_iterado\n",
      "170_iterado\n",
      "85_iterado\n",
      "70_iterado\n",
      "145_iterado\n",
      "72_iterado\n",
      "112_iterado\n",
      "50_iterado\n",
      "90_iterado\n",
      "61_iterado\n",
      "106_iterado\n",
      "100_iterado\n",
      "49_iterado\n",
      "69_iterado\n",
      "20_iterado\n",
      "62_iterado\n",
      "132_iterado\n",
      "120_iterado\n",
      "70_iterado\n",
      "85_iterado\n",
      "140_iterado\n",
      "100_iterado\n",
      "123_iterado\n",
      "95_iterado\n",
      "50_iterado\n",
      "76_iterado\n",
      "110_iterado\n",
      "60_iterado\n",
      "95_iterado\n",
      "130_iterado\n",
      "80_iterado\n",
      "165_iterado\n",
      "55_iterado\n",
      "100_iterado\n",
      "80_iterado\n",
      "65_iterado\n",
      "75_iterado\n",
      "105_iterado\n",
      "125_iterado\n",
      "120_iterado\n",
      "120_iterado\n",
      "90_iterado\n",
      "160_iterado\n",
      "120_iterado\n",
      "70_iterado\n",
      "80_iterado\n",
      "100_iterado\n",
      "90_iterado\n",
      "103_iterado\n",
      "120_iterado\n",
      "100_iterado\n",
      "45_iterado\n",
      "60_iterado\n",
      "75_iterado\n",
      "63_iterado\n",
      "93_iterado\n",
      "123_iterado\n",
      "55_iterado\n",
      "75_iterado\n",
      "100_iterado\n",
      "55_iterado\n",
      "85_iterado\n",
      "60_iterado\n",
      "80_iterado\n",
      "110_iterado\n",
      "50_iterado\n",
      "88_iterado\n",
      "53_iterado\n",
      "98_iterado\n",
      "53_iterado\n",
      "98_iterado\n",
      "53_iterado\n",
      "98_iterado\n",
      "25_iterado\n",
      "55_iterado\n",
      "55_iterado\n",
      "77_iterado\n",
      "115_iterado\n",
      "60_iterado\n",
      "100_iterado\n",
      "75_iterado\n",
      "105_iterado\n",
      "135_iterado\n",
      "45_iterado\n",
      "57_iterado\n",
      "85_iterado\n",
      "135_iterado\n",
      "60_iterado\n",
      "80_iterado\n",
      "105_iterado\n",
      "140_iterado\n",
      "50_iterado\n",
      "65_iterado\n",
      "95_iterado\n",
      "100_iterado\n",
      "125_iterado\n",
      "53_iterado\n",
      "63_iterado\n",
      "103_iterado\n",
      "45_iterado\n",
      "55_iterado\n",
      "100_iterado\n",
      "27_iterado\n",
      "67_iterado\n",
      "35_iterado\n",
      "60_iterado\n",
      "92_iterado\n",
      "72_iterado\n",
      "82_iterado\n",
      "117_iterado\n",
      "90_iterado\n",
      "30_iterado\n",
      "86_iterado\n",
      "65_iterado\n",
      "105_iterado\n",
      "75_iterado\n",
      "90_iterado\n",
      "58_iterado\n",
      "30_iterado\n",
      "50_iterado\n",
      "78_iterado\n",
      "108_iterado\n",
      "112_iterado\n",
      "140_iterado\n",
      "50_iterado\n",
      "95_iterado\n",
      "65_iterado\n",
      "105_iterado\n",
      "50_iterado\n",
      "95_iterado\n",
      "30_iterado\n",
      "45_iterado\n",
      "55_iterado\n",
      "30_iterado\n",
      "40_iterado\n",
      "65_iterado\n",
      "44_iterado\n",
      "87_iterado\n",
      "50_iterado\n",
      "65_iterado\n",
      "95_iterado\n",
      "60_iterado\n",
      "100_iterado\n",
      "75_iterado\n",
      "75_iterado\n",
      "135_iterado\n",
      "55_iterado\n",
      "85_iterado\n",
      "40_iterado\n",
      "60_iterado\n",
      "75_iterado\n",
      "47_iterado\n",
      "77_iterado\n",
      "50_iterado\n",
      "94_iterado\n",
      "55_iterado\n",
      "80_iterado\n",
      "100_iterado\n",
      "55_iterado\n",
      "85_iterado\n",
      "115_iterado\n",
      "55_iterado\n",
      "75_iterado\n",
      "30_iterado\n",
      "40_iterado\n",
      "55_iterado\n",
      "87_iterado\n",
      "117_iterado\n",
      "147_iterado\n",
      "70_iterado\n",
      "130_iterado\n",
      "50_iterado\n",
      "40_iterado\n",
      "70_iterado\n",
      "66_iterado\n",
      "85_iterado\n",
      "125_iterado\n",
      "120_iterado\n",
      "74_iterado\n",
      "124_iterado\n",
      "85_iterado\n",
      "125_iterado\n",
      "110_iterado\n",
      "83_iterado\n",
      "123_iterado\n",
      "55_iterado\n",
      "65_iterado\n",
      "97_iterado\n",
      "109_iterado\n",
      "65_iterado\n",
      "85_iterado\n",
      "105_iterado\n",
      "85_iterado\n",
      "60_iterado\n",
      "90_iterado\n",
      "129_iterado\n",
      "90_iterado\n",
      "100_iterado\n",
      "105_iterado\n",
      "120_iterado\n",
      "150_iterado\n",
      "145_iterado\n",
      "120_iterado\n",
      "72_iterado\n",
      "128_iterado\n",
      "120_iterado\n",
      "61_iterado\n",
      "78_iterado\n",
      "107_iterado\n",
      "45_iterado\n",
      "59_iterado\n",
      "69_iterado\n",
      "56_iterado\n",
      "63_iterado\n",
      "145_iterado\n",
      "36_iterado\n",
      "56_iterado\n",
      "50_iterado\n",
      "73_iterado\n",
      "81_iterado\n",
      "35_iterado\n",
      "22_iterado\n",
      "52_iterado\n",
      "50_iterado\n",
      "68_iterado\n",
      "38_iterado\n",
      "65_iterado\n",
      "65_iterado\n",
      "65_iterado\n",
      "100_iterado\n",
      "82_iterado\n",
      "124_iterado\n",
      "80_iterado\n",
      "48_iterado\n",
      "48_iterado\n",
      "80_iterado\n",
      "110_iterado\n",
      "150_iterado\n",
      "52_iterado\n",
      "72_iterado\n",
      "48_iterado\n",
      "80_iterado\n",
      "54_iterado\n",
      "92_iterado\n",
      "52_iterado\n",
      "105_iterado\n",
      "60_iterado\n",
      "75_iterado\n",
      "53_iterado\n",
      "73_iterado\n",
      "38_iterado\n",
      "55_iterado\n",
      "89_iterado\n",
      "121_iterado\n",
      "59_iterado\n",
      "77_iterado\n",
      "65_iterado\n",
      "92_iterado\n",
      "58_iterado\n",
      "50_iterado\n",
      "50_iterado\n",
      "75_iterado\n",
      "100_iterado\n",
      "80_iterado\n",
      "70_iterado\n",
      "110_iterado\n",
      "66_iterado\n",
      "100_iterado\n",
      "69_iterado\n",
      "117_iterado\n",
      "30_iterado\n",
      "70_iterado\n",
      "131_iterado\n",
      "131_iterado\n",
      "100_iterado\n",
      "160_iterado\n",
      "160_iterado\n",
      "110_iterado\n",
      "55_iterado\n",
      "75_iterado\n",
      "107_iterado\n",
      "65_iterado\n",
      "85_iterado\n",
      "115_iterado\n",
      "54_iterado\n",
      "69_iterado\n",
      "74_iterado\n",
      "75_iterado\n",
      "85_iterado\n",
      "120_iterado\n",
      "70_iterado\n",
      "110_iterado\n",
      "62_iterado\n",
      "82_iterado\n",
      "70_iterado\n",
      "82_iterado\n",
      "132_iterado\n",
      "70_iterado\n",
      "45_iterado\n",
      "55_iterado\n",
      "65_iterado\n",
      "115_iterado\n",
      "140_iterado\n",
      "53_iterado\n",
      "63_iterado\n",
      "100_iterado\n",
      "125_iterado\n",
      "40_iterado\n",
      "70_iterado\n",
      "55_iterado\n",
      "105_iterado\n",
      "35_iterado\n",
      "45_iterado\n",
      "44_iterado\n",
      "64_iterado\n",
      "75_iterado\n",
      "125_iterado\n",
      "30_iterado\n",
      "40_iterado\n",
      "120_iterado\n",
      "52_iterado\n",
      "60_iterado\n",
      "120_iterado\n",
      "35_iterado\n",
      "125_iterado\n",
      "55_iterado\n",
      "75_iterado\n",
      "60_iterado\n",
      "95_iterado\n",
      "95_iterado\n",
      "100_iterado\n",
      "115_iterado\n",
      "78_iterado\n",
      "98_iterado\n",
      "90_iterado\n",
      "105_iterado\n",
      "60_iterado\n",
      "131_iterado\n",
      "55_iterado\n",
      "75_iterado\n",
      "110_iterado\n",
      "115_iterado\n",
      "85_iterado\n",
      "130_iterado\n",
      "75_iterado\n",
      "29_iterado\n",
      "29_iterado\n",
      "137_iterado\n",
      "113_iterado\n",
      "53_iterado\n",
      "139_iterado\n",
      "137_iterado\n",
      "89_iterado\n",
      "101_iterado\n",
      "181_iterado\n",
      "101_iterado\n",
      "107_iterado\n",
      "95_iterado\n"
     ]
    }
   ],
   "source": [
    "for indice, renglon in df.iterrows():\n",
    "    print(str(renglon['attack'])+'_iterado')"
   ]
  },
  {
   "cell_type": "markdown",
   "metadata": {},
   "source": [
    "**itertuples**"
   ]
  },
  {
   "cell_type": "markdown",
   "metadata": {},
   "source": [
    "Muy parecida pero con tuplas especiales de pandas, también conocidas como tuplas nombradas. Mucho más rápido que iterrow pero no funciona la notación de bracket df['attack'] tienes que usar notación de punto df.attack. Si tus columnas tienen nombres feos le vas a batallar para accesarlas."
   ]
  },
  {
   "cell_type": "code",
   "execution_count": 39,
   "metadata": {},
   "outputs": [
    {
     "name": "stdout",
     "output_type": "stream",
     "text": [
      "49_iterado\n"
     ]
    }
   ],
   "source": [
    "for renglon in df.iloc[0:1,:].itertuples():\n",
    "    print(str(renglon.attack)+'_iterado')"
   ]
  },
  {
   "cell_type": "markdown",
   "metadata": {},
   "source": [
    "**sin iterar a mano**"
   ]
  },
  {
   "cell_type": "markdown",
   "metadata": {},
   "source": [
    "Iterar a mano los dataframes siempre es mala idea y lento. Intenta hacer operaciones con métodos o directamente sobre las series del dataframe cuando sea posible. Te ahorrarás tiempo y dolores de cabeza. "
   ]
  },
  {
   "cell_type": "code",
   "execution_count": 40,
   "metadata": {},
   "outputs": [
    {
     "data": {
      "text/plain": [
       "0       49_técnicamente iterado\n",
       "1       62_técnicamente iterado\n",
       "2      100_técnicamente iterado\n",
       "3       52_técnicamente iterado\n",
       "4       64_técnicamente iterado\n",
       "                 ...           \n",
       "796    101_técnicamente iterado\n",
       "797    181_técnicamente iterado\n",
       "798    101_técnicamente iterado\n",
       "799    107_técnicamente iterado\n",
       "800     95_técnicamente iterado\n",
       "Name: attack, Length: 801, dtype: object"
      ]
     },
     "execution_count": 40,
     "metadata": {},
     "output_type": "execute_result"
    }
   ],
   "source": [
    "df['attack'].astype('str')+'_técnicamente iterado'"
   ]
  },
  {
   "cell_type": "markdown",
   "metadata": {},
   "source": [
    "OJO: que este método nos regresó una SERIE con los resultados de las iteraciones, mientras los otros métodos nos regresan valores individuales. Otra razón por la cuál iterar suele ser mala idea."
   ]
  },
  {
   "cell_type": "markdown",
   "metadata": {},
   "source": [
    "Más adelante veremos apply y transform para hacer las iteraciones más rápidas"
   ]
  }
 ],
 "metadata": {
  "kernelspec": {
   "display_name": "Python 3.8.10 ('venv': venv)",
   "language": "python",
   "name": "python3"
  },
  "language_info": {
   "codemirror_mode": {
    "name": "ipython",
    "version": 3
   },
   "file_extension": ".py",
   "mimetype": "text/x-python",
   "name": "python",
   "nbconvert_exporter": "python",
   "pygments_lexer": "ipython3",
   "version": "3.8.10"
  },
  "vscode": {
   "interpreter": {
    "hash": "6e6bfa47c5f9b440aebca8a0d5a5bb8eead294e8e66d3c9d96f3fbf5d6d606f8"
   }
  }
 },
 "nbformat": 4,
 "nbformat_minor": 4
}
